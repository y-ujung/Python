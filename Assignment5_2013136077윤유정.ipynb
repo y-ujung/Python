{
 "cells": [
  {
   "cell_type": "markdown",
   "metadata": {},
   "source": [
    "# Assignment5_2013136077윤유정"
   ]
  },
  {
   "cell_type": "markdown",
   "metadata": {
    "collapsed": true
   },
   "source": [
    "## 문제 1\n",
    "- 클래스와 모듈의 공통점과 차이점에 대해 설명하시오."
   ]
  },
  {
   "cell_type": "markdown",
   "metadata": {
    "collapsed": true
   },
   "source": [
    "클래스와 모듈 모두 프로그램을 재사용을 쉽게 하기 위해 사용한다는 점이 같다. 두 가지 모두 이름공간을 가지고 있지만 모듈은 파일 단위로 이름공간을 구성하고 클래스는 클래스 영역과 인스턴스 영역에 이름공간을 구성한다."
   ]
  },
  {
   "cell_type": "markdown",
   "metadata": {},
   "source": [
    "## 문제 2\n",
    "- 다형성에 대해 설명하고 다형성을 보여주는 자신만의 파이썬 코드 예제를 제시하시오."
   ]
  },
  {
   "cell_type": "markdown",
   "metadata": {},
   "source": [
    "    - 다형성이란 상속 관계 내에 있는 각 클래스의 인스턴스들이 같은 함수 호출에 대해 다른 행동을 하도록 하는 기능이다"
   ]
  },
  {
   "cell_type": "code",
   "execution_count": 32,
   "metadata": {
    "collapsed": false
   },
   "outputs": [
    {
     "name": "stdout",
     "output_type": "stream",
     "text": [
      "야옹\n",
      "멍멍멍\n",
      "꽥\n"
     ]
    }
   ],
   "source": [
    "class Animal :\n",
    "    def bark(self) :\n",
    "        print'----'\n",
    "\n",
    "class Cat(Animal) :\n",
    "    def bark(self) :\n",
    "        print'야옹'\n",
    "        \n",
    "class Dog(Animal) :\n",
    "    def bark(self) :\n",
    "        print'멍멍멍'\n",
    "        \n",
    "class Duck(Animal) :\n",
    "    def bark(self) :\n",
    "        print'꽥'\n",
    "        \n",
    "for i in (Cat(), Dog(), Duck()) :\n",
    "    i.bark()"
   ]
  },
  {
   "cell_type": "markdown",
   "metadata": {},
   "source": [
    "## 문제 3\n",
    "- 다음 각 요구사항 모두를 만족시키는 Counter 클래스를 코딩하시오 (정답을 각 요구사항별로 입력할 필요 없이 3번 문제에 대해 1개의 클래스 정의 코드를 제시하면 된다.)"
   ]
  },
  {
   "cell_type": "code",
   "execution_count": 33,
   "metadata": {
    "collapsed": false
   },
   "outputs": [],
   "source": [
    "class Counter :\n",
    "    def __init__(self, count, step=1) :\n",
    "        self.count = count\n",
    "        self.step = step\n",
    "    def __str__(self) :\n",
    "        return '[Count(step: %d) %d]' %(self.step, self.count)\n",
    "    def incr(self) :\n",
    "        self.count += self.step\n",
    "    def __call__(self) :\n",
    "        self.incr()\n",
    "    def __add__(self, num) :\n",
    "        return '[Count(step: %d) %d]' %(self.step, self.count+num)\n",
    "    def __sub__(self, num) :\n",
    "        return '[Count(step: %d) %d]' %(self.step, self.count-num)\n",
    "    def __cmp__(self, num) :\n",
    "        return self.count - num"
   ]
  },
  {
   "cell_type": "code",
   "execution_count": 34,
   "metadata": {
    "collapsed": false
   },
   "outputs": [
    {
     "name": "stdout",
     "output_type": "stream",
     "text": [
      "[Count(step: 1) 10]\n",
      "[Count(step: 2) 10]\n",
      "\n",
      "[Count(step: 1) 11]\n",
      "[Count(step: 2) 12]\n",
      "\n",
      "[Count(step: 1) 12]\n",
      "[Count(step: 2) 14]\n",
      "[Count(step: 1) 17]\n",
      "[Count(step: 2) 9]\n",
      "\n",
      "True\n",
      "True\n",
      "False\n",
      "True\n",
      "False\n",
      "True\n"
     ]
    }
   ],
   "source": [
    "# 1\n",
    "c = Counter(10)\n",
    "d = Counter(10,2)\n",
    "\n",
    "#2\n",
    "print c\n",
    "print d\n",
    "print\n",
    "\n",
    "#3\n",
    "c.incr()\n",
    "d.incr()\n",
    "print c\n",
    "print d\n",
    "print\n",
    "\n",
    "#4\n",
    "c()\n",
    "d()\n",
    "print c\n",
    "print d\n",
    "\n",
    "#5\n",
    "c = c+5\n",
    "d = d-5\n",
    "print c\n",
    "print d\n",
    "print\n",
    "\n",
    "#6\n",
    "print c > 10\n",
    "print d > 10\n",
    "print c < 10\n",
    "print d > 10\n",
    "print c == 17\n",
    "print d!= 9"
   ]
  },
  {
   "cell_type": "markdown",
   "metadata": {},
   "source": [
    "## 문제 4\n",
    "-다음은 내장 자료형 list를 서브클래싱하여 만든 MySet 클래스 정의 내용이다. 다음 클래스 정의에서 __init__(), __str()__(), elimicate_duplicate()의 세 개의 메소드 코드 내용을 자신이 다른 사람에게 가르친다고 생각하며 설명해보시오.\n",
    "    - MySet은 집합(Set) 자료형을 정의하려는 의도하에 만들어진 클래스이다."
   ]
  },
  {
   "cell_type": "code",
   "execution_count": 35,
   "metadata": {
    "collapsed": false
   },
   "outputs": [
    {
     "name": "stdout",
     "output_type": "stream",
     "text": [
      "MySet: {1 ,2 ,3}\n",
      "MySet: {2 ,3 ,4 ,5 ,6 ,7 ,8 ,9}\n"
     ]
    }
   ],
   "source": [
    "class MySet(list):\n",
    "    def __init__(self, l):\n",
    "        for e in l:\n",
    "            self.append(e)\n",
    "        MySet.eliminate_duplicate(self)\n",
    "    \n",
    "    def __str__(self):\n",
    "        result = \"MySet: {\"\n",
    "        for e in self:\n",
    "            result = result + str(e) + \" ,\"\n",
    "        result = result[0:len(result)-2] + \"}\"\n",
    "        return result\n",
    "\n",
    "    @staticmethod    \n",
    "    def eliminate_duplicate(l):\n",
    "        s = []\n",
    "        for e in l:\n",
    "            if e not in s:\n",
    "                s.append(e)\n",
    "        l[:] = []\n",
    "        for e in s:\n",
    "            l.append(e)\n",
    "\n",
    "    \n",
    "if __name__ == \"__main__\":\n",
    "    s = MySet([1, 2, 2, 3])\n",
    "    print s\n",
    "    t = MySet([2, 3, 4, 5, 6, 7, 8, 8, 8, 8, 8, 9])\n",
    "    print t"
   ]
  },
  {
   "cell_type": "markdown",
   "metadata": {},
   "source": [
    "> \\_\\_init\\_\\_는 생성자를 만드는 함수이다.<br></br>\n",
    " \\_\\_str\\_\\_는 출력하는 함수이다.<br></br>\n",
    " eliminate_duplicate는 입력받은 리스트에서 중복을 제거하며 새로운 리스트에 저장하는 함수이다.<br></br>"
   ]
  },
  {
   "cell_type": "markdown",
   "metadata": {},
   "source": [
    "## 문제 5\n",
    "4번 문제에 정의된 MySet 클래스에 메소드를 추가하여 다음 각 요구사항 모두를 만족시키는 코딩을 제시하시오\n",
    "\n",
    "- 정답을 각 요구사항별로 입력할 필요 없이 요구사항 3개 전체에 대해 1개의 MySet 클래스 정의 코드를 제시하고 주석등으로 해당 코드를 설명한다.\n",
    "- 요구사항 1. | 연산으로 두 집합의 합집합을 반환한다.\n",
    "> \\>\\>\\> u = s | t <br></br>\n",
    "\\>\\>\\> print u <br></br>\n",
    "MySet: {1, 2, 3, 4, 5, 6, 7, 8, 9} <br></br>\n",
    "- 요구사항 2. & 연산으로 두 집합의 교집합을 반환한다.\n",
    "> \\>\\>\\> u = s & t <br></br>\n",
    "\\>\\>\\> print u <br></br>\n",
    "MySet: {2, 3} <br></br>\n",
    "- 요구사항 3. - 연산으로 두 집합의 차집합을 반환한다.\n",
    "> \\>\\>\\> s = MySet([1, 2, 3]) <br></br>\n",
    "\\>\\>\\> t = MySet([3, 4, 5]) <br></br>\n",
    "\\>\\>\\> u = s - t <br></br>\n",
    "\\>\\>\\> print u <br></br>\n",
    "MySet: {1, 2} <br></br>"
   ]
  },
  {
   "cell_type": "code",
   "execution_count": 36,
   "metadata": {
    "collapsed": false
   },
   "outputs": [
    {
     "name": "stdout",
     "output_type": "stream",
     "text": [
      "MySet: {1 ,2 ,3}\n",
      "MySet: {2 ,3 ,4 ,5 ,6 ,7 ,8 ,9}\n",
      "MySet: {1 ,2 ,3 ,4 ,5 ,6 ,7 ,8 ,9}\n",
      "MySet: {2 ,3 ,4 ,5 ,6 ,7 ,8 ,9}\n",
      "MySet: {1 ,2}\n"
     ]
    }
   ],
   "source": [
    "class MySet(list):\n",
    "    def __init__(self, l):\n",
    "        for e in l:\n",
    "            self.append(e)\n",
    "        MySet.eliminate_duplicate(self)\n",
    "    \n",
    "    def __str__(self):\n",
    "        result = \"MySet: {\"\n",
    "        for e in self:\n",
    "            result = result + str(e) + \" ,\"\n",
    "        result = result[0:len(result)-2] + \"}\"\n",
    "        return result\n",
    "\n",
    "    @staticmethod    \n",
    "    def eliminate_duplicate(l):\n",
    "        s = []\n",
    "        for e in l:\n",
    "            if e not in s:\n",
    "                s.append(e)\n",
    "        l[:] = []\n",
    "        for e in s:\n",
    "            l.append(e)\n",
    "            \n",
    "    def __or__(self, tmp) :\n",
    "        for x in tmp :\n",
    "            if x not in self :\n",
    "                self.append(x)\n",
    "        return MySet(self)\n",
    "    \n",
    "    def __and__(self, tmp) :\n",
    "        for x in self :\n",
    "            if x not in tmp :\n",
    "                self.remove(x)\n",
    "        return MySet(self)\n",
    "       \n",
    "    def __sub__(self, tmp) :\n",
    "        for x in self :\n",
    "            if x in tmp :\n",
    "                self.remove(x)\n",
    "        return MySet(self)\n",
    "\n",
    "    \n",
    "if __name__ == \"__main__\":\n",
    "    s = MySet([1, 2, 2, 3])\n",
    "    print s\n",
    "    t = MySet([2, 3, 4, 5, 6, 7, 8, 8, 8, 8, 8, 9])\n",
    "    print t\n",
    "    u = s | t \n",
    "    print u \n",
    "    u = s & t \n",
    "    print u \n",
    "    s = MySet([1, 2, 3]) \n",
    "    t = MySet([3, 4, 5]) \n",
    "    u = s - t \n",
    "    print u "
   ]
  },
  {
   "cell_type": "markdown",
   "metadata": {},
   "source": [
    "## 문제 6\n",
    "5번 문제에서 정의한 MySet 클래스에 대해 다음 예제를 수행하면 오류없이 올바르게 동작하는 것을 확인할 수 있다. 다음 예제 내에 있는 len(), bool() 내장함수와 in 키워드 사용 예제가 별다른 메소드 정의를 하지 않았는 데도 올바르게 수행되는 이유를 설명하시오.\n",
    "\n",
    "    >>> s = MySet([1, 2, 3, 4, 5, 6])\n",
    "    >>> print len(s)\n",
    "    > 6\n",
    "    >>> print bool(s)\n",
    "    > True\n",
    "    >>> print 2 in s\n",
    "    > True"
   ]
  },
  {
   "cell_type": "markdown",
   "metadata": {
    "collapsed": true
   },
   "source": [
    "- 내장함수로 존재하기 때문에 따로 정의하지 않아도 올바르게 동작한다."
   ]
  },
  {
   "cell_type": "markdown",
   "metadata": {},
   "source": [
    "## 문제 7\n",
    "- [프로젝트 오일러 문제 16] 215 = 32768 의 각 자리수를 더하면 3 + 2 + 7 + 6 + 8 = 26 입니다.2^1000의 각 자리수를 모두 더하면 얼마입니까?"
   ]
  },
  {
   "cell_type": "code",
   "execution_count": 41,
   "metadata": {
    "collapsed": false
   },
   "outputs": [
    {
     "name": "stdout",
     "output_type": "stream",
     "text": [
      "1366\n"
     ]
    }
   ],
   "source": [
    "num = 2**1000\n",
    "l = list(str(num))\n",
    "\n",
    "sum=0\n",
    "for i in l :\n",
    "    sum += int(i)\n",
    "print sum"
   ]
  },
  {
   "cell_type": "markdown",
   "metadata": {},
   "source": [
    "## 문제 8\n",
    "+ [프로젝트 오일러 문제 17] 1부터 5까지의 숫자를 영어로 쓰면 one, two, three, four, five 이고, 각 단어의 길이를 더하면 3 + 3 + 5 + 4 + 4 = 19 이므로 사용된 글자는 모두 19개입니다. 1부터 1,000까지 영어로 썼을 때는 모두 몇 개의 글자를 사용해야 할까요?<br></br>\n",
    "참고: 빈 칸이나 하이픈('-')은 셈에서 제외하며, 단어 사이의 and 는 셈에 넣습니다.<br></br> 예를 들어 342를 영어로 쓰면 three hundred and forty-two 가 되어서 23 글자, 115 = one hundred and fifteen 의 경우에는 20 글자가 됩니다."
   ]
  },
  {
   "cell_type": "code",
   "execution_count": 45,
   "metadata": {
    "collapsed": false
   },
   "outputs": [
    {
     "name": "stdout",
     "output_type": "stream",
     "text": [
      "21124\n"
     ]
    }
   ],
   "source": [
    "def fun(i) :\n",
    "    s =''\n",
    "    while(i>0) :\n",
    "        if i == 1000:\n",
    "            s += 'onethousand'\n",
    "            i=0\n",
    "            \n",
    "        if i >= 100:\n",
    "            if i % 100 == 0: \n",
    "                s += fun(i/100)+'hundred'\n",
    "            else:  \n",
    "                s += fun(i/100)+'hundredand'\n",
    "            i%=100\n",
    "            \n",
    "        if i >= 20:    \n",
    "            s += ['','','twenty', 'thirty', 'fourty', 'fifty', 'sixty', 'seventy', 'eighty', 'ninty'][i/10]\n",
    "            i%=10\n",
    "        else:\n",
    "            s += ['', 'one', 'two', 'three', 'four', 'five', 'six', 'seven', 'eight', 'nine', 'ten', 'eleven', 'twelve', 'thirteen', 'fourteen', 'fifteen', 'sixteen', 'seventeen', 'eighteen', 'nineteen'][i]\n",
    "            i=0\n",
    "    return s\n",
    "\n",
    "i = 0\n",
    "sum = 0\n",
    "for i in range(1, 1001) :\n",
    "    sum += len(fun(i))\n",
    "print sum"
   ]
  },
  {
   "cell_type": "markdown",
   "metadata": {},
   "source": [
    "## 문제 9\n",
    "+ [프로젝트 오일러 문제 18] 다음과 같이 삼각형 모양으로 숫자를 배열했습니다.합이 최대가 되는 경로를 찾아서 그 합을 구하세요.\n",
    "\n",
    "        75\n",
    "        95 64\n",
    "        17 47 82\n",
    "        18 35 87 10\n",
    "        20 04 82 47 65\n",
    "        19 01 23 75 03 34\n",
    "        88 02 77 73 07 63 67\n",
    "        99 65 04 28 06 16 70 92\n",
    "        41 41 26 56 83 40 80 70 33\n",
    "        41 48 72 33 47 32 37 16 94 29\n",
    "        53 71 44 65 25 43 91 52 97 51 14\n",
    "        70 11 33 28 77 73 17 78 39 68 17 57\n",
    "        91 71 52 38 17 14 91 43 58 50 27 29 48\n",
    "        63 66 04 68 89 53 67 30 73 16 69 87 40 31\n",
    "        04 62 98 27 23 09 70 98 73 93 38 53 60 04 23\n",
    "\n",
    "참고: 여기서는 경로가 16384개밖에 안되기 때문에, 모든 경로의 합을 일일이 계산해서 답을 구하는 것이 가능합니다. 하지만 67번 문제에는 100층짜리 삼각형 배열이 나옵니다. 그런 경우에는 좀 더 현명한 풀이 방법을 찾아야겠지요."
   ]
  },
  {
   "cell_type": "code",
   "execution_count": 99,
   "metadata": {
    "collapsed": true
   },
   "outputs": [],
   "source": [
    "s = '''75\n",
    "95 64\n",
    "17 47 82\n",
    "18 35 87 10\n",
    "20 04 82 47 65\n",
    "19 01 23 75 03 34\n",
    "88 02 77 73 07 63 67\n",
    "99 65 04 28 06 16 70 92\n",
    "41 41 26 56 83 40 80 70 33\n",
    "41 48 72 33 47 32 37 16 94 29\n",
    "53 71 44 65 25 43 91 52 97 51 14\n",
    "70 11 33 28 77 73 17 78 39 68 17 57\n",
    "91 71 52 38 17 14 91 43 58 50 27 29 48\n",
    "63 66 04 68 89 53 67 30 73 16 69 87 40 31\n",
    "04 62 98 27 23 09 70 98 73 93 38 53 60 04 23'''"
   ]
  },
  {
   "cell_type": "code",
   "execution_count": 103,
   "metadata": {
    "collapsed": false
   },
   "outputs": [
    {
     "name": "stdout",
     "output_type": "stream",
     "text": [
      "1074\n"
     ]
    }
   ],
   "source": [
    "l = []\n",
    "for line in s.split('\\n'):\n",
    "    l.append([int(num) for num in line.split()]) #이부분은 검색해서 찾은 것을 긁어넣었습니다.\n",
    "\n",
    "for r in range(13, -1, -1):\n",
    "    for c in range(r+1):\n",
    "        if l[r+1][c] > l[r+1][c+1] :\n",
    "            l[r][c] += l[r+1][c]\n",
    "        else :\n",
    "            l[r][c] += l[r+1][c+1]\n",
    "            \n",
    "print l[0][0]"
   ]
  },
  {
   "cell_type": "markdown",
   "metadata": {},
   "source": [
    "## 문제 10\n",
    "이전 Assignment 3 (Assignment 4가 아님)의 마지막 문제는 웹 URL로 지정된 웹페이지를 문자열로 가져와 모든 HTML 태그 및 CSS와 Javascript를 제외한 순수 텍스트를 얻어내고 그 안에 존재하는 단어를 추출하여 각 단어들에 대해 출현빈도를 사전형태({'world': 2, 'hello': 1, 'python': 1})로 저장하여 출력하는 것이었다. 이번에는 Assignment 3을 다시 확장/변형하여 다음과 같은 조건을 만족하도록 구현하시오."
   ]
  },
  {
   "cell_type": "code",
   "execution_count": 106,
   "metadata": {
    "collapsed": true
   },
   "outputs": [],
   "source": [
    "# 기존 코드 수정\n",
    "import urllib2\n",
    "import string\n",
    "\n",
    "def FindText(source) :\n",
    "    while(1) :\n",
    "        if source.find('<!-') == -1 :\n",
    "            break;\n",
    "        source = source.replace(source[source.find('<!-'):source.find('->')+2:],'')\n",
    "\n",
    "    while(1) :\n",
    "        if source.find('<') == -1 :\n",
    "            break;\n",
    "        source = source.replace(source[source.find('<'):source.find('>')+1:],'')\n",
    "    return source\n",
    "\n",
    "def DeletePunctuation(source) :\n",
    "    p = string.punctuation\n",
    "    for i in range (len(p)):\n",
    "        source= source.replace(p[i],\"\")\n",
    "    return source\n",
    "\n",
    "def DeleteStropWord(wordlist) :\n",
    "    stropwordlist = [ 'A','a', 'and', 'are', 'as', 'at', 'be', 'but','But', 'by', 'for', 'if','If', 'in', 'into', 'is', 'it','It', 'no','No', 'not','Not', 'of', 'on', 'or', 's', 'such', 't', 'that','That', 'the','The', 'their','Their', 'then','Then', 'there','There', 'these','These', 'they','They', 'this','This', 'to', 'was', 'will', 'with']\n",
    "    for i in range (len(wordlist)) :\n",
    "        for j in range (len(stropwordlist)) :\n",
    "            if wordlist[i] == stropwordlist[j] :\n",
    "                wordlist[i] = \"\"\n",
    "    return wordlist\n",
    "\n",
    "def DicWord(wordlist) :\n",
    "    worddic = {}\n",
    "    for word in wordlist :\n",
    "        if worddic.get(word) == None :\n",
    "            worddic[word] = 1\n",
    "        else :\n",
    "            worddic[word] += 1\n",
    "    return worddic"
   ]
  }
 ],
 "metadata": {
  "anaconda-cloud": {},
  "kernelspec": {
   "display_name": "Python [Root]",
   "language": "python",
   "name": "Python [Root]"
  },
  "language_info": {
   "codemirror_mode": {
    "name": "ipython",
    "version": 2
   },
   "file_extension": ".py",
   "mimetype": "text/x-python",
   "name": "python",
   "nbconvert_exporter": "python",
   "pygments_lexer": "ipython2",
   "version": "2.7.12"
  }
 },
 "nbformat": 4,
 "nbformat_minor": 0
}
