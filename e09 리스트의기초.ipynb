{
 "cells": [
  {
   "cell_type": "code",
   "execution_count": 14,
   "metadata": {
    "collapsed": false
   },
   "outputs": [
    {
     "name": "stdout",
     "output_type": "stream",
     "text": [
      "['a', 'b', 20, 100]\n",
      "['x', 'y', 20, 100]\n",
      "['x', 'y', 'x', 'y', 20, 100]\n",
      "['xxx', 'yyy', 'zzz', 'x', 'y', 20, 100]\n",
      "['xxx', 'y', 20, 100]\n",
      "['xxx', 'y', 20, 100, 'xxx', 'y', 20, 100]\n"
     ]
    }
   ],
   "source": [
    "a = ['a', 'b', 10, 100]\n",
    "\n",
    "a[2] = a[2] * 2\n",
    "print a\n",
    "a[0:2] = ['x', 'y'] #치환\n",
    "print a\n",
    "a[0:0] = ['x', 'y'] #삽입\n",
    "print a\n",
    "a[0:2] = ['xxx', 'yyy', 'zzz']\n",
    "print a\n",
    "a[1:4]=[] #del a[1]\n",
    "print a\n",
    "a[:0] = a\n",
    "print a"
   ]
  },
  {
   "cell_type": "code",
   "execution_count": 20,
   "metadata": {
    "collapsed": false
   },
   "outputs": [
    {
     "name": "stdout",
     "output_type": "stream",
     "text": [
      "0 1 2\n"
     ]
    }
   ],
   "source": [
    "aaa, sss, ddd = range(3)\n",
    "print aaa, sss, ddd"
   ]
  },
  {
   "cell_type": "code",
   "execution_count": 27,
   "metadata": {
    "collapsed": false
   },
   "outputs": [
    {
     "name": "stdout",
     "output_type": "stream",
     "text": [
      "3\n",
      "2\n"
     ]
    }
   ],
   "source": [
    "lt = [('one', 1), ('two', 2), ('three', 3)]\n",
    "\n",
    "print len(lt)\n",
    "print len(lt[0])"
   ]
  },
  {
   "cell_type": "code",
   "execution_count": 29,
   "metadata": {
    "collapsed": false
   },
   "outputs": [
    {
     "name": "stdout",
     "output_type": "stream",
     "text": [
      "name : one - num : 1\n",
      "name : two - num : 2\n",
      "name : three - num : 3\n",
      "\n",
      "one 1\n",
      "two 2\n",
      "three 3\n"
     ]
    }
   ],
   "source": [
    "for t in lt : \n",
    "    print 'name :', t[0], '- num :', t[1]\n",
    "print    \n",
    "for name, num in lt :\n",
    "    print name, num"
   ]
  },
  {
   "cell_type": "code",
   "execution_count": 50,
   "metadata": {
    "collapsed": false
   },
   "outputs": [
    {
     "name": "stdout",
     "output_type": "stream",
     "text": [
      "[1, 2, 3, 2, 2, 'abc']\n",
      "[1, 2, 3, 2, 2, 'abc', ['x', 'y']]\n",
      "[1, 2, 3, 2, 2, 'abc', ['x', 'y'], 'x', 'y']\n",
      "[1, 2, 'z', 3, 2, 2, 'abc', ['x', 'y'], 'x', 'y']\n",
      "[1, 'z', 3, 2, 2, 'abc', ['x', 'y'], 'x', 'y']\n",
      "3\n",
      "2\n"
     ]
    }
   ],
   "source": [
    "s = [1, 2, 3, 2, 2]\n",
    "\n",
    "s.append(\"abc\")\n",
    "print s\n",
    "s.append(['x', 'y'])\n",
    "print s\n",
    "s.extend(['x', 'y'])\n",
    "print s\n",
    "s.insert(2, 'z')\n",
    "print s\n",
    "s.remove(2) #처음에 검색되는 값만 삭제\n",
    "print s\n",
    "print s.index(2)\n",
    "print s.count(2)"
   ]
  },
  {
   "cell_type": "code",
   "execution_count": 54,
   "metadata": {
    "collapsed": false
   },
   "outputs": [
    {
     "name": "stdout",
     "output_type": "stream",
     "text": [
      "[10, 20, 30, 40, 50, 60]\n",
      "60\n",
      "[10, 20, 30, 40, 50]\n",
      "30\n",
      "[10, 20, 40, 50]\n"
     ]
    }
   ],
   "source": [
    "st = [10, 20, 30, 40, 50]\n",
    "st.append(60)\n",
    "print st\n",
    "print st.pop()\n",
    "print st\n",
    "print st.pop(2)\n",
    "print st"
   ]
  },
  {
   "cell_type": "code",
   "execution_count": 55,
   "metadata": {
    "collapsed": false
   },
   "outputs": [
    {
     "name": "stdout",
     "output_type": "stream",
     "text": [
      "[10, 20, 30, 40, 50, 60]\n",
      "10\n",
      "[20, 30, 40, 50, 60]\n"
     ]
    }
   ],
   "source": [
    "sq = [10, 20, 30, 40, 50]\n",
    "sq.append(60)\n",
    "print sq\n",
    "print sq.pop(0)\n",
    "print sq"
   ]
  }
 ],
 "metadata": {
  "kernelspec": {
   "display_name": "Python [Root]",
   "language": "python",
   "name": "Python [Root]"
  },
  "language_info": {
   "codemirror_mode": {
    "name": "ipython",
    "version": 2
   },
   "file_extension": ".py",
   "mimetype": "text/x-python",
   "name": "python",
   "nbconvert_exporter": "python",
   "pygments_lexer": "ipython2",
   "version": "2.7.12"
  }
 },
 "nbformat": 4,
 "nbformat_minor": 0
}
