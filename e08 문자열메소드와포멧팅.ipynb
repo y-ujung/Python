{
 "cells": [
  {
   "cell_type": "code",
   "execution_count": 12,
   "metadata": {
    "collapsed": false
   },
   "outputs": [],
   "source": [
    "s = 'I like pROgramming. I like swimming'"
   ]
  },
  {
   "cell_type": "code",
   "execution_count": 13,
   "metadata": {
    "collapsed": false
   },
   "outputs": [
    {
     "name": "stdout",
     "output_type": "stream",
     "text": [
      "I LIKE PROGRAMMING. I LIKE SWIMMING\n",
      "i like programming. i like swimming\n",
      "i LIKE ProGRAMMING. i LIKE SWIMMING\n",
      "I Like Programming. I Like Swimming\n",
      "I like programming. i like swimming\n"
     ]
    }
   ],
   "source": [
    "# 메소드들이 새로운 문자열 반환\n",
    "print s.upper()\n",
    "print s.lower()\n",
    "print s.swapcase()\n",
    "print s.title()\n",
    "print s.capitalize()"
   ]
  },
  {
   "cell_type": "code",
   "execution_count": 14,
   "metadata": {
    "collapsed": false
   },
   "outputs": [
    {
     "name": "stdout",
     "output_type": "stream",
     "text": [
      "2\n",
      "2\n",
      "2\n",
      "-1\n",
      "22\n",
      "-1\n"
     ]
    }
   ],
   "source": [
    "print s.count('like')\n",
    "print s.find('like')\n",
    "print s.find('lik')\n",
    "print s.find('likee') #없으면 -1\n",
    "print s.find('like',5)\n",
    "print s.find('like',5,20)"
   ]
  },
  {
   "cell_type": "code",
   "execution_count": 15,
   "metadata": {
    "collapsed": false
   },
   "outputs": [
    {
     "name": "stdout",
     "output_type": "stream",
     "text": [
      "False\n",
      "True\n",
      "True\n",
      "True\n"
     ]
    }
   ],
   "source": [
    "print s.startswith('i like')\n",
    "print s.startswith('I like') #대소문자 구분\n",
    "print s.endswith('swimming')\n",
    "print s.startswith('like', 2)"
   ]
  },
  {
   "cell_type": "code",
   "execution_count": 53,
   "metadata": {
    "collapsed": true
   },
   "outputs": [],
   "source": [
    "u = ' \\tspam and ham     '"
   ]
  },
  {
   "cell_type": "code",
   "execution_count": 54,
   "metadata": {
    "collapsed": false
   },
   "outputs": [
    {
     "name": "stdout",
     "output_type": "stream",
     "text": [
      "spam and ham\n",
      " \tspam and ham\n",
      "spam and ham     \n",
      "abc\n"
     ]
    }
   ],
   "source": [
    "print u.strip()\n",
    "print u.rstrip()\n",
    "print u.lstrip()\n",
    "\n",
    "print '<><><><><><>abc<<<>>><<>'.strip('><')"
   ]
  },
  {
   "cell_type": "code",
   "execution_count": 55,
   "metadata": {
    "collapsed": false
   },
   "outputs": [
    {
     "name": "stdout",
     "output_type": "stream",
     "text": [
      " \tspAM and hAM     \n"
     ]
    }
   ],
   "source": [
    "print u.replace('am', 'AM')"
   ]
  },
  {
   "cell_type": "code",
   "execution_count": 56,
   "metadata": {
    "collapsed": false
   },
   "outputs": [
    {
     "name": "stdout",
     "output_type": "stream",
     "text": [
      "['spam', 'and', 'ham']\n",
      "[' \\tspam ', ' ham     ']\n"
     ]
    }
   ],
   "source": [
    "print u.split()\n",
    "print u.split('and')"
   ]
  },
  {
   "cell_type": "code",
   "execution_count": 58,
   "metadata": {
    "collapsed": false
   },
   "outputs": [
    {
     "name": "stdout",
     "output_type": "stream",
     "text": [
      "['spam', 'and', 'ham']\n",
      "spam:and:ham\n",
      "spam---and---ham\n"
     ]
    }
   ],
   "source": [
    "t1 = u.split()\n",
    "t2 = ':'.join(t)\n",
    "t3 = '---'.join(t)\n",
    "\n",
    "print t1\n",
    "print t2\n",
    "print t3"
   ]
  },
  {
   "cell_type": "code",
   "execution_count": 59,
   "metadata": {
    "collapsed": false
   },
   "outputs": [
    {
     "name": "stdout",
     "output_type": "stream",
     "text": [
      "[u'\\uc2a4\\ud338', u'\\ud584', u'\\uacc4\\ub780', u'\\uce58\\uc988']\n",
      "스팸 햄 계란 치즈\n"
     ]
    }
   ],
   "source": [
    "u2 = u'스팸 햄 계란 치즈'\n",
    "t1 = u2.split()\n",
    "print t1\n",
    "for i in range(0, 4) : \n",
    "    print t1[i],"
   ]
  },
  {
   "cell_type": "code",
   "execution_count": 66,
   "metadata": {
    "collapsed": false
   },
   "outputs": [
    {
     "name": "stdout",
     "output_type": "stream",
     "text": [
      "['first', 'second', 'third']\n"
     ]
    }
   ],
   "source": [
    "line = '''first\n",
    "second\n",
    "third'''\n",
    "print line.splitlines()"
   ]
  },
  {
   "cell_type": "code",
   "execution_count": 69,
   "metadata": {
    "collapsed": false
   },
   "outputs": [
    {
     "name": "stdout",
     "output_type": "stream",
     "text": [
      "                   spam and egg                   \n",
      "----------------------------------spam and egg----------------------------------\n",
      "spam and egg                                      \n",
      "                                      spam and egg\n"
     ]
    }
   ],
   "source": [
    "u3 = 'spam and egg'\n",
    "print u3.center(50)\n",
    "print u3.center(80,'-')\n",
    "print u3.ljust(50)\n",
    "print u3.rjust(50)"
   ]
  },
  {
   "cell_type": "code",
   "execution_count": 75,
   "metadata": {
    "collapsed": false
   },
   "outputs": [
    {
     "name": "stdout",
     "output_type": "stream",
     "text": [
      "True\n",
      "True\n",
      "True\n",
      "True\n",
      "False\n",
      "True\n",
      "True\n",
      "False\n"
     ]
    }
   ],
   "source": [
    "print '123'.isdigit()\n",
    "print 'abc'.isalpha()\n",
    "print '1abc23'.isalnum()\n",
    "print 'abc'.islower()\n",
    "print 'abc'.isupper()\n",
    "print '\\t\\n'.isspace()\n",
    "print'Abc Def'.istitle()\n",
    "print'Abc DeF'.istitle()"
   ]
  },
  {
   "cell_type": "code",
   "execution_count": 77,
   "metadata": {
    "collapsed": false
   },
   "outputs": [
    {
     "name": "stdout",
     "output_type": "stream",
     "text": [
      "0000000abc\n",
      "abc\n"
     ]
    }
   ],
   "source": [
    "s2 = 'abc'\n",
    "print s2.zfill(10)\n",
    "print s2.zfill(2)"
   ]
  },
  {
   "cell_type": "code",
   "execution_count": 78,
   "metadata": {
    "collapsed": false
   },
   "outputs": [
    {
     "name": "stdout",
     "output_type": "stream",
     "text": [
      "name = yyj, age = 23\n"
     ]
    }
   ],
   "source": [
    "print 'name = %s, age = %s' % ('yyj','23')"
   ]
  },
  {
   "cell_type": "code",
   "execution_count": 87,
   "metadata": {
    "collapsed": false
   },
   "outputs": [
    {
     "name": "stdout",
     "output_type": "stream",
     "text": [
      "\n",
      "안녕하세요 홍길동님.\n",
      "\n",
      "\n",
      "안녕하세요 홍길동님.\n",
      "\n",
      "안녕하세요 아무개님.\n",
      "\n",
      "안녕하세요 박미경님.\n",
      "\n",
      "안녕하세요 정인숙님.\n"
     ]
    }
   ],
   "source": [
    "letter = '''\n",
    "안녕하세요 %s님.'''\n",
    "\n",
    "name ='홍길동'\n",
    "print letter % name\n",
    "print\n",
    "\n",
    "names=['홍길동', '아무개', '박미경', '정인숙']\n",
    "for name in names :\n",
    "    print letter % name"
   ]
  },
  {
   "cell_type": "code",
   "execution_count": 91,
   "metadata": {
    "collapsed": false
   },
   "outputs": [
    {
     "name": "stdout",
     "output_type": "stream",
     "text": [
      "홍길동, 25\n",
      "25, 홍길동\n",
      "홍길동, 25\n"
     ]
    }
   ],
   "source": [
    "print '%(name)s, %(age)s' %{'name':'홍길동', 'age':'25'}\n",
    "print '%(name)s, %(age)s' %{'age':'홍길동', 'name':'25'}\n",
    "print '%(name)s, %(age)s' %{'name':'홍길동', 'age':'25', 'address' : '서울시'}"
   ]
  }
 ],
 "metadata": {
  "anaconda-cloud": {},
  "kernelspec": {
   "display_name": "Python [Root]",
   "language": "python",
   "name": "Python [Root]"
  },
  "language_info": {
   "codemirror_mode": {
    "name": "ipython",
    "version": 2
   },
   "file_extension": ".py",
   "mimetype": "text/x-python",
   "name": "python",
   "nbconvert_exporter": "python",
   "pygments_lexer": "ipython2",
   "version": "2.7.12"
  }
 },
 "nbformat": 4,
 "nbformat_minor": 0
}
