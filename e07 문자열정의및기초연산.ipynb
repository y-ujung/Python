{
 "cells": [
  {
   "cell_type": "code",
   "execution_count": 9,
   "metadata": {
    "collapsed": false
   },
   "outputs": [
    {
     "name": "stdout",
     "output_type": "stream",
     "text": [
      "qwerty\n",
      "qwert\n",
      "ytrewq\n",
      "yrw\n"
     ]
    }
   ],
   "source": [
    "s = 'qwerty'\n",
    "\n",
    "print s[:]\n",
    "print s[:-1]\n",
    "print s[::-1]\n",
    "print s[::-2]"
   ]
  },
  {
   "cell_type": "code",
   "execution_count": 11,
   "metadata": {
    "collapsed": false
   },
   "outputs": [
    {
     "name": "stdout",
     "output_type": "stream",
     "text": [
      "False\n",
      "True\n"
     ]
    }
   ],
   "source": [
    "a = 'asd'\n",
    "b = 'asd '\n",
    "\n",
    "print ' ' in a\n",
    "print ' ' in b"
   ]
  },
  {
   "cell_type": "code",
   "execution_count": 13,
   "metadata": {
    "collapsed": false
   },
   "outputs": [
    {
     "name": "stdout",
     "output_type": "stream",
     "text": [
      "q w e r t y\n"
     ]
    }
   ],
   "source": [
    "for i in s :\n",
    "    print i,"
   ]
  },
  {
   "cell_type": "code",
   "execution_count": 20,
   "metadata": {
    "collapsed": false
   },
   "outputs": [
    {
     "name": "stdout",
     "output_type": "stream",
     "text": [
      "Don't walk. \"Run\"\n",
      "Don't walk.\n",
      "\"Run\"\n",
      "Don't \twalk. \n",
      "\"Run\"\n"
     ]
    }
   ],
   "source": [
    "str1 = 'Don\\'t walk. \"Run\"'\n",
    "str2 = '''Don\\'t walk.\n",
    "\"Run\"'''\n",
    "str3 = 'Don\\'t \\twalk. \\n\"Run\"' # \\n 자체가 개행의 의미를 가지고 있는 문자\n",
    "\n",
    "print str1\n",
    "print str2\n",
    "print str3"
   ]
  },
  {
   "cell_type": "code",
   "execution_count": 24,
   "metadata": {
    "collapsed": false
   },
   "outputs": [
    {
     "name": "stdout",
     "output_type": "stream",
     "text": [
      "<type 'str'>\n",
      "<type 'unicode'>\n",
      "haha\n",
      "<type 'unicode'>\n"
     ]
    }
   ],
   "source": [
    "u = u'ha'\n",
    "s = 'ha'\n",
    "h = u + s\n",
    "print type(s)\n",
    "print type(u)\n",
    "print h\n",
    "print type(h)"
   ]
  },
  {
   "cell_type": "code",
   "execution_count": 31,
   "metadata": {
    "collapsed": false
   },
   "outputs": [
    {
     "name": "stdout",
     "output_type": "stream",
     "text": [
      "ha 또 ha\n"
     ]
    }
   ],
   "source": [
    "print u'ha \\uB610 ha'"
   ]
  },
  {
   "cell_type": "code",
   "execution_count": 35,
   "metadata": {
    "collapsed": false
   },
   "outputs": [
    {
     "name": "stdout",
     "output_type": "stream",
     "text": [
      "<type 'unicode'>\n",
      "한글\n"
     ]
    }
   ],
   "source": [
    "a = unicode('한글', 'utf-8') # 내장함수 사용. u'한글'과 같음\n",
    "print type(a)\n",
    "print a"
   ]
  },
  {
   "cell_type": "code",
   "execution_count": 52,
   "metadata": {
    "collapsed": false
   },
   "outputs": [
    {
     "name": "stdout",
     "output_type": "stream",
     "text": [
      "22\n",
      "�\n",
      "��과 세종대왕\n",
      "��쀌녢츄� ��ꀸ꜕�\n",
      "\n",
      "8\n",
      "글\n",
      "세종대왕\n",
      "왕대종세 과글한\n",
      "\n",
      "8\n",
      "글\n",
      "세종대왕\n",
      "왕대종세 과글한\n"
     ]
    }
   ],
   "source": [
    "u1 = '한글과 세종대왕'\n",
    "print len(u1)\n",
    "print u1[1]\n",
    "print u1[4:]\n",
    "print u1[::-1]\n",
    "print\n",
    "u2 = unicode('한글과 세종대왕', 'utf-8')\n",
    "print len(u2)\n",
    "print u2[1]\n",
    "print u2[4:]\n",
    "print u2[::-1]\n",
    "print\n",
    "u3 = u'한글과 세종대왕'\n",
    "print len(u3)\n",
    "print u3[1]\n",
    "print u3[4:]\n",
    "print u3[::-1]"
   ]
  }
 ],
 "metadata": {
  "kernelspec": {
   "display_name": "Python [Root]",
   "language": "python",
   "name": "Python [Root]"
  },
  "language_info": {
   "codemirror_mode": {
    "name": "ipython",
    "version": 2
   },
   "file_extension": ".py",
   "mimetype": "text/x-python",
   "name": "python",
   "nbconvert_exporter": "python",
   "pygments_lexer": "ipython2",
   "version": "2.7.12"
  }
 },
 "nbformat": 4,
 "nbformat_minor": 0
}
