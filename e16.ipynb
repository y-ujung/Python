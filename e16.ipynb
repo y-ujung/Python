{
 "cells": [
  {
   "cell_type": "code",
   "execution_count": 39,
   "metadata": {
    "collapsed": false
   },
   "outputs": [
    {
     "name": "stdout",
     "output_type": "stream",
     "text": [
      "9\n"
     ]
    }
   ],
   "source": [
    "f = lambda x, y : x+y #lambda 함수의 몸체에는 식만 올 수 있음\n",
    "print f(5, 4)"
   ]
  },
  {
   "cell_type": "code",
   "execution_count": 2,
   "metadata": {
    "collapsed": false
   },
   "outputs": [
    {
     "name": "stdout",
     "output_type": "stream",
     "text": [
      "2\n",
      "14\n"
     ]
    }
   ],
   "source": [
    "incr = lambda x, inc = 1 : x+inc\n",
    "print incr(1)\n",
    "print incr(10, 4)"
   ]
  },
  {
   "cell_type": "code",
   "execution_count": 3,
   "metadata": {
    "collapsed": false
   },
   "outputs": [
    {
     "name": "stdout",
     "output_type": "stream",
     "text": [
      "(2, 3, 4, 5)\n",
      "()\n",
      "(2,)\n"
     ]
    }
   ],
   "source": [
    "vargs = lambda x, *args : args\n",
    "print vargs(1, 2, 3, 4, 5)\n",
    "print vargs(1)\n",
    "print vargs(1, 2)"
   ]
  },
  {
   "cell_type": "code",
   "execution_count": 4,
   "metadata": {
    "collapsed": false
   },
   "outputs": [
    {
     "name": "stdout",
     "output_type": "stream",
     "text": [
      "[1, 4, 9, 16, 25, 36, 49, 64, 81]\n",
      "[1, 8, 27, 64, 125, 216, 343, 512, 729]\n",
      "[1, 4, 9, 16, 25, 36, 49, 64, 81]\n",
      "[1, 8, 27, 64, 125, 216, 343, 512, 729]\n"
     ]
    }
   ],
   "source": [
    "def f1(x) : \n",
    "    return x*x\n",
    "\n",
    "def f2(x) : \n",
    "    return x*x*x\n",
    "\n",
    "def g(func) :\n",
    "    return [func(x) for x in range(1, 10)]\n",
    "\n",
    "print g(f1)\n",
    "print g(f2)\n",
    "\n",
    "print g(lambda x : x*x )\n",
    "print g(lambda x : x*x*x )"
   ]
  },
  {
   "cell_type": "code",
   "execution_count": 5,
   "metadata": {
    "collapsed": false
   },
   "outputs": [
    {
     "name": "stdout",
     "output_type": "stream",
     "text": [
      "0. add\n",
      "1. sub\n",
      "2. quit\n",
      "select menu : 1\n",
      "first number : 3\n",
      "second number : 6\n",
      "result =  -3\n",
      "0. add\n",
      "1. sub\n",
      "2. quit\n",
      "select menu : 2\n"
     ]
    }
   ],
   "source": [
    "func = [lambda x, y : x+y, lambda x, y : x-y]\n",
    "\n",
    "def menu() :\n",
    "    print '0. add'\n",
    "    print '1. sub'\n",
    "    print '2. quit'\n",
    "    return input('select menu : ')\n",
    "\n",
    "while 1 : \n",
    "    sel = menu()\n",
    "    if sel < 0 or sel > len(func) :\n",
    "        continue\n",
    "    if sel == len(func) :\n",
    "        break\n",
    "    x = input('first number : ')\n",
    "    y = input('second number : ')\n",
    "    print 'result = ', func[sel](x, y)"
   ]
  },
  {
   "cell_type": "code",
   "execution_count": 13,
   "metadata": {
    "collapsed": false
   },
   "outputs": [
    {
     "name": "stdout",
     "output_type": "stream",
     "text": [
      "[1, 4, 9, 16, 25]\n",
      "[1, 4, 9, 16, 25]\n",
      "[1, 8, 27, 64, 125]\n"
     ]
    }
   ],
   "source": [
    "def m(x) : \n",
    "    return x * x\n",
    "\n",
    "X = [1,2,3,4,5]\n",
    "\n",
    "# 1)\n",
    "Y = map(m, X)\n",
    "print Y\n",
    "\n",
    "# 2)\n",
    "print map(lambda x : x*x, X)\n",
    "\n",
    "#\n",
    "print map(lambda x : x*x*x, X)"
   ]
  },
  {
   "cell_type": "code",
   "execution_count": 14,
   "metadata": {
    "collapsed": false
   },
   "outputs": [
    {
     "name": "stdout",
     "output_type": "stream",
     "text": [
      "[50, 43, 23]\n"
     ]
    }
   ],
   "source": [
    "print filter(lambda x : x > 20, [1, 15, 4, 20, 50, 43, 23])"
   ]
  },
  {
   "cell_type": "code",
   "execution_count": 29,
   "metadata": {
    "collapsed": false
   },
   "outputs": [
    {
     "name": "stdout",
     "output_type": "stream",
     "text": [
      "[1, 3, 5, 7, 9]\n",
      "(2, 4, 6, 8)\n"
     ]
    }
   ],
   "source": [
    "print filter(lambda x : x % 2, [1,2,3,4,5,6,7,8,9])\n",
    "print filter(lambda x : x % 2==0, (1,2,3,4,5,6,7,8,9))\n",
    "# filter 함수 결과의 자료형은 주어진 자료형과 동일함"
   ]
  },
  {
   "cell_type": "code",
   "execution_count": 35,
   "metadata": {
    "collapsed": false
   },
   "outputs": [
    {
     "name": "stdout",
     "output_type": "stream",
     "text": [
      "15\n",
      "385\n",
      "ytrewq\n"
     ]
    }
   ],
   "source": [
    "# reduce는 반드시 lambda 함수의 인자가 두 개 이상이어야 한다\n",
    "print reduce(lambda x, y : x+y, [1,2,3,4,5])\n",
    "print reduce(lambda x, y : x + y*y, range(11))\n",
    "print reduce(lambda x, y : y + x, \"qwerty\")"
   ]
  },
  {
   "cell_type": "code",
   "execution_count": 38,
   "metadata": {
    "collapsed": false
   },
   "outputs": [
    {
     "name": "stdout",
     "output_type": "stream",
     "text": [
      "25\n"
     ]
    }
   ],
   "source": [
    "list = filter(lambda x : x%2, [1,2,3,4,5,6,7,8,9])\n",
    "print reduce(lambda x, y : x+y, list)"
   ]
  }
 ],
 "metadata": {
  "kernelspec": {
   "display_name": "Python [Root]",
   "language": "python",
   "name": "Python [Root]"
  },
  "language_info": {
   "codemirror_mode": {
    "name": "ipython",
    "version": 2
   },
   "file_extension": ".py",
   "mimetype": "text/x-python",
   "name": "python",
   "nbconvert_exporter": "python",
   "pygments_lexer": "ipython2",
   "version": "2.7.12"
  }
 },
 "nbformat": 4,
 "nbformat_minor": 0
}
