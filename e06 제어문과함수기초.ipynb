{
 "cells": [
  {
   "cell_type": "code",
   "execution_count": 7,
   "metadata": {
    "collapsed": false
   },
   "outputs": [],
   "source": [
    "? bool #사용법"
   ]
  },
  {
   "cell_type": "code",
   "execution_count": 3,
   "metadata": {
    "collapsed": false
   },
   "outputs": [
    {
     "name": "stdout",
     "output_type": "stream",
     "text": [
      "big!!\n",
      "end\n"
     ]
    }
   ],
   "source": [
    "a = 10\n",
    "if a > 5 :\n",
    "    print 'big!!'\n",
    "else :\n",
    "    print 'small!!'\n",
    "print 'end'"
   ]
  },
  {
   "cell_type": "code",
   "execution_count": 7,
   "metadata": {
    "collapsed": false
   },
   "outputs": [
    {
     "name": "stdout",
     "output_type": "stream",
     "text": [
      "[0, 1, 2, 3, 4, 5, 6, 7, 8, 9]\n",
      "0\n",
      "1\n",
      "4\n",
      "9\n",
      "16\n",
      "25\n",
      "36\n",
      "49\n",
      "64\n",
      "81\n"
     ]
    }
   ],
   "source": [
    "print range(10)\n",
    "for x in range(10) :\n",
    "    print x*x"
   ]
  },
  {
   "cell_type": "code",
   "execution_count": 9,
   "metadata": {
    "collapsed": false
   },
   "outputs": [
    {
     "name": "stdout",
     "output_type": "stream",
     "text": [
      "0 cat\n",
      "1 dog\n",
      "2 bird\n",
      "3 pig\n"
     ]
    }
   ],
   "source": [
    "t = ('cat', 'dog', 'bird', 'pig')\n",
    "for k, animal in enumerate(t): # k = index, animal = value\n",
    "    print k, animal"
   ]
  },
  {
   "cell_type": "code",
   "execution_count": 15,
   "metadata": {
    "collapsed": false
   },
   "outputs": [
    {
     "name": "stdout",
     "output_type": "stream",
     "text": [
      "0 p pig\n",
      "1 c cat\n",
      "2 b bird\n",
      "3 d dog\n"
     ]
    }
   ],
   "source": [
    "d = {'c':'cat', 'd':'dog', 'b':'bird', 'p':'pig'}\n",
    "for k, key in enumerate(d):# k = index, key = key, animal = value\n",
    "    print k, key, d[key]"
   ]
  },
  {
   "cell_type": "code",
   "execution_count": 34,
   "metadata": {
    "collapsed": false
   },
   "outputs": [
    {
     "name": "stdout",
     "output_type": "stream",
     "text": [
      "continue\n",
      "continue\n",
      "continue\n",
      "3 4 5 6 7 break\n",
      "done\n"
     ]
    }
   ],
   "source": [
    "for x in range(10) :\n",
    "    if x < 3 :\n",
    "        print 'continue'\n",
    "        continue\n",
    "    elif x > 7 :\n",
    "        print 'break'\n",
    "        break\n",
    "    print x, # ,하면 줄바뀜없음\n",
    "print 'done'"
   ]
  },
  {
   "cell_type": "code",
   "execution_count": 35,
   "metadata": {
    "collapsed": false
   },
   "outputs": [
    {
     "name": "stdout",
     "output_type": "stream",
     "text": [
      "0 1 2 3 4 perfect\n",
      "done\n"
     ]
    }
   ],
   "source": [
    "for x in range(5) :\n",
    "    print x,\n",
    "else :\n",
    "    print 'perfect'\n",
    "print 'done'"
   ]
  },
  {
   "cell_type": "code",
   "execution_count": 36,
   "metadata": {
    "collapsed": false
   },
   "outputs": [
    {
     "name": "stdout",
     "output_type": "stream",
     "text": [
      "0\n",
      "1\n",
      "2\n",
      "3\n",
      "done\n"
     ]
    }
   ],
   "source": [
    "for x in range(5) :\n",
    "    if x > 3 :\n",
    "        break;\n",
    "    print x\n",
    "else : #for문이 정상적으로 모두 수행되었을때\n",
    "    print 'perfect'\n",
    "print 'done'"
   ]
  },
  {
   "cell_type": "code",
   "execution_count": 37,
   "metadata": {
    "collapsed": false
   },
   "outputs": [
    {
     "name": "stdout",
     "output_type": "stream",
     "text": [
      "2 * 2 = 4\n",
      "2 * 3 = 6\n",
      "2 * 4 = 8\n",
      "2 * 5 = 10\n",
      "2 * 6 = 12\n",
      "2 * 7 = 14\n",
      "2 * 8 = 16\n",
      "2 * 9 = 18\n",
      "\n",
      "3 * 2 = 6\n",
      "3 * 3 = 9\n",
      "3 * 4 = 12\n",
      "3 * 5 = 15\n",
      "3 * 6 = 18\n",
      "3 * 7 = 21\n",
      "3 * 8 = 24\n",
      "3 * 9 = 27\n",
      "\n"
     ]
    }
   ],
   "source": [
    "for x in range(2, 4):\n",
    "    for y in range(2, 10):\n",
    "        print x, '*', y, '=', x*y\n",
    "    print"
   ]
  },
  {
   "cell_type": "code",
   "execution_count": 38,
   "metadata": {
    "collapsed": false
   },
   "outputs": [
    {
     "name": "stdout",
     "output_type": "stream",
     "text": [
      "55\n"
     ]
    }
   ],
   "source": [
    "sum = 0\n",
    "a = 0\n",
    "while a < 10 :\n",
    "    a = a+1\n",
    "    sum = sum+a\n",
    "print sum"
   ]
  },
  {
   "cell_type": "code",
   "execution_count": 65,
   "metadata": {
    "collapsed": false
   },
   "outputs": [
    {
     "name": "stdout",
     "output_type": "stream",
     "text": [
      "<type 'int'>\n",
      "(11, 'a')\n",
      "<type 'int'>\n",
      "(14, 'a')\n",
      "<type 'int'>\n",
      "(5, 'a')\n",
      "<type 'list'>\n",
      "([1, 3, 2, 5, 3], 'a')\n",
      "<type 'str'>\n",
      "('hello world', 'a')\n",
      "<type 'int'>\n",
      "(7, 'a')\n"
     ]
    }
   ],
   "source": [
    "# 함수도 객체!\n",
    "def add(a=1,b=10) :\n",
    "    print type(a+b) # 동적인 자료형 결정\n",
    "    return a + b\n",
    "\n",
    "print add()\n",
    "print add(4)\n",
    "print add(3, 2)\n",
    "print add([1,3], [2,5,3])\n",
    "print add('hello ', 'world')\n",
    "print add(a=3, b=4)"
   ]
  },
  {
   "cell_type": "code",
   "execution_count": 56,
   "metadata": {
    "collapsed": false
   },
   "outputs": [
    {
     "name": "stdout",
     "output_type": "stream",
     "text": [
      "None\n"
     ]
    }
   ],
   "source": [
    "def simple():\n",
    "    pass\n",
    "    # return None이 생략되어있음\n",
    "    # (아무것도 반환하지 않는 것이아니라 반환하는 것의 값이 비어있는것)\n",
    "\n",
    "print simple()"
   ]
  },
  {
   "cell_type": "code",
   "execution_count": 64,
   "metadata": {
    "collapsed": false
   },
   "outputs": [
    {
     "name": "stdout",
     "output_type": "stream",
     "text": [
      "5050\n"
     ]
    }
   ],
   "source": [
    "def sum(n) :\n",
    "    if n == 1 :\n",
    "        return 1\n",
    "    return n + sum(n-1)\n",
    "print sum(100)"
   ]
  }
 ],
 "metadata": {
  "kernelspec": {
   "display_name": "Python [Root]",
   "language": "python",
   "name": "Python [Root]"
  },
  "language_info": {
   "codemirror_mode": {
    "name": "ipython",
    "version": 2
   },
   "file_extension": ".py",
   "mimetype": "text/x-python",
   "name": "python",
   "nbconvert_exporter": "python",
   "pygments_lexer": "ipython2",
   "version": "2.7.12"
  }
 },
 "nbformat": 4,
 "nbformat_minor": 0
}
