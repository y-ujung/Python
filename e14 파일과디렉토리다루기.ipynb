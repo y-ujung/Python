{
 "cells": [
  {
   "cell_type": "code",
   "execution_count": 6,
   "metadata": {
    "collapsed": false
   },
   "outputs": [
    {
     "name": "stdout",
     "output_type": "stream",
     "text": [
      "['.git', '.ipynb_checkpoints', 'Assignment1_2013136077\\xc0\\xb1\\xc0\\xaf\\xc1\\xa4.ipynb', 'Assignment2_2013136077\\xc0\\xb1\\xc0\\xaf\\xc1\\xa4.ipynb', 'Assignment3_2013136077\\xc0\\xb1\\xc0\\xaf\\xc1\\xa4.ipynb', 'e01.ipynb', 'e02.ipynb', 'e03.ipynb', 'e04.ipynb', 'e05.ipynb', 'e06.ipynb', 'e07.ipynb', 'e08.ipynb', 'e09.ipynb', 'e10.ipynb', 'e11.ipynb', 'e12.ipynb', 'e13.ipynb', 'e14.ipynb', 'pickle_test.txt', 'pickle_test2.txt', 'std_test.txt', 'std_test2.txt', 'test.txt', 'write_test1.txt', 'write_test2.txt']\n",
      "\n",
      "['Script-Programming', 'Senior-Project']\n"
     ]
    }
   ],
   "source": [
    "import os\n",
    "\n",
    "print os.listdir('.')\n",
    "print\n",
    "\n",
    "print os.listdir('../')"
   ]
  },
  {
   "cell_type": "code",
   "execution_count": 7,
   "metadata": {
    "collapsed": false
   },
   "outputs": [
    {
     "name": "stdout",
     "output_type": "stream",
     "text": [
      ".git : directory\n",
      ".ipynb_checkpoints : directory\n",
      "Assignment1_2013136077������.ipynb : regular\n",
      "Assignment2_2013136077������.ipynb : regular\n",
      "Assignment3_2013136077������.ipynb : regular\n",
      "e01.ipynb : regular\n",
      "e02.ipynb : regular\n",
      "e03.ipynb : regular\n",
      "e04.ipynb : regular\n",
      "e05.ipynb : regular\n",
      "e06.ipynb : regular\n",
      "e07.ipynb : regular\n",
      "e08.ipynb : regular\n",
      "e09.ipynb : regular\n",
      "e10.ipynb : regular\n",
      "e11.ipynb : regular\n",
      "e12.ipynb : regular\n",
      "e13.ipynb : regular\n",
      "e14.ipynb : regular\n",
      "pickle_test.txt : regular\n",
      "pickle_test2.txt : regular\n",
      "std_test.txt : regular\n",
      "std_test2.txt : regular\n",
      "test.txt : regular\n",
      "write_test1.txt : regular\n",
      "write_test2.txt : regular\n"
     ]
    }
   ],
   "source": [
    "import os\n",
    "def fileType(fpath) :\n",
    "    print fpath, ':',\n",
    "    if os.path.isfile(fpath) : \n",
    "        print 'regular'\n",
    "    if os.path.isdir(fpath) : \n",
    "        print 'directory'\n",
    "    if os.path.islink(fpath) : \n",
    "        print 'symbolic link'\n",
    "\n",
    "flist = os.listdir('.')\n",
    "for fname in flist : \n",
    "    fileType(fname)"
   ]
  },
  {
   "cell_type": "code",
   "execution_count": 18,
   "metadata": {
    "collapsed": false
   },
   "outputs": [
    {
     "name": "stdout",
     "output_type": "stream",
     "text": [
      ".git : Exists R W X\n",
      ".ipynb_checkpoints : Exists R W X\n",
      "Assignment1_2013136077������.ipynb : Exists R W X\n",
      "Assignment2_2013136077������.ipynb : Exists R W X\n",
      "Assignment3_2013136077������.ipynb : Exists R W X\n",
      "e01.ipynb : Exists R W X\n",
      "e02.ipynb : Exists R W X\n",
      "e03.ipynb : Exists R W X\n",
      "e04.ipynb : Exists R W X\n",
      "e05.ipynb : Exists R W X\n",
      "e06.ipynb : Exists R W X\n",
      "e07.ipynb : Exists R W X\n",
      "e08.ipynb : Exists R W X\n",
      "e09.ipynb : Exists R W X\n",
      "e10.ipynb : Exists R W X\n",
      "e11.ipynb : Exists R W X\n",
      "e12.ipynb : Exists R W X\n",
      "e13.ipynb : Exists R W X\n",
      "e14.ipynb : Exists R W X\n",
      "pickle_test.txt : Exists R W X\n",
      "pickle_test2.txt : Exists R W X\n",
      "std_test.txt : Exists R W X\n",
      "std_test2.txt : Exists R W X\n",
      "test.txt : Exists R W X\n",
      "write_test1.txt : Exists R W X\n",
      "write_test2.txt : Exists R W X\n"
     ]
    }
   ],
   "source": [
    "import os\n",
    "def fileAccess(fpath) :\n",
    "    print fpath, ':',\n",
    "    if os.access(fpath, os.F_OK) : \n",
    "        print 'Exists',\n",
    "    else : \n",
    "        return\n",
    "    \n",
    "    if os.access(fpath, os.R_OK) : \n",
    "        print 'R',\n",
    "    if os.access(fpath, os.W_OK) : \n",
    "        print 'W',\n",
    "    if os.access(fpath, os.X_OK) : \n",
    "        print 'X',\n",
    "    print\n",
    "\n",
    "flist = os.listdir('.')\n",
    "for fname in flist : \n",
    "    fileAccess(fname)"
   ]
  },
  {
   "cell_type": "code",
   "execution_count": 19,
   "metadata": {
    "collapsed": true
   },
   "outputs": [],
   "source": [
    "os.chmod('test.txt', 0777)\n",
    "# os 모듈 사용해서 리눅스처럼 명령어 사용 가능\n",
    "# os.rename : 파일 이름 변경, 파일 이동"
   ]
  },
  {
   "cell_type": "code",
   "execution_count": 20,
   "metadata": {
    "collapsed": true
   },
   "outputs": [],
   "source": [
    "import shutil\n",
    "shutil.copyfile('test.txt', 'copy_text.txt') # 파일 복사"
   ]
  },
  {
   "cell_type": "code",
   "execution_count": 27,
   "metadata": {
    "collapsed": false
   },
   "outputs": [
    {
     "name": "stdout",
     "output_type": "stream",
     "text": [
      "C:\\Users\\user\\Documents\\GitHub\\Script-Programming\n",
      "C:\\Users\\user\\Documents\\GitHub\\Script-Programming\\test.txt\n"
     ]
    }
   ],
   "source": [
    "import os\n",
    "print os.getcwd()\n",
    "print os.path.abspath('test.txt') # 절대경로 반환"
   ]
  },
  {
   "cell_type": "code",
   "execution_count": 45,
   "metadata": {
    "collapsed": false
   },
   "outputs": [
    {
     "name": "stdout",
     "output_type": "stream",
     "text": [
      "True\n",
      "True\n",
      "False\n"
     ]
    }
   ],
   "source": [
    "import os\n",
    "f = '\\Users\\user\\Documents\\GitHub\\Script-Programming'\n",
    "print os.path.exists(f) # 파일 존재 확인\n",
    "print os.path.exists('test.txt')\n",
    "print os.path.exists('t.txt')"
   ]
  },
  {
   "cell_type": "code",
   "execution_count": 39,
   "metadata": {
    "collapsed": false
   },
   "outputs": [
    {
     "name": "stdout",
     "output_type": "stream",
     "text": [
      ".\n",
      "..\n",
      "\\\n"
     ]
    }
   ],
   "source": [
    "# 파일 이름 다루기\n",
    "print os.curdir # 현재 디렉토리\n",
    "print os.pardir # 부모 디렉토리\n",
    "print os.sep # 디렉토리 분리 문자"
   ]
  },
  {
   "cell_type": "code",
   "execution_count": 48,
   "metadata": {
    "collapsed": false
   },
   "outputs": [
    {
     "name": "stdout",
     "output_type": "stream",
     "text": [
      "Script-Programming\n",
      "\\Users\\user\\Documents\\GitHub\n",
      "('\\\\Users\\\\user\\\\Documents\\\\GitHub', 'Script-Programming')\n",
      "('\\\\Users\\\\user\\\\Documents\\\\GitHub\\\\Script-Programming', '')\n"
     ]
    }
   ],
   "source": [
    "# 경로명 분리\n",
    "print os.path.basename(f) # base name. 파일명\n",
    "print os.path.dirname(f) # directory name. 디렉토리 경로명\n",
    "print os.path.split(f) # 경로명, 파일명\n",
    "print os.path.splitext(f) #확장자 분리"
   ]
  },
  {
   "cell_type": "code",
   "execution_count": 58,
   "metadata": {
    "collapsed": false
   },
   "outputs": [
    {
     "name": "stdout",
     "output_type": "stream",
     "text": [
      "C:\\Users\\user\\Documents\\GitHub\\Script-Programming\\copy_text.txt\n",
      "C:\\Users\\user\\Documents\\GitHub\\Script-Programming\\pickle_test.txt\n",
      "C:\\Users\\user\\Documents\\GitHub\\Script-Programming\\pickle_test2.txt\n",
      "C:\\Users\\user\\Documents\\GitHub\\Script-Programming\\std_test.txt\n",
      "C:\\Users\\user\\Documents\\GitHub\\Script-Programming\\std_test2.txt\n",
      "C:\\Users\\user\\Documents\\GitHub\\Script-Programming\\test.txt\n",
      "C:\\Users\\user\\Documents\\GitHub\\Script-Programming\\write_test1.txt\n",
      "C:\\Users\\user\\Documents\\GitHub\\Script-Programming\\write_test2.txt\n"
     ]
    }
   ],
   "source": [
    "import os\n",
    "for path, subdirs, files in os.walk(os.getcwd()) :\n",
    "    # 현재 디렉토리, 현재 디렉토리에 존재하는 하위 디렉토리, 현재 디렉토리에 존재하는 파일\n",
    "    for fname in files:\n",
    "        if fname.endswith('.txt') :\n",
    "            fullpath = os.path.join(path, fname)\n",
    "            print fullpath\n",
    "            # os.remove(fullpath)"
   ]
  }
 ],
 "metadata": {
  "kernelspec": {
   "display_name": "Python [Root]",
   "language": "python",
   "name": "Python [Root]"
  },
  "language_info": {
   "codemirror_mode": {
    "name": "ipython",
    "version": 2
   },
   "file_extension": ".py",
   "mimetype": "text/x-python",
   "name": "python",
   "nbconvert_exporter": "python",
   "pygments_lexer": "ipython2",
   "version": "2.7.12"
  }
 },
 "nbformat": 4,
 "nbformat_minor": 0
}
