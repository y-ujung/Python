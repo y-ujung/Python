{
 "cells": [
  {
   "cell_type": "markdown",
   "metadata": {},
   "source": [
    "# Assignment3_2013136077윤유정"
   ]
  },
  {
   "cell_type": "markdown",
   "metadata": {},
   "source": [
    "## 문제 1\n",
    "+ L=[1, 2, 3, 4, 5]일 때 다음 각 문장을 수행한 후의 결과를 보고 납득할 만한 이유를 설명하시오."
   ]
  },
  {
   "cell_type": "code",
   "execution_count": null,
   "metadata": {
    "collapsed": true
   },
   "outputs": [],
   "source": [
    "L = [1,2,3,4,5]"
   ]
  },
  {
   "cell_type": "code",
   "execution_count": null,
   "metadata": {
    "collapsed": false
   },
   "outputs": [],
   "source": [
    "L[1:3] = [100]\n",
    "print L"
   ]
  },
  {
   "cell_type": "markdown",
   "metadata": {},
   "source": [
    "> 이유 : L[2]와 L[3]을 두 개의 값을 포함하는 리스트를 정수 100 한 개의 값을 포함하는 리스트로 바꾸는 것과 같다."
   ]
  },
  {
   "cell_type": "code",
   "execution_count": null,
   "metadata": {
    "collapsed": false
   },
   "outputs": [],
   "source": [
    "L[1:3] = [(100)]\n",
    "print L"
   ]
  },
  {
   "cell_type": "markdown",
   "metadata": {},
   "source": [
    "> 이유 : L[2]와 L[3]을 두 개의 값을 포함하는 리스트를 100으로 바꾸는 것과 같다. ()안에 원소가 한 개만 있으면 원소의 타입과 같으므로 위의 문제와 같은 내용이다."
   ]
  },
  {
   "cell_type": "code",
   "execution_count": null,
   "metadata": {
    "collapsed": false
   },
   "outputs": [],
   "source": [
    "L[1:3] = 100\n",
    "print L"
   ]
  },
  {
   "cell_type": "markdown",
   "metadata": {},
   "source": [
    "> 이유 : 리스트 일부를 정수로 바꾸는 것과 같으므로 타입이 다르기 때문에 오류가 발생한다."
   ]
  },
  {
   "cell_type": "code",
   "execution_count": null,
   "metadata": {
    "collapsed": false
   },
   "outputs": [],
   "source": [
    "L[1:3] = (100)\n",
    "print L"
   ]
  },
  {
   "cell_type": "markdown",
   "metadata": {},
   "source": [
    "> 이유 : 리스트에 접근해 일부를 정수로 바꾸는 것인데 정수는 수치형 변수이기 때문에 리스트에 접근할 수 없어 오류가 발생한다"
   ]
  },
  {
   "cell_type": "code",
   "execution_count": null,
   "metadata": {
    "collapsed": false
   },
   "outputs": [],
   "source": [
    "L[1:3] = (100, 101, 102)\n",
    "print L"
   ]
  },
  {
   "cell_type": "markdown",
   "metadata": {},
   "source": [
    "> 이유 : 리스트에 접근해 일부분을 튜플로 바꾸는 것인데 튜플은 컨테이너형 변수이기 때문에 리스트에 접근할 수 없어 오류가 발생한다."
   ]
  },
  {
   "cell_type": "code",
   "execution_count": null,
   "metadata": {
    "collapsed": false
   },
   "outputs": [],
   "source": [
    "L[1:3] = [100, 101, 102]\n",
    "print L"
   ]
  },
  {
   "cell_type": "markdown",
   "metadata": {},
   "source": [
    "> 이유 : 리스트에 컨테이너형 변수인 리스트를 통해 접근했으므로 문제없다."
   ]
  },
  {
   "cell_type": "code",
   "execution_count": null,
   "metadata": {
    "collapsed": false
   },
   "outputs": [],
   "source": [
    "L[1:3] = [(100, 101, 102)]\n",
    "print L"
   ]
  },
  {
   "cell_type": "markdown",
   "metadata": {},
   "source": [
    "> 이유 : L[1], L[2]의 위치에 튜플 (100,101,102)를 넣어준다. 리스트는 원소값으로 튜플을 가질 수 있다"
   ]
  },
  {
   "cell_type": "code",
   "execution_count": null,
   "metadata": {
    "collapsed": false
   },
   "outputs": [],
   "source": [
    "L[1:3] = [[100, 101, 102]]\n",
    "print L"
   ]
  },
  {
   "cell_type": "markdown",
   "metadata": {},
   "source": [
    "> 이유 : L[1], L[2]의 위치에 리스트 [100,101,102]를 넣어준다. 리스트는 원소값으로 리스트를 가질 수 있다"
   ]
  },
  {
   "cell_type": "markdown",
   "metadata": {},
   "source": [
    "## 문제 2\n",
    "+ 문자열 S = 'Hello World and Python'에 대해 다음 요구사항에 대한 Python 코드를 제시하시오.\n",
    "    + 1) 단어의 순서가 역순으로 되어진 문자열 ('Python and World Hello')을 만들고\n",
    "    + 2) 1)의 결과 문자열에 대해 메소드 split과 join을 이용하여 공백을 모두 없엔 문자열 'PythonandWorldHello'을 만드시오."
   ]
  },
  {
   "cell_type": "code",
   "execution_count": null,
   "metadata": {
    "collapsed": true
   },
   "outputs": [],
   "source": [
    "S = 'Hello World and Python'"
   ]
  },
  {
   "cell_type": "code",
   "execution_count": null,
   "metadata": {
    "collapsed": false
   },
   "outputs": [],
   "source": [
    "# 1\n",
    "S = S[16:23] + S[11:15] + S[5:12] + S[:5]\n",
    "print S"
   ]
  },
  {
   "cell_type": "code",
   "execution_count": null,
   "metadata": {
    "collapsed": false
   },
   "outputs": [],
   "source": [
    "# 2\n",
    "l = S.split()\n",
    "S = ''.join(l)\n",
    "print S"
   ]
  },
  {
   "cell_type": "markdown",
   "metadata": {},
   "source": [
    "## 문제 3\n",
    "+ 다음 코드를 보고 물음에 답하시오.\n",
    "        a = [1, 2, 3]\n",
    "        b = a * 3\n",
    "        c = [a] * 3\n",
    "        print b\n",
    "        print c\n",
    "    + 1) 위 코드를 수행한 이후 다음 코드를 수행한 후 b와 c의 내용을 확인하시오.\n",
    "           a[0]=0\n",
    "    + 2) b와 c 객체의 차이는 무엇인가?"
   ]
  },
  {
   "cell_type": "code",
   "execution_count": null,
   "metadata": {
    "collapsed": false
   },
   "outputs": [],
   "source": [
    "a = [1, 2, 3]\n",
    "b = a * 3\n",
    "c = [a] * 3\n",
    "print b\n",
    "print c"
   ]
  },
  {
   "cell_type": "code",
   "execution_count": null,
   "metadata": {
    "collapsed": false
   },
   "outputs": [],
   "source": [
    "a[0]=0\n",
    "print b\n",
    "print c"
   ]
  },
  {
   "cell_type": "markdown",
   "metadata": {},
   "source": [
    "> b는 원소를 복사한 것이고 c는 객체 자체를 복사한 것이다. 그렇기 때문에 a의 값을 변경했을 경우 c는 함께 변경되지만 b는 변경되지 않는다. is 를 사용해 확인해 볼 수 있다."
   ]
  },
  {
   "cell_type": "code",
   "execution_count": null,
   "metadata": {
    "collapsed": false
   },
   "outputs": [],
   "source": [
    "print a is b[0:3]\n",
    "print a is c[0]"
   ]
  },
  {
   "cell_type": "markdown",
   "metadata": {},
   "source": [
    "## 문제 4\n",
    "+ 다음 문자열을 ':'을 기준으로 분리하여 리스트로 만들고 각 문자열의 좌우 공백을 제거하시오 (즉, 문자열 S에서 l을 만들어라)\n",
    "        s = '  first star   :   second star   :    third star  '\n",
    "        l = ['first star', 'second star', 'third star']\n",
    "     + 1) for ~ in 문을 이용한 코드를 작성하시오.\n",
    "     + 2) 리스트 내포(list comprehension)를 이용한 코드를 작성하시오."
   ]
  },
  {
   "cell_type": "code",
   "execution_count": null,
   "metadata": {
    "collapsed": false
   },
   "outputs": [],
   "source": [
    "s = '  first star   :   second star   :    third star  '"
   ]
  },
  {
   "cell_type": "code",
   "execution_count": null,
   "metadata": {
    "collapsed": false
   },
   "outputs": [],
   "source": [
    "# 1\n",
    "l = s.split(\":\")\n",
    "for i in range(len(l)) :\n",
    "    l[i]=l[i].strip()\n",
    "print l"
   ]
  },
  {
   "cell_type": "code",
   "execution_count": null,
   "metadata": {
    "collapsed": false
   },
   "outputs": [],
   "source": [
    "# 2\n",
    "l = s.split(\":\")\n",
    "l = [l[i].strip() for i in range(len(l))]\n",
    "print l"
   ]
  },
  {
   "cell_type": "markdown",
   "metadata": {},
   "source": [
    "## 문제 5\n",
    "+ 다음과 같이 0보다 큰 정수 리스트 변수 list를 인자로 받는 함수 addall(list)와 addallodd(list)를 for ~ in 리터널과 리스트 내포 방식으로 각각 제시하시오.\n",
    "    + 1) addall(list) 함수 (리스트 내의 모든 정수를 더하는 함수로서 해답으로는 for ~ in 리터럴과 리스트 내포 방식으로 각각 제시하시오.)\n",
    "            >>> addall([1])\n",
    "            1\n",
    "            >>> addall([1, 2, 3, 4, 5, 6, 7, 8, 9])\n",
    "            45\n",
    "    + 2) addallodd(list) 함수 (리스트 내의 모든 홀수를 더하는 함수로서 해답으로는 for ~ in 리터럴과 리스트 내포 방식으로 각각 제시하시오.)\n",
    "            >>> addall([1])\n",
    "            1\n",
    "            >>> addall([1, 2, 3, 4, 5, 6, 7, 8, 9])\n",
    "            45\n",
    "    + [참고]: 리스트 내포 방식으로 addall() 및 addallodd()함수를 만들 때엔 리스트 내포에 의해 생성된 리스트 결과에 대해 내장 함수를 사용하는 방식을 고려해보시오 (주의: 리스트 내포 방식의 addall() 및 addallodd() 함수의 몸체는 단 1줄로 작성되어야 한다.)\n",
    "    + [참고 2]: sum() 등의 내장함수 사용 가능함"
   ]
  },
  {
   "cell_type": "code",
   "execution_count": null,
   "metadata": {
    "collapsed": false
   },
   "outputs": [],
   "source": [
    "# 1\n",
    "def addall(l) :\n",
    "    sum = 0\n",
    "    for i in range(len(l)) :\n",
    "        sum += l[i]\n",
    "    return sum\n",
    "\n",
    "print addall([1])\n",
    "print addall([1, 2, 3, 4, 5, 6, 7, 8, 9])"
   ]
  },
  {
   "cell_type": "code",
   "execution_count": null,
   "metadata": {
    "collapsed": false
   },
   "outputs": [],
   "source": [
    "def addall(l) :\n",
    "    return sum([l[i] for i in range(len(l))])\n",
    "\n",
    "print addall([1])\n",
    "print addall([1, 2, 3, 4, 5, 6, 7, 8, 9])"
   ]
  },
  {
   "cell_type": "code",
   "execution_count": null,
   "metadata": {
    "collapsed": false
   },
   "outputs": [],
   "source": [
    "# 2\n",
    "def addallodd(l) :\n",
    "    sum = 0\n",
    "    for i in range(len(l)) :\n",
    "        if(l[i] % 2 == 1) :\n",
    "            sum += l[i]\n",
    "    return sum\n",
    "\n",
    "print addallodd([1])\n",
    "print addallodd([1, 2, 3, 4, 5, 6, 7, 8, 9])"
   ]
  },
  {
   "cell_type": "code",
   "execution_count": null,
   "metadata": {
    "collapsed": false
   },
   "outputs": [],
   "source": [
    "def addallodd(l) :\n",
    "    return sum([l[i] for i in range(len(l)) if l[i]%2==1])\n",
    "\n",
    "print addallodd([1])\n",
    "print addallodd([1, 2, 3, 4, 5, 6, 7, 8, 9])"
   ]
  },
  {
   "cell_type": "markdown",
   "metadata": {},
   "source": [
    "## 문제 6\n",
    "+ 다음 코드를 보고 물음에 답하시오."
   ]
  },
  {
   "cell_type": "code",
   "execution_count": 127,
   "metadata": {
    "collapsed": false
   },
   "outputs": [
    {
     "name": "stdout",
     "output_type": "stream",
     "text": [
      "{'high': [4, 5, 6], 'low': [1, 2, 3]}\n",
      "{'high': [4, 5, 6], 'low': [1, 2, 3]}\n",
      "{'high': [4, 5, 6], 'low': [1, 2, 3]}\n",
      "\n",
      "{'high': [4, 500, 6], 'low': [10, 20, 30]}\n",
      "{'high': [4, 500, 6], 'low': [10, 20, 30]}\n",
      "{'high': [4, 500, 6], 'low': [1, 2, 3]}\n"
     ]
    }
   ],
   "source": [
    "L1 = [1, 2, 3]\n",
    "L2 = [4, 5, 6]\n",
    "d = {'low':L1, 'high':L2}\n",
    "e = d\n",
    "f = d.copy()\n",
    "print d\n",
    "print e\n",
    "print f\n",
    "print\n",
    "d['low'] = [10, 20, 30]\n",
    "d['high'][1] = 500\n",
    "print d\n",
    "print e\n",
    "print f"
   ]
  },
  {
   "cell_type": "markdown",
   "metadata": {},
   "source": [
    "+ 1) 위 코드의 수행 결과 d와 e는 항상 같은 결과를 출력한다. 그 이유는 무엇인가?\n",
    "> 4번째 줄에서 e에 d의 객체를 복사했기 때문이다\n",
    "+ 2) 위 코드의 수행 결과 마지막 f의 내용은 다음과 같다. 이 때 'high' 키의 값 내용 중 500이 출력된 이유와 'low' 키의 값 내용 중 [1, 2, 3]이 출력된 이유를 설명하시오 ([hint]: shallow copy 관점에서 설명하시오.)\n",
    "> shallow copy는 얕은 복사로 같은 객체를 공유하는 것이 아니라 객체를 복사하는 것이다. 이럴경우 원래의 객체와 생성된 객체는 값이 같을 뿐 별도의 객체이기 때문에 d를 수정해도 f는 변하지 않는다. 그러나 list의 인덱싱 되어진 값은 deep copy로 함께 공유하여 사용하기 때문에 d의 값을 수정하면 f에서도 변하게 된다."
   ]
  },
  {
   "cell_type": "markdown",
   "metadata": {},
   "source": [
    "## 문제 7\n",
    "+ 사전 d = {'one':1, 'two':2, 'three':3, 'four':4, 'five':5}가 주어졌을 때 다음 요구사항에 맞는 코드를 제시하시오\n",
    "    + [참고]: d.keys(), d.values()를 통해 리스트를 얻어낸 후 리스트가 지니고 있는 sort(cmp=None, key=None, reverse=False)함수를 활용하시오.\n",
    "    + 1) 키의 알파벳 오름차순 순서대로 튜플 (키, 값)을 차례대로 출력하시오.\n",
    "    + 2) 키의 알파벳 내림차순 순서대로 튜플 (키, 값)을 차례대로 출력하시오.\n",
    "    + 3) 값의 오름차순 순서대로 튜플 (키, 값)을 차례대로 출력하시오.\n",
    "    + 4) 값의 내림차순 순서대로 튜플 (키, 값)을 차례대로 출력하시오."
   ]
  },
  {
   "cell_type": "code",
   "execution_count": 128,
   "metadata": {
    "collapsed": false
   },
   "outputs": [],
   "source": [
    "d = {'one':1, 'two':2, 'three':3, 'four':4, 'five':5}\n",
    "items = d.items()"
   ]
  },
  {
   "cell_type": "code",
   "execution_count": 129,
   "metadata": {
    "collapsed": false
   },
   "outputs": [
    {
     "name": "stdout",
     "output_type": "stream",
     "text": [
      "[('five', 5), ('four', 4), ('one', 1), ('three', 3), ('two', 2)]\n"
     ]
    }
   ],
   "source": [
    "# 1\n",
    "items.sort()\n",
    "print items"
   ]
  },
  {
   "cell_type": "code",
   "execution_count": 130,
   "metadata": {
    "collapsed": false
   },
   "outputs": [
    {
     "name": "stdout",
     "output_type": "stream",
     "text": [
      "[('two', 2), ('three', 3), ('one', 1), ('four', 4), ('five', 5)]\n"
     ]
    }
   ],
   "source": [
    "# 2\n",
    "items.sort()\n",
    "items.reverse()\n",
    "print items"
   ]
  },
  {
   "cell_type": "code",
   "execution_count": 131,
   "metadata": {
    "collapsed": false
   },
   "outputs": [
    {
     "name": "stdout",
     "output_type": "stream",
     "text": [
      "[('one', 1), ('two', 2), ('three', 3), ('four', 4), ('five', 5)]\n"
     ]
    }
   ],
   "source": [
    "def f(item):\n",
    "    return item[1]\n",
    "\n",
    "items.sort(key=f)\n",
    "print items"
   ]
  },
  {
   "cell_type": "code",
   "execution_count": 132,
   "metadata": {
    "collapsed": false
   },
   "outputs": [
    {
     "name": "stdout",
     "output_type": "stream",
     "text": [
      "[('five', 5), ('four', 4), ('three', 3), ('two', 2), ('one', 1)]\n"
     ]
    }
   ],
   "source": [
    "def f(item):\n",
    "    return item[1]\n",
    "\n",
    "items.sort(key=f)\n",
    "items.reverse()\n",
    "print items"
   ]
  },
  {
   "cell_type": "markdown",
   "metadata": {},
   "source": [
    "## 문제 8\n",
    "+ [프로젝트 오일러 문제 7] 소수를 크기 순으로 나열하면 2, 3, 5, 7, 11, 13, ... 과 같이 됩니다.이 때 10,001번째의 소수를 구하세요."
   ]
  },
  {
   "cell_type": "code",
   "execution_count": 133,
   "metadata": {
    "collapsed": false
   },
   "outputs": [
    {
     "name": "stdout",
     "output_type": "stream",
     "text": [
      "104743\n"
     ]
    }
   ],
   "source": [
    "import math\n",
    "\n",
    "num=2\n",
    "count=0\n",
    "\n",
    "while count < 10001 :\n",
    "    tmp = 0\n",
    "    for i in range(1, int(math.sqrt(num))+1) : \n",
    "        if num%i == 0 :\n",
    "            tmp += 1\n",
    "    if tmp == 1 :\n",
    "        count += 1\n",
    "    num += 1\n",
    "print num-1"
   ]
  },
  {
   "cell_type": "markdown",
   "metadata": {},
   "source": [
    "## 문제 9\n",
    "+ [프로젝트 오일러 문제 8] 다음은 연속된 1000자리 숫자입니다 (읽기 좋게 50자리씩 잘라놓음). 맨 처음 (7 × 3 × 1 × 6 × 7 = 882) 부터 맨 끝 (6 × 3 × 4 × 5 × 0 = 0) 까지 5자리 숫자들의 곱을 구할 수 있습니다. 이렇게 구할 수 있는 5자리 숫자의 곱 중에서 가장 큰 값은 얼마입니까?"
   ]
  },
  {
   "cell_type": "code",
   "execution_count": 134,
   "metadata": {
    "collapsed": false
   },
   "outputs": [
    {
     "name": "stdout",
     "output_type": "stream",
     "text": [
      "1000\n"
     ]
    }
   ],
   "source": [
    "string = \"\"\"\n",
    "73167176531330624919225119674426574742355349194934\n",
    "96983520312774506326239578318016984801869478851843\n",
    "85861560789112949495459501737958331952853208805511\n",
    "12540698747158523863050715693290963295227443043557\n",
    "66896648950445244523161731856403098711121722383113\n",
    "62229893423380308135336276614282806444486645238749\n",
    "30358907296290491560440772390713810515859307960866\n",
    "70172427121883998797908792274921901699720888093776\n",
    "65727333001053367881220235421809751254540594752243\n",
    "52584907711670556013604839586446706324415722155397\n",
    "53697817977846174064955149290862569321978468622482\n",
    "83972241375657056057490261407972968652414535100474\n",
    "82166370484403199890008895243450658541227588666881\n",
    "16427171479924442928230863465674813919123162824586\n",
    "17866458359124566529476545682848912883142607690042\n",
    "24219022671055626321111109370544217506941658960408\n",
    "07198403850962455444362981230987879927244284909188\n",
    "84580156166097919133875499200524063689912560717606\n",
    "05886116467109405077541002256983155200055935729725\n",
    "71636269561882670428252483600823257530420752963450\n",
    "\"\"\"\n",
    "\n",
    "l = string.split('\\n')\n",
    "num = ''.join(l)\n",
    "print len(num)"
   ]
  },
  {
   "cell_type": "code",
   "execution_count": 135,
   "metadata": {
    "collapsed": false
   },
   "outputs": [
    {
     "name": "stdout",
     "output_type": "stream",
     "text": [
      "40824\n"
     ]
    }
   ],
   "source": [
    "max = 0\n",
    "def mult(x) :\n",
    "    y = 1\n",
    "    for i in range(x, x+5) :\n",
    "        y *= int(num[i])\n",
    "    return y\n",
    "\n",
    "for i in range(0, 956) :\n",
    "    if mult(i) > max :\n",
    "        max = mult(i)\n",
    "print max"
   ]
  },
  {
   "cell_type": "markdown",
   "metadata": {},
   "source": [
    "## 문제 10\n",
    "+ [프로젝트 오일러 문제 9] 세 자연수 a, b, c 가 피타고라스 정리 a2 + b2 = c2 를 만족하면 피타고라스 수라고 부릅니다 (여기서 a < b < c ).\n",
    "예를 들면 32 + 42 = 9 + 16 = 25 = 52이므로 3, 4, 5는 피타고라스 수입니다. a + b + c = 1000 인 피타고라스 수 a, b, c는 한 가지 뿐입니다. 이 때, a × b × c 는 얼마입니까?"
   ]
  },
  {
   "cell_type": "code",
   "execution_count": 136,
   "metadata": {
    "collapsed": false
   },
   "outputs": [
    {
     "name": "stdout",
     "output_type": "stream",
     "text": [
      "31875000\n"
     ]
    }
   ],
   "source": [
    "for a in range(1,1001):\n",
    "    for b in range(a,(1000-a)+1):\n",
    "        c = 1000-(a+b)\n",
    "        if(a**2 + b**2 == c**2) :\n",
    "            print a*b*c"
   ]
  },
  {
   "cell_type": "markdown",
   "metadata": {
    "collapsed": true
   },
   "source": [
    "## 문제 11\n",
    "+ [Incremental Project] 이전 Assignment 2의 마지막 문제는 웹 URL로 지정된 웹페이지를 문자열로 가져와 모든 HTML 태그 및 CSS와 Javascript를 제외한 순수 텍스트를 얻어내고 그 안에 존재하는 단어를 추출하고 단어들의 총 개수를 출력하는 프로그램을 작성하는 것이었다. 이번에는 그 마지막 숙제를 그대로 확장하여 웹 URL로 지정된 웹페이지 내 순수 텍스트 안에 존재하는 각 단어들에 대해 다음 요구사항 대로 출력하는 프로그램을 작성하시오.\n",
    "    + 요구사항 1. 순수 텍스트 안에 존재하는 단어들에 대해 string 모듈을 활용하여 모든 punctuation (구두문자)를 완벽히 제거하시오.\n",
    "        + 예: ['world!', ':', '+hello+', '~python$$$', '=', 'world'] ---> ['world', 'hello', 'python', 'world']\n",
    "        + 모든 punctuation을 확인하는 방법은 아래와 같다.\n",
    "                import string\n",
    "                print string.punctuation\n",
    "    + 만약 punctuation (구두문자)를 제거한 이후 공백으로 판명되는 단어들은 해당 단어 리스트에서 제거하시오.\n",
    "        + 예: ['컴퓨터공학부!', '---?', '%지향~', '...'] ---> ['컴퓨터공학부', '지향']\n",
    "    + 요구사항 3. 각 단어들의 출현빈도를 사전형태로 저장하여 출력하시오.\n",
    "        + 예: ['world', 'hello', 'python', 'world', '컴퓨터공학부', '지향'] ---> {'world': 2, 'hello': 1, 'python': 1, '컴퓨터공학부': 1, '지향': 1}\n",
    "    + 요구사항 4. 다음 3개의 사이트에 대한 결과를 출력하시오.\n",
    "        + http://www.naver.com\n",
    "        + http://www.daum.net\n",
    "        + http://www.nytimes.com"
   ]
  },
  {
   "cell_type": "code",
   "execution_count": 3,
   "metadata": {
    "collapsed": false,
    "scrolled": false
   },
   "outputs": [
    {
     "name": "stdout",
     "output_type": "stream",
     "text": [
      "단어 수 : 454개\n"
     ]
    }
   ],
   "source": [
    "# 기존 코드 수정\n",
    "import urllib2\n",
    "\n",
    "source = urllib2.urlopen(\"http://cse.kut.ac.kr/\").read()\n",
    "\n",
    "def FindText(source) :\n",
    "    while(1) :\n",
    "        if source.find('<!-') == -1 :\n",
    "            break;\n",
    "        source = source.replace(source[source.find('<!-'):source.find('->')+2:],'')\n",
    "\n",
    "    while(1) :\n",
    "        if source.find('<') == -1 :\n",
    "            break;\n",
    "        source = source.replace(source[source.find('<'):source.find('>')+1:],'')\n",
    "    wordlist = source.split()\n",
    "    print \"단어 수 : \" + str(len(wordlist)) + \"개\"\n",
    "    return source\n",
    "\n",
    "source = FindText(urllib2.urlopen(\"http://cse.kut.ac.kr/\").read())"
   ]
  },
  {
   "cell_type": "code",
   "execution_count": 4,
   "metadata": {
    "collapsed": false
   },
   "outputs": [],
   "source": [
    "# 요구사항 1\n",
    "import string\n",
    "\n",
    "def DeletePunctuation(source) :\n",
    "    p = string.punctuation\n",
    "    for i in range (len(p)):\n",
    "        source= source.replace(p[i],\"\")\n",
    "    return source\n",
    "source = DeletePunctuation(source)"
   ]
  },
  {
   "cell_type": "code",
   "execution_count": 139,
   "metadata": {
    "collapsed": false
   },
   "outputs": [],
   "source": [
    "# 요구사항 2\n",
    "wordlist = source.split()"
   ]
  },
  {
   "cell_type": "code",
   "execution_count": 140,
   "metadata": {
    "collapsed": false
   },
   "outputs": [
    {
     "name": "stdout",
     "output_type": "stream",
     "text": [
      "홈페이지에 -- 1\n",
      "특성화 -- 3\n",
      "1718 -- 2\n",
      "소개합니다 -- 1\n",
      "레몬 -- 1\n",
      "글로벌 -- 3\n",
      "1143 -- 2\n",
      "모집119 -- 1\n",
      "생겨 -- 1\n",
      "온라인 -- 3\n",
      "계속 -- 1\n",
      "0836 -- 2\n",
      "사용할 -- 1\n",
      "메카한국기술교육대학교 -- 1\n",
      "20161019 -- 3\n",
      "유지 -- 2\n",
      "교육역량강화사업 -- 3\n",
      "있으니 -- 1\n",
      "공지사항 -- 1\n",
      "31253 -- 1\n",
      "20161012 -- 2\n",
      "소개 -- 1\n",
      "Catalystbacked -- 1\n",
      "업무 -- 1\n",
      "찾기 -- 1\n",
      "정기교육 -- 1\n",
      "게임방 -- 1\n",
      "베인스 -- 1\n",
      "펜타시스템 -- 1\n",
      "안전환경 -- 1\n",
      "것을환영합니다 -- 1\n",
      "학사안내 -- 1\n",
      "취업게시판 -- 1\n",
      "to -- 1\n",
      "경진대회』모집 -- 1\n",
      "IDPW -- 1\n",
      "로보어드바이저 -- 1\n",
      "© -- 1\n",
      "Convergence -- 1\n",
      "바로가기 -- 2\n",
      "2016 -- 2\n",
      "1461 -- 1\n",
      "app -- 1\n",
      "단 -- 1\n",
      "동남구 -- 2\n",
      "학부광장 -- 1\n",
      "rights -- 1\n",
      "1441 -- 2\n",
      "국감최성준 -- 1\n",
      "안전처 -- 1\n",
      "특별 -- 1\n",
      "0030 -- 2\n",
      "세원정공 -- 1\n",
      "Copyright -- 1\n",
      "20161026 -- 2\n",
      "20161027 -- 1\n",
      "20161024 -- 2\n",
      "20161025 -- 1\n",
      "Quick -- 1\n",
      "FAX -- 1\n",
      "브라우저를 -- 1\n",
      "All -- 1\n",
      "컨텐츠를 -- 1\n",
      "is -- 2\n",
      "아이디어 -- 1\n",
      "1553 -- 2\n",
      "중국인 -- 1\n",
      "1704 -- 2\n",
      "23406개 -- 1\n",
      "학부서비스 -- 1\n",
      "모 -- 2\n",
      "해커톤 -- 1\n",
      "India -- 1\n",
      "컨퍼런스 -- 1\n",
      "분리공시제 -- 1\n",
      "모집 -- 1\n",
      "한국기술교육대학교 -- 5\n",
      "홈페이지 -- 1\n",
      "Registration -- 1\n",
      "1412 -- 2\n",
      "Education -- 1\n",
      "대회 -- 1\n",
      "전자신문 -- 1\n",
      "수 -- 2\n",
      "로그인할 -- 1\n",
      "official -- 1\n",
      "등 -- 1\n",
      "대외활동 -- 1\n",
      "연속 -- 1\n",
      "WEBMAIL -- 1\n",
      "데 -- 1\n",
      "3D프린터연구개발 -- 1\n",
      "School -- 1\n",
      "rival -- 1\n",
      "20161113일 -- 1\n",
      "엑셀러레이터 -- 1\n",
      "‘제 -- 1\n",
      "지원』수요조사 -- 1\n",
      "Campus -- 1\n",
      "병천면 -- 2\n",
      "20161030 -- 1\n",
      "학교 -- 1\n",
      "General -- 1\n",
      "1조 -- 1\n",
      "유지될 -- 1\n",
      "공고공설 -- 1\n",
      "competitor -- 1\n",
      "for -- 1\n",
      "자유여행객 -- 1\n",
      "꼭 -- 1\n",
      "비밀번호 -- 1\n",
      "0911 -- 2\n",
      "codesprint -- 1\n",
      "0838 -- 2\n",
      "속도 -- 1\n",
      "대전금속 -- 1\n",
      "회원가입 -- 1\n",
      "1522 -- 2\n",
      "기고사물인터넷 -- 1\n",
      "Navigation -- 1\n",
      "다기능 -- 1\n",
      "학과사무실 -- 1\n",
      "1131 -- 2\n",
      "후끈 -- 1\n",
      "신입사원 -- 2\n",
      "신입직원 -- 1\n",
      "Empowerment -- 1\n",
      "161026수 -- 1\n",
      "ba -- 1\n",
      "개최 -- 2\n",
      "CSE -- 1\n",
      "필요하다” -- 1\n",
      "Study -- 1\n",
      "공학교육인증 -- 1\n",
      "실험실 -- 1\n",
      "간식이벤트 -- 1\n",
      "묘수 -- 1\n",
      "커버리지 -- 1\n",
      "its -- 1\n",
      "‘파운트’ -- 1\n",
      "Contact -- 1\n",
      "대기업셀바스그룹신입공채SWHW개발 -- 1\n",
      "가치 -- 1\n",
      "100 -- 1\n",
      "다음 -- 1\n",
      "by -- 1\n",
      "041 -- 2\n",
      "전문기업 -- 1\n",
      "hackerrank -- 1\n",
      "충청남도 -- 2\n",
      "특화 -- 1\n",
      "1회 -- 1\n",
      "of -- 1\n",
      "30 -- 1\n",
      "재난망 -- 1\n",
      "소프 -- 1\n",
      "아이폰7 -- 1\n",
      "Computer -- 1\n",
      "Octane -- 1\n",
      "Controversial -- 1\n",
      "you -- 1\n",
      "고취 -- 1\n",
      "필요가 -- 1\n",
      "신입채용 -- 1\n",
      "Contents -- 1\n",
      "주인스텍 -- 1\n",
      "2학기 -- 1\n",
      "1223 -- 2\n",
      "Schoolfun -- 1\n",
      "도입 -- 1\n",
      "찾았다 -- 1\n",
      "1443 -- 2\n",
      "IT융합분야에 -- 1\n",
      "신 -- 1\n",
      "Creative -- 1\n",
      "will -- 1\n",
      "세원그룹대기업직무별 -- 1\n",
      "10분기 -- 1\n",
      "Online -- 1\n",
      "서진씨엔에스주 -- 1\n",
      "정보보안 -- 1\n",
      "20161006 -- 5\n",
      "인력양성사업 -- 3\n",
      "1739 -- 2\n",
      "20161102 -- 7\n",
      "2203 -- 2\n",
      "TEL -- 1\n",
      "1635 -- 2\n",
      "수준의 -- 1\n",
      "사전예약 -- 1\n",
      "졸업 -- 1\n",
      "유출될 -- 1\n",
      "세계 -- 1\n",
      "comes -- 1\n",
      "시 -- 1\n",
      "공지입니다 -- 1\n",
      "제3회 -- 1\n",
      "프리 -- 1\n",
      "KoreaI -- 1\n",
      "블루포인트파트너스 -- 1\n",
      "공채 -- 1\n",
      "CK -- 1\n",
      "대학원 -- 2\n",
      "1358 -- 2\n",
      "기능을 -- 1\n",
      "『IT융합 -- 2\n",
      "launc -- 1\n",
      "560 -- 2\n",
      "Science -- 1\n",
      "1128 -- 2\n",
      "자유게시판 -- 1\n",
      "구성원소개 -- 1\n",
      "대한 -- 1\n",
      "new -- 1\n",
      "Teams -- 2\n",
      "로그아웃을 -- 1\n",
      "개인정보가 -- 1\n",
      "대구 -- 1\n",
      "공고 -- 1\n",
      "20161101 -- 3\n",
      "안내 -- 2\n",
      "HRD초청특강 -- 1\n",
      "Fun -- 1\n",
      "20161103 -- 3\n",
      "규모 -- 1\n",
      "인기투표 -- 1\n",
      "1600한국기술교육대학교 -- 1\n",
      "2015 -- 1\n",
      "Vigilante -- 1\n",
      "열기 -- 1\n",
      "해주세요 -- 1\n",
      "TechCrunch -- 1\n",
      "접속부터는 -- 1\n",
      "Engineering -- 1\n",
      "2359 -- 2\n",
      "12억원 -- 1\n",
      "Close -- 1\n",
      "30기 -- 1\n",
      "1462 -- 1\n",
      "평생교육원 -- 1\n",
      "Location -- 1\n",
      "and -- 2\n",
      "가전리 -- 1\n",
      "천안시 -- 2\n",
      "reserved -- 1\n",
      "세미나 -- 1\n",
      "IT전문인력 -- 1\n",
      "경쟁력 -- 1\n",
      "‘고 -- 1\n",
      "컴퓨터공학부 -- 7\n",
      "Microsoft -- 1\n",
      "요금할인 -- 1\n",
      "6949개 -- 1\n",
      "이용 -- 1\n",
      "2016년 -- 2\n",
      "지능정보사회로의 -- 1\n",
      "0957 -- 2\n",
      "오신 -- 1\n",
      "Slack -- 2\n",
      "Microsoft’s -- 1\n",
      "충절로 -- 2\n",
      "200개가 -- 1\n",
      "2343 -- 2\n",
      "1460 -- 1\n",
      "0000 -- 2\n",
      "1617 -- 2\n",
      "make -- 1\n",
      "5회 -- 1\n",
      "교통카드 -- 1\n",
      "메카 -- 1\n",
      "제 -- 1\n",
      "“한국에는 -- 1\n",
      "닫더라도 -- 1\n",
      "없습니다 -- 1\n",
      "1440 -- 2\n",
      "교육의 -- 2\n",
      "신설법인 -- 1\n",
      "공공장소에서 -- 1\n",
      "경우 -- 1\n",
      "사이버보안 -- 1\n",
      "9월 -- 1\n",
      "컨텐츠 -- 2\n",
      "딥테크 -- 1\n",
      "아이디 -- 1\n",
      "융합소프트웨어 -- 3\n",
      "University -- 1\n",
      "자료실 -- 2\n",
      "0024 -- 2\n",
      "Houzz -- 1\n",
      "작품 -- 1\n",
      "crime -- 1\n",
      "학부 -- 1\n",
      "reporting -- 1\n",
      "입학 -- 1\n",
      "IT -- 6\n",
      "Capability -- 1\n",
      "있습니다 -- 1\n",
      "… -- 1\n",
      "인터넷 -- 1\n",
      "양성 -- 1\n",
      "전시회 -- 1\n",
      "연결고리 -- 1\n",
      "a -- 1\n",
      "로그인이 -- 1\n",
      "국가는 -- 1\n",
      "1위 -- 1\n",
      "1800 -- 4\n",
      "1600 -- 1\n",
      "1602 -- 2\n",
      "교직원 -- 1\n",
      "Facebook -- 1\n",
      "스타트업 -- 2\n",
      "국제적인 -- 1\n",
      "1001 -- 2\n",
      "Platum -- 1\n",
      "충북IT분야 -- 1\n",
      "로그인 -- 4\n",
      "34분기 -- 1\n",
      "시상 -- 1\n"
     ]
    }
   ],
   "source": [
    "# 요구사항 3\n",
    "def DicWord(wordlist) :\n",
    "    worddic = {}\n",
    "    for word in wordlist :\n",
    "        if worddic.get(word) == None :\n",
    "            worddic[word] = 1\n",
    "        else :\n",
    "            worddic[word] += 1\n",
    "    return worddic\n",
    "\n",
    "worddic = DicWord(wordlist);\n",
    "for i in worddic :\n",
    "    print i+\" -- \"+ str(worddic[i])"
   ]
  },
  {
   "cell_type": "code",
   "execution_count": 1,
   "metadata": {
    "collapsed": false
   },
   "outputs": [
    {
     "ename": "NameError",
     "evalue": "name 'FindText' is not defined",
     "output_type": "error",
     "traceback": [
      "\u001b[1;31m---------------------------------------------------------------------------\u001b[0m",
      "\u001b[1;31mNameError\u001b[0m                                 Traceback (most recent call last)",
      "\u001b[1;32m<ipython-input-1-ba76210a6383>\u001b[0m in \u001b[0;36m<module>\u001b[1;34m()\u001b[0m\n\u001b[0;32m      1\u001b[0m \u001b[1;31m#요구사항 4\u001b[0m\u001b[1;33m\u001b[0m\u001b[1;33m\u001b[0m\u001b[0m\n\u001b[1;32m----> 2\u001b[1;33m \u001b[0mnaver\u001b[0m \u001b[1;33m=\u001b[0m \u001b[0mFindText\u001b[0m\u001b[1;33m(\u001b[0m\u001b[0murllib2\u001b[0m\u001b[1;33m.\u001b[0m\u001b[0murlopen\u001b[0m\u001b[1;33m(\u001b[0m\u001b[1;34m\"http://www.nytimes.com/\"\u001b[0m\u001b[1;33m)\u001b[0m\u001b[1;33m.\u001b[0m\u001b[0mread\u001b[0m\u001b[1;33m(\u001b[0m\u001b[1;33m)\u001b[0m\u001b[1;33m)\u001b[0m\u001b[1;33m\u001b[0m\u001b[0m\n\u001b[0m\u001b[0;32m      3\u001b[0m \u001b[0mnaver\u001b[0m \u001b[1;33m=\u001b[0m \u001b[0mDeletePunctuation\u001b[0m\u001b[1;33m(\u001b[0m\u001b[0mnaver\u001b[0m\u001b[1;33m)\u001b[0m\u001b[1;33m\u001b[0m\u001b[0m\n\u001b[0;32m      4\u001b[0m \u001b[1;32mprint\u001b[0m \u001b[0mnaver\u001b[0m\u001b[1;33m\u001b[0m\u001b[0m\n\u001b[0;32m      5\u001b[0m \u001b[0mwordlist\u001b[0m \u001b[1;33m=\u001b[0m \u001b[0msource\u001b[0m\u001b[1;33m.\u001b[0m\u001b[0msplit\u001b[0m\u001b[1;33m(\u001b[0m\u001b[1;33m)\u001b[0m\u001b[1;33m\u001b[0m\u001b[0m\n",
      "\u001b[1;31mNameError\u001b[0m: name 'FindText' is not defined"
     ]
    }
   ],
   "source": [
    "#요구사항 4\n",
    "naver = FindText(urllib2.urlopen(\"http://www.nytimes.com/\").read())\n",
    "naver = DeletePunctuation(naver)\n",
    "print naver\n",
    "wordlist = source.split()\n",
    "worddic = DicWord(wordlist);\n",
    "for i in worddic :\n",
    "    print i+\" -- \"+ str(worddic[i])"
   ]
  },
  {
   "cell_type": "markdown",
   "metadata": {
    "collapsed": true
   },
   "source": [
    "## 소감\n",
    " + 프로젝트 오일러 7번 문제에서 제곱급을 이용해 마지막 값을 정하는 경우, 2와 3은 제곱근을 정수로 취한값이 1이여서 range(2, 2)와 같은 상황이 되버린다. 그래서 이제까지는 2와 3이 소수라는 것을 바탕에 두고 코딩을 했는데 이번에 다른 방법을 생각해봤다. 변수를 하나 더 사용하는 방법말고는 딱히 생각이 안났다. 고민해봐야겠다."
   ]
  }
 ],
 "metadata": {
  "anaconda-cloud": {},
  "kernelspec": {
   "display_name": "Python [Root]",
   "language": "python",
   "name": "Python [Root]"
  },
  "language_info": {
   "codemirror_mode": {
    "name": "ipython",
    "version": 2
   },
   "file_extension": ".py",
   "mimetype": "text/x-python",
   "name": "python",
   "nbconvert_exporter": "python",
   "pygments_lexer": "ipython2",
   "version": "2.7.12"
  }
 },
 "nbformat": 4,
 "nbformat_minor": 0
}
