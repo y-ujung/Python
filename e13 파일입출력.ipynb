{
 "cells": [
  {
   "cell_type": "code",
   "execution_count": 73,
   "metadata": {
    "collapsed": false
   },
   "outputs": [
    {
     "name": "stdout",
     "output_type": "stream",
     "text": [
      "C:\\Users\\user\\Documents\\GitHub\\Script-Programming\n"
     ]
    }
   ],
   "source": [
    "import os\n",
    "\n",
    "print os.getcwd() #Current Working Directory"
   ]
  },
  {
   "cell_type": "markdown",
   "metadata": {},
   "source": [
    "## 파일 쓰기"
   ]
  },
  {
   "cell_type": "code",
   "execution_count": 74,
   "metadata": {
    "collapsed": true
   },
   "outputs": [],
   "source": [
    "s= \"\"\"Its power\n",
    "python\n",
    "test!!\"\"\""
   ]
  },
  {
   "cell_type": "code",
   "execution_count": 75,
   "metadata": {
    "collapsed": true
   },
   "outputs": [],
   "source": [
    "f = open('test.txt', 'w')\n",
    "f.write(s)\n",
    "f.close()"
   ]
  },
  {
   "cell_type": "markdown",
   "metadata": {},
   "source": [
    "### 라인 단위로 파일 쓰기"
   ]
  },
  {
   "cell_type": "code",
   "execution_count": 76,
   "metadata": {
    "collapsed": false
   },
   "outputs": [],
   "source": [
    "lines = ['first\\n', 'second\\n', 'third\\n']\n",
    "f = open('write_test1.txt', 'w')\n",
    "f.writelines(lines)\n",
    "f.close()"
   ]
  },
  {
   "cell_type": "code",
   "execution_count": 77,
   "metadata": {
    "collapsed": false
   },
   "outputs": [],
   "source": [
    "lines = ['first', 'second', 'third']\n",
    "f= open('write_test2.txt', 'w')\n",
    "f.write('\\n'.join(lines))\n",
    "f.close()"
   ]
  },
  {
   "cell_type": "markdown",
   "metadata": {},
   "source": [
    "### 기존 파일에 내용 추가"
   ]
  },
  {
   "cell_type": "code",
   "execution_count": 79,
   "metadata": {
    "collapsed": false
   },
   "outputs": [
    {
     "name": "stdout",
     "output_type": "stream",
     "text": [
      "Its power\n",
      "python\n",
      "test!!add text\n",
      "\n"
     ]
    }
   ],
   "source": [
    "f = open('test.txt', 'a')\n",
    "f.write('add text\\n')\n",
    "f.close()\n",
    "\n",
    "f = open('test.txt')\n",
    "print f.read()"
   ]
  },
  {
   "cell_type": "markdown",
   "metadata": {},
   "source": [
    "## 파일 읽기"
   ]
  },
  {
   "cell_type": "code",
   "execution_count": 80,
   "metadata": {
    "collapsed": false
   },
   "outputs": [
    {
     "name": "stdout",
     "output_type": "stream",
     "text": [
      "Its power\n",
      "python\n",
      "test!!add text\n",
      "\n"
     ]
    }
   ],
   "source": [
    "f = open('test.txt')\n",
    "t=f.read()\n",
    "print t\n",
    "f.close()"
   ]
  },
  {
   "cell_type": "markdown",
   "metadata": {},
   "source": [
    "### 라인 단위로 파일 읽기"
   ]
  },
  {
   "cell_type": "code",
   "execution_count": 81,
   "metadata": {
    "collapsed": false
   },
   "outputs": [
    {
     "name": "stdout",
     "output_type": "stream",
     "text": [
      "1 : Its power\n",
      "2 : python\n",
      "3 : test!!add text\n"
     ]
    }
   ],
   "source": [
    "# 추천\n",
    "f= open('test.txt')\n",
    "i=1\n",
    "for line in f :\n",
    "    print i, \":\", line,\n",
    "    i += 1\n",
    "f.close()"
   ]
  },
  {
   "cell_type": "code",
   "execution_count": 82,
   "metadata": {
    "collapsed": false
   },
   "outputs": [
    {
     "name": "stdout",
     "output_type": "stream",
     "text": [
      "1 : Its power\n",
      "2 : python\n",
      "3 : test!!add text\n"
     ]
    }
   ],
   "source": [
    "f = open('test.txt')\n",
    "line = f.readline()\n",
    "i=1\n",
    "while line:\n",
    "    print i, \":\", line,\n",
    "    line = f.readline()\n",
    "    i += 1\n",
    "f.close()"
   ]
  },
  {
   "cell_type": "code",
   "execution_count": 83,
   "metadata": {
    "collapsed": false
   },
   "outputs": [
    {
     "name": "stdout",
     "output_type": "stream",
     "text": [
      "['Its power\\n', 'python\\n', 'test!!add text\\n']\n",
      "\n",
      "1 : s power\n",
      "2 : python\n",
      "3 : test!!add text\n"
     ]
    }
   ],
   "source": [
    "f = open('test.txt')\n",
    "print f.readlines() #리스트 반환. 메모리 측면에서 비효율적\n",
    "print\n",
    "\n",
    "f.seek(2) # 파일 포인터를 첫번째로 돌려줌\n",
    "i = 1\n",
    "for line in f.readlines() : \n",
    "    print i, \":\", line,\n",
    "    i += 1\n",
    "f.close()"
   ]
  },
  {
   "cell_type": "code",
   "execution_count": 84,
   "metadata": {
    "collapsed": false
   },
   "outputs": [
    {
     "name": "stdout",
     "output_type": "stream",
     "text": [
      "<open file 'test.txt', mode 'r' at 0x0000000003A3A030>\n",
      "\n",
      "1 : Its power\n",
      "2 : python\n",
      "3 : test!!add text\n"
     ]
    }
   ],
   "source": [
    "# 추천\n",
    "f = open('test.txt')\n",
    "print f.xreadlines() #파일객체\n",
    "print\n",
    "\n",
    "f.seek(0)\n",
    "i = 1\n",
    "for line in f.xreadlines() :\n",
    "    print i, \":\", line,\n",
    "    i += 1\n",
    "f.close()"
   ]
  },
  {
   "cell_type": "code",
   "execution_count": 104,
   "metadata": {
    "collapsed": false
   },
   "outputs": [
    {
     "name": "stdout",
     "output_type": "stream",
     "text": [
      "5\n"
     ]
    }
   ],
   "source": [
    "f = open('test.txt')\n",
    "s = f.read()\n",
    "n = len(s.split())\n",
    "print n\n",
    "f.close()"
   ]
  },
  {
   "cell_type": "code",
   "execution_count": 108,
   "metadata": {
    "collapsed": false
   },
   "outputs": [
    {
     "name": "stdout",
     "output_type": "stream",
     "text": [
      "1 : ['Its', 'power'] 2\n",
      "1 : ['python'] 1\n",
      "1 : ['test!!add', 'text'] 2\n"
     ]
    }
   ],
   "source": [
    "f = open('test.txt')\n",
    "i = 1\n",
    "for line in f.xreadlines() :\n",
    "    w = line.split()\n",
    "    print i, \":\", w, len(w)"
   ]
  },
  {
   "cell_type": "markdown",
   "metadata": {},
   "source": [
    "## 표준출력"
   ]
  },
  {
   "cell_type": "code",
   "execution_count": 85,
   "metadata": {
    "collapsed": true
   },
   "outputs": [],
   "source": [
    "import sys\n",
    "\n",
    "f = open('std_test.txt', 'w')\n",
    "stdout = sys.stdout\n",
    "sys.stdout = f\n",
    "print 'good'\n",
    "print 'haha'\n",
    "f.close()\n",
    "sys.stdout = stdout"
   ]
  },
  {
   "cell_type": "code",
   "execution_count": 86,
   "metadata": {
    "collapsed": false
   },
   "outputs": [
    {
     "name": "stdout",
     "output_type": "stream",
     "text": [
      "good\n",
      "haha\n",
      "\n"
     ]
    }
   ],
   "source": [
    "f = open('std_test.txt')\n",
    "print f.read()"
   ]
  },
  {
   "cell_type": "code",
   "execution_count": 87,
   "metadata": {
    "collapsed": false
   },
   "outputs": [
    {
     "name": "stderr",
     "output_type": "stream",
     "text": [
      "warning\n"
     ]
    }
   ],
   "source": [
    "print >> sys.stderr, \"warning\""
   ]
  },
  {
   "cell_type": "code",
   "execution_count": 88,
   "metadata": {
    "collapsed": false
   },
   "outputs": [
    {
     "name": "stdout",
     "output_type": "stream",
     "text": [
      "spam\n",
      "\n"
     ]
    }
   ],
   "source": [
    "# 추천\n",
    "f = open('std_test2.txt', 'w')\n",
    "print >> f, 'spam'\n",
    "f.close()\n",
    "\n",
    "f = open('std_test2.txt')\n",
    "print f.read()\n",
    "f.close()"
   ]
  },
  {
   "cell_type": "code",
   "execution_count": 89,
   "metadata": {
    "collapsed": false
   },
   "outputs": [
    {
     "name": "stdout",
     "output_type": "stream",
     "text": [
      "abc\n",
      "\n",
      "abc\n"
     ]
    }
   ],
   "source": [
    "import StringIO\n",
    "\n",
    "f= StringIO.StringIO()\n",
    "f.write(\"abc\")\n",
    "f.seek(0)\n",
    "s = f.read()\n",
    "print s\n",
    "print\n",
    "\n",
    "s2 = f.getvalue()\n",
    "print s2"
   ]
  },
  {
   "cell_type": "code",
   "execution_count": 90,
   "metadata": {
    "collapsed": true
   },
   "outputs": [],
   "source": [
    "import sys\n",
    "import StringIO\n",
    "\n",
    "stdout = sys.stdout\n",
    "sys.stdout = f = StringIO.StringIO()\n",
    "\n",
    "print type(f)\n",
    "print 'good'\n",
    "print 'qwerty'\n",
    "\n",
    "sys.stdout = stdout"
   ]
  },
  {
   "cell_type": "code",
   "execution_count": 91,
   "metadata": {
    "collapsed": false
   },
   "outputs": [
    {
     "name": "stdout",
     "output_type": "stream",
     "text": [
      "go\n",
      "<type 'instance'>\n",
      "good\n",
      "qwerty\n",
      "\n"
     ]
    }
   ],
   "source": [
    "s = f.getvalue()\n",
    "\n",
    "print 'go'\n",
    "print s"
   ]
  },
  {
   "cell_type": "markdown",
   "metadata": {},
   "source": [
    "## 파일로의 지속 모듈"
   ]
  },
  {
   "cell_type": "code",
   "execution_count": 96,
   "metadata": {
    "collapsed": false
   },
   "outputs": [
    {
     "name": "stdout",
     "output_type": "stream",
     "text": [
      "{'tom': 159, 'jim': 568, 'jack': 385, 'yyj': 413}\n",
      "['string', 4, 0.1]\n"
     ]
    }
   ],
   "source": [
    "import pickle\n",
    "\n",
    "phone = {'tom' : 159, 'jack' : 385, 'jim' : 568, 'yyj' : 413}\n",
    "List = ['string', 4, 0.1]\n",
    "Tuple = (phone, List)\n",
    "\n",
    "f = open('pickle_test.txt', 'w')\n",
    "pickle.dump(Tuple, f) #저장하고 하는 객체, 저장하는 위치\n",
    "f.close()\n",
    "\n",
    "f = open('pickle_test.txt')\n",
    "\n",
    "x, y = pickle.load(f)\n",
    "print x\n",
    "print y"
   ]
  },
  {
   "cell_type": "code",
   "execution_count": 103,
   "metadata": {
    "collapsed": false
   },
   "outputs": [
    {
     "name": "stdout",
     "output_type": "stream",
     "text": [
      "__main__.Simple\n",
      "10\n"
     ]
    }
   ],
   "source": [
    "import pickle\n",
    "\n",
    "class Simple : \n",
    "    pass\n",
    "\n",
    "p = Simple()\n",
    "p.count = 10\n",
    "\n",
    "f = open('pickle_test2.txt', 'w')\n",
    "pickle.dump(p, f)\n",
    "f.close()\n",
    "\n",
    "f = open('pickle_test2.txt')\n",
    "t = pickle.load(f)\n",
    "\n",
    "print t.__class__\n",
    "print t.count"
   ]
  },
  {
   "cell_type": "code",
   "execution_count": null,
   "metadata": {
    "collapsed": true
   },
   "outputs": [],
   "source": []
  }
 ],
 "metadata": {
  "anaconda-cloud": {},
  "kernelspec": {
   "display_name": "Python [Root]",
   "language": "python",
   "name": "Python [Root]"
  },
  "language_info": {
   "codemirror_mode": {
    "name": "ipython",
    "version": 2
   },
   "file_extension": ".py",
   "mimetype": "text/x-python",
   "name": "python",
   "nbconvert_exporter": "python",
   "pygments_lexer": "ipython2",
   "version": "2.7.12"
  }
 },
 "nbformat": 4,
 "nbformat_minor": 0
}
