{
 "cells": [
  {
   "cell_type": "markdown",
   "metadata": {},
   "source": [
    "# Assignment4_2013136077윤유정"
   ]
  },
  {
   "cell_type": "markdown",
   "metadata": {
    "collapsed": true
   },
   "source": [
    "## 문제 1\n",
    "파일 s.txt 내의 다음 내용과 함께 아래 문제의 코드를 제시하시오.\n",
    "> pig ham<br></br>cat dog<br></br>ham bird<br></br>dog pig"
   ]
  },
  {
   "cell_type": "code",
   "execution_count": 1,
   "metadata": {
    "collapsed": true
   },
   "outputs": [],
   "source": [
    "s = \"\"\"pig ham\n",
    "cat dog\n",
    "ham bird\n",
    "dog pig\"\"\"\n",
    "\n",
    "f = open('s.txt', 'w')\n",
    "f.write(s)\n",
    "f.close()"
   ]
  },
  {
   "cell_type": "markdown",
   "metadata": {
    "collapsed": true
   },
   "source": [
    "- 1) 파일 s.txt을 읽어서 각 라인에 있는 첫 번째 단어(문자열) 자체들을 기준으로 라인별 정렬후 파일 s1.txt에 그 결과를 기록하는 코드를 작성하시오. 즉, 프로그램 수행 후 s1.txt에 있는 파일 내용은 다음과 같다.\n",
    "> cat dog<br></br>dog pig<br></br>ham bird<br></br>pig ham"
   ]
  },
  {
   "cell_type": "code",
   "execution_count": 2,
   "metadata": {
    "collapsed": false
   },
   "outputs": [
    {
     "name": "stdout",
     "output_type": "stream",
     "text": [
      "cat dog\n",
      "dog pig\n",
      "ham bird\n",
      "pig ham\n"
     ]
    }
   ],
   "source": [
    "f = file('s.txt')\n",
    "s = f.read()\n",
    "f.close()\n",
    "\n",
    "s = s.split('\\n')\n",
    "s.sort()\n",
    "\n",
    "f = file('s1.txt', 'w')\n",
    "f.write('\\n'.join(s))\n",
    "f.close()\n",
    "\n",
    "f = open('s1.txt')\n",
    "print f.read()\n",
    "f.close()"
   ]
  },
  {
   "cell_type": "markdown",
   "metadata": {
    "collapsed": true
   },
   "source": [
    "- 2) 파일 s.txt을 읽어서 각 라인에 있는 두 번째 단어(문자열) 자체들을 기준으로 라인별 정렬후 파일 s2.txt에 그 결과를 기록하는 코드를 작성하시오. 즉, 프로그램 수행 후 s2.txt에 있는 파일 내용은 다음과 같다.\n",
    "> ham bird<br></br>cat dog<br></br>pig ham<br></br>dog pig"
   ]
  },
  {
   "cell_type": "code",
   "execution_count": 3,
   "metadata": {
    "collapsed": false
   },
   "outputs": [
    {
     "name": "stdout",
     "output_type": "stream",
     "text": [
      "ham bird\n",
      "cat dog\n",
      "pig ham\n",
      "dog pig\n"
     ]
    }
   ],
   "source": [
    "f = file('s.txt')\n",
    "s = f.read()\n",
    "f.close()\n",
    "\n",
    "s = s.replace('\\n',' ')\n",
    "s = s.split(' ')\n",
    "items = []\n",
    "\n",
    "for i in range(0,len(s), 2) :\n",
    "    items.append((s[i],s[i+1]))\n",
    "    \n",
    "def f(item) :\n",
    "    return item[1]\n",
    "items.sort(key=f)\n",
    "\n",
    "for i in range(0, len(items)) :\n",
    "    items[i] = \" \".join(items[i])\n",
    "\n",
    "f= open('s2.txt', 'w')\n",
    "f.write(\"\\n\".join(items))\n",
    "f.close()\n",
    "\n",
    "f = open('s2.txt')\n",
    "print f.read()\n",
    "f.close()"
   ]
  },
  {
   "cell_type": "markdown",
   "metadata": {},
   "source": [
    "- 3) 파일 s.txt을 읽어서 각 라인들에 있는 모든 단어들을 순차적으로 다시 나열하되 각 라인에 세 개의 단어들이 오도록 하여 s3.txt에 기록하는 코드를 작성하시오. 즉, 프로그램 수행 후 s3.txt에 있는 파일 내용은 다음과 같다.\n",
    "> pig ham cat<br></br>dog ham bird<br></br>dog pig"
   ]
  },
  {
   "cell_type": "code",
   "execution_count": 4,
   "metadata": {
    "collapsed": false
   },
   "outputs": [
    {
     "name": "stdout",
     "output_type": "stream",
     "text": [
      "pig ham cat\n",
      "dog ham bird\n",
      "dog pig  \n"
     ]
    }
   ],
   "source": [
    "f = file('s.txt')\n",
    "s = f.read()\n",
    "f.close()\n",
    "\n",
    "s = s.replace('\\n',' ')\n",
    "s = s.split(' ')\n",
    "items = []\n",
    "\n",
    "while(len(s) % 3 != 0) :\n",
    "    s.append(' ')\n",
    "\n",
    "for i in range(0,len(s), 3) :\n",
    "    items.append((s[i],s[i+1], s[i+2]))\n",
    "\n",
    "for i in range(0, len(items)) :\n",
    "    items[i] = \" \".join(items[i])\n",
    "\n",
    "f= open('s3.txt', 'w')\n",
    "f.write(\"\\n\".join(items))\n",
    "f.close()\n",
    "\n",
    "f = open('s3.txt')\n",
    "print f.read()\n",
    "f.close()"
   ]
  },
  {
   "cell_type": "markdown",
   "metadata": {},
   "source": [
    "## 문제 2\n",
    "- 1) 프로그램 시작 후 다음과 같은 메시지가 출력되어 1, 2, 3 중 하나의 값을 입력 받도록 한다.\n",
    "> Welcome to Our Service<br></br>1. Sign Up<br></br>2. Sign In<br></br>3. Quit\n",
    "- 2) 1을 선택하면 ID, Password, Name, School의 4가지 정보를 입력받아 파일에 저장하는 프로그램을 작성한다.\n",
    "    - 2-1) 입력된 내용은 access.txt 라는 이름의 텍스트 파일 내에 저장된다.\n",
    "    - 2-2) access.txt 파일의 각 라인에는 가입된 회원 각각의 정보가 \"[id]: [password], [name], [school]\" 형태로 저장된다.\n",
    "    - 2-3) 즉, 가입 회원이 10명이면 access.txt 파일 내에 라인 수도 정확히 10개이다.\n",
    "    - 2-4) 암호화 방식은 sha 모듈을 활용한다. sha 모듈 활용 방법은 본 문제의 마지막에 제시된 sha 활용 예를 참고한다.\n",
    "        - 즉, access.txt 파일 내에 password 정보는 암호화 되어 저장되어야 한다.\n",
    "    - 2-5) 회원 정보를 입력 받을 때 id를 입력 받은 직후 access.txt를 확인하여 이미 존재하는 id가 입력되었다면 다음 메시지를 출력하고 id 정보를 다시 입력받는다.\n",
    "        - Sorry, the entered ID is already used.\n",
    "- 3) 2를 선택하면 ID, Password의 2가지 정보를 입력받는 프로그램을 작성한다.\n",
    "    - 3-1) 입력된 ID 정보가 access.txt에 존재하지 않으면 다음과 같은 메시지를 출력하고 다시 입력받는다.\n",
    "        - Sorry, you are not a registered member.\n",
    "    - 3-2) 입력된 ID가 올바르게 존재하지만 Password 정보가 access.txt 파일에 있는 정보와 불일치하면 다음과 같은 메시지를 출력하고 Password를 다시 입력받는다.\n",
    "        - Sorry, the entered password is not correct.\n",
    "        - 이 때에도 사용자가 입력한 Password 정보와 함께 sha 모듈이 활용되어야 한다.\n",
    "    - 3-3) 입력된 ID와 Password가 모두 올바르면 다음과 같은 메시지를 출력한다.\n",
    "        - Hello [name]!\n",
    "        - 위 [name]에는 access.txt에 기록되어 있는 name 정보를 출력한다.\n",
    "- 4) 3을 선택하면 프로그램이 끝난다.\n",
    "- [참고] sha 모듈 활용 예"
   ]
  },
  {
   "cell_type": "code",
   "execution_count": null,
   "metadata": {
    "collapsed": false
   },
   "outputs": [
    {
     "name": "stdout",
     "output_type": "stream",
     "text": [
      "7c222fb2927d828af22f592134e8932480637c0d\n"
     ]
    },
    {
     "name": "stderr",
     "output_type": "stream",
     "text": [
      "D:\\Anaconda2\\lib\\site-packages\\ipykernel\\__main__.py:1: DeprecationWarning: the sha module is deprecated; use the hashlib module instead\n",
      "  if __name__ == '__main__':\n"
     ]
    }
   ],
   "source": [
    "import sha\n",
    "password_plain = \"12345678\"\n",
    "password_encrypted = sha.new(password_plain).hexdigest()\n",
    "print password_encrypted"
   ]
  },
  {
   "cell_type": "code",
   "execution_count": 1,
   "metadata": {
    "collapsed": false
   },
   "outputs": [
    {
     "name": "stderr",
     "output_type": "stream",
     "text": [
      "D:\\Anaconda2\\lib\\site-packages\\ipykernel\\__main__.py:1: DeprecationWarning: the sha module is deprecated; use the hashlib module instead\n",
      "  if __name__ == '__main__':\n"
     ]
    },
    {
     "name": "stdout",
     "output_type": "stream",
     "text": [
      "\n",
      "Welcome to Our Service\n",
      "1. Sign Up\n",
      "2. Sign In\n",
      "3. Quit\n",
      "\n",
      "Input menu number : 2\n",
      "Input your id : yy\n",
      "Sorry, you are not a registeraed member.\n",
      "Input your id : yyj\n",
      "Input your password : a\n",
      "Sorry, the entered password is not correct.\n",
      "Input your password : aa\n",
      "\n",
      "\tHello yooujung!\n",
      "\n",
      "Welcome to Our Service\n",
      "1. Sign Up\n",
      "2. Sign In\n",
      "3. Quit\n",
      "\n",
      "Input menu number : 3\n"
     ]
    }
   ],
   "source": [
    "import sha\n",
    "import os\n",
    "\n",
    "def menu() :\n",
    "    print \"\"\"\n",
    "Welcome to Our Service\n",
    "1. Sign Up\n",
    "2. Sign In\n",
    "3. Quit\n",
    "\"\"\"\n",
    "    return raw_input(\"Input menu number : \")\n",
    "    \n",
    "def signUp() :\n",
    "    if(os.path.exists('access.txt') == False) :\n",
    "        f = open('access.txt','w')\n",
    "        f.write(\"\")\n",
    "        f.close()\n",
    "        \n",
    "    person = {'id':['password','name','school']}\n",
    "    userid = raw_input('Input your id : ')\n",
    "    f = open('access.txt')\n",
    "    for line in f.xreadlines() :\n",
    "        p = line.split(' : ')\n",
    "        if(p[0] == userid) :\n",
    "            print \"Sorry, the entered ID is already used.\"\n",
    "            f.seek(0)\n",
    "            userid = raw_input('Input your id : ')\n",
    "    f.close()\n",
    "    \n",
    "    userpassword = sha.new(raw_input('Input your password : ')).hexdigest()\n",
    "    username = raw_input('Input your name : ')\n",
    "    userschool = raw_input('Input your school : ')\n",
    "    info = \", \".join([userpassword, username, userschool])\n",
    "    info = ' : '.join([userid,info])\n",
    "    \n",
    "    f=open('access.txt','a')\n",
    "    f.write(info)\n",
    "    f.write(\"\\n\")\n",
    "    f.close()\n",
    "    \n",
    "def signIn() :\n",
    "    person = {'id':['password','name','school']}\n",
    "    userid = raw_input('Input your id : ')\n",
    "    f = open('access.txt')\n",
    "    for line in f.xreadlines() :\n",
    "        p = line.split(' : ')\n",
    "        if(p[0] == userid) :\n",
    "            break\n",
    "    else :\n",
    "        print \"Sorry, you are not a registeraed member.\"\n",
    "        userid = raw_input('Input your id : ')\n",
    "    \n",
    "    while(1) :\n",
    "        userpassword = sha.new(raw_input('Input your password : ')).hexdigest()\n",
    "        info = p[1].split(', ')\n",
    "        \n",
    "        if(info[0] == userpassword) :\n",
    "            print \"\\n\\tHello \" + info[1] + \"!\"\n",
    "            break\n",
    "        else :\n",
    "            print \"Sorry, the entered password is not correct.\"\n",
    "    \n",
    "    f.close()\n",
    "                \n",
    "while 1:\n",
    "    sel = menu()\n",
    "    if sel == '1' :\n",
    "        signUp()\n",
    "    if sel == '2' :\n",
    "        signIn()\n",
    "    if sel == '3' :\n",
    "        break\n",
    "    else :\n",
    "        continue"
   ]
  },
  {
   "cell_type": "markdown",
   "metadata": {},
   "source": [
    "## 문제 3\n",
    "range() 함수와 유사한 frange() 함수를 다음 조건을 참고하여 만드시오.\n",
    "- 1) frange()의 인자 구성은 다음과 같이 range와 동일하지만 각 인수들은 음수를 받지 않는다고 가정한다.\n",
    "> range(stop)<br></br>range(start, stop[, step])\n",
    "- 2) frange() 함수의 인자에 대한 기본 시작(start) 값은 0.0이고, 기본 단계(step) 값은 0.1이다.\n",
    "- 3) frange 사용 예\n",
    "    - 3-1) frange(0.5)\n",
    "        - [0.0, 0.1, 0.2, 0.3, 0.4]\n",
    "    - 3-2) frange(1.0, 2.0)\n",
    "        - [1.0, 1.1, 1.2, 1.3, 1.4, 1.5, 1.6, 1.7, 1.8, 1.9]\n",
    "    - 3-3) frange(2.2, 4.0, 0.5)\n",
    "        - [2.2, 2.7, 3.2, 3.7]"
   ]
  },
  {
   "cell_type": "code",
   "execution_count": null,
   "metadata": {
    "collapsed": false
   },
   "outputs": [],
   "source": [
    "def frange(stop, start=0.0, step=0.1) :\n",
    "    if(start != 0.0) :\n",
    "        stop, start = start, stop\n",
    "    l = []\n",
    "    while(start < stop) :\n",
    "        l.append(start)\n",
    "        start = round(start + step, 3)\n",
    "    return l"
   ]
  },
  {
   "cell_type": "code",
   "execution_count": null,
   "metadata": {
    "collapsed": false
   },
   "outputs": [],
   "source": [
    "frange(0.5)"
   ]
  },
  {
   "cell_type": "code",
   "execution_count": null,
   "metadata": {
    "collapsed": false
   },
   "outputs": [],
   "source": [
    "frange(1.0, 2.0)"
   ]
  },
  {
   "cell_type": "code",
   "execution_count": null,
   "metadata": {
    "collapsed": false
   },
   "outputs": [],
   "source": [
    "frange(2.2, 4.0, 0.5)"
   ]
  },
  {
   "cell_type": "markdown",
   "metadata": {},
   "source": [
    "> 처음에 start = start + step 이라고 코딩하였는데 소수점이 이상하게 나오는 문제가 발생한다. 왜 그런지 이유는 찾지 못했지만 해결하기 위해 반올림을 사용하기로 했다. round(반올림 대상인수, 반올림 할 자릿수)이다."
   ]
  },
  {
   "cell_type": "markdown",
   "metadata": {},
   "source": [
    "## 문제 4\n",
    "가변인수를 받는 함수 sum()을 다음과 같은 조건을 참고하여 구현하시오\n",
    "- sum() 사용 예\n",
    "    - sum()\n",
    "        - 0\n",
    "    - sum(1, 2)\n",
    "        - 3\n",
    "    - sum(1, 2, 3, 4, 5)\n",
    "        - 15\n",
    "    - sum(1, 5, 7, 2, -10)\n",
    "        - 5"
   ]
  },
  {
   "cell_type": "code",
   "execution_count": null,
   "metadata": {
    "collapsed": true
   },
   "outputs": [],
   "source": [
    "def sum(*num) : \n",
    "    result=0\n",
    "    for i in range(len(num)) :\n",
    "        result += num[i]\n",
    "    return result"
   ]
  },
  {
   "cell_type": "code",
   "execution_count": 14,
   "metadata": {
    "collapsed": false
   },
   "outputs": [
    {
     "data": {
      "text/plain": [
       "0"
      ]
     },
     "execution_count": 14,
     "metadata": {},
     "output_type": "execute_result"
    }
   ],
   "source": [
    "sum()"
   ]
  },
  {
   "cell_type": "code",
   "execution_count": 15,
   "metadata": {
    "collapsed": false
   },
   "outputs": [
    {
     "data": {
      "text/plain": [
       "3"
      ]
     },
     "execution_count": 15,
     "metadata": {},
     "output_type": "execute_result"
    }
   ],
   "source": [
    "sum(1, 2)"
   ]
  },
  {
   "cell_type": "code",
   "execution_count": 16,
   "metadata": {
    "collapsed": false
   },
   "outputs": [
    {
     "data": {
      "text/plain": [
       "15"
      ]
     },
     "execution_count": 16,
     "metadata": {},
     "output_type": "execute_result"
    }
   ],
   "source": [
    "sum(1, 2, 3, 4, 5)"
   ]
  },
  {
   "cell_type": "code",
   "execution_count": 17,
   "metadata": {
    "collapsed": false
   },
   "outputs": [
    {
     "data": {
      "text/plain": [
       "5"
      ]
     },
     "execution_count": 17,
     "metadata": {},
     "output_type": "execute_result"
    }
   ],
   "source": [
    "sum(1, 5, 7, 2, -10)"
   ]
  },
  {
   "cell_type": "markdown",
   "metadata": {},
   "source": [
    "## 문제 5\n",
    "여러 단어로 이루어진 문자열을 입력받아 각 단어의 첫글자로 이루어진 단어를 대문자로 출력하는 myinitial() 함수를 다음 조건을 참고하여 작성하시오.\n",
    "- 1) 다음에 제시되는 함수들을 모두 이용해야 한다.\n",
    "    - split\n",
    "    - map\n",
    "    - join\n",
    "- 2) myinitial() 함수 사용 예\n",
    "    - myinitial(\"as soon as possible\")\n",
    "        - ASAP"
   ]
  },
  {
   "cell_type": "code",
   "execution_count": 19,
   "metadata": {
    "collapsed": false
   },
   "outputs": [
    {
     "data": {
      "text/plain": [
       "'ASAP'"
      ]
     },
     "execution_count": 19,
     "metadata": {},
     "output_type": "execute_result"
    }
   ],
   "source": [
    "def myinitial(s) :\n",
    "    s = s.split(\" \")\n",
    "    s = map(lambda x : x[0].upper(), s)\n",
    "    s = \"\".join(s)\n",
    "    return s\n",
    "\n",
    "myinitial(\"as soon as possible\")"
   ]
  },
  {
   "cell_type": "markdown",
   "metadata": {},
   "source": [
    "## 문제 6\n",
    "음이 아닌 정수 n를 입력받으면 n! (factorial)을 계산하는 myfact() 함수를 재귀적 함수로 구현하시오.\n",
    "- [옵션] 참을 수 있는 정도 만큼의 수행시간을 직접 기다려보면서 n을 늘려보도록 합시다."
   ]
  },
  {
   "cell_type": "code",
   "execution_count": 20,
   "metadata": {
    "collapsed": true
   },
   "outputs": [],
   "source": [
    "def myfact(num) :\n",
    "    if num > 1 :\n",
    "        return myfact(num-1)*num\n",
    "    else :\n",
    "        return 1"
   ]
  },
  {
   "cell_type": "code",
   "execution_count": 21,
   "metadata": {
    "collapsed": false
   },
   "outputs": [
    {
     "data": {
      "text/plain": [
       "120"
      ]
     },
     "execution_count": 21,
     "metadata": {},
     "output_type": "execute_result"
    }
   ],
   "source": [
    "myfact(5)"
   ]
  },
  {
   "cell_type": "code",
   "execution_count": 22,
   "metadata": {
    "collapsed": false
   },
   "outputs": [
    {
     "data": {
      "text/plain": [
       "30414093201713378043612608166064768844377641568960512000000000000L"
      ]
     },
     "execution_count": 22,
     "metadata": {},
     "output_type": "execute_result"
    }
   ],
   "source": [
    "myfact(50)"
   ]
  },
  {
   "cell_type": "markdown",
   "metadata": {},
   "source": [
    "## 문제 7\n",
    "(서술형) import string 과 from string import * 의 차이점을 설명하시오."
   ]
  },
  {
   "cell_type": "markdown",
   "metadata": {
    "collapsed": true
   },
   "source": [
    "- import string : string 모듈을 불러온다는 뜻이다. 모듈내에 있는 이름을 사용하려면 string.x로 사용한다.\n",
    "- from string import * : string 모듈내에 있는 네임을 불러온다는 뜻이다. x로 바로 사용한다."
   ]
  },
  {
   "cell_type": "markdown",
   "metadata": {},
   "source": [
    "## 문제 8\n",
    "+ [프로젝트 오일러 문제 10] 10 이하의 소수를 모두 더하면 2 + 3 + 5 + 7 = 17이 됩니다.<br></br>\n",
    "이백만(2,000,000) 이하 소수의 합은 얼마입니까?"
   ]
  },
  {
   "cell_type": "code",
   "execution_count": null,
   "metadata": {
    "collapsed": false
   },
   "outputs": [],
   "source": [
    "import math\n",
    "\n",
    "num = []\n",
    "input =2000001\n",
    "sum = 0\n",
    "\n",
    "for x in range(2, input) :\n",
    "    num.append(x)\n",
    "\n",
    "while(num[0] < math.sqrt(input)) :\n",
    "    i = num[0]\n",
    "    sum = sum + i\n",
    "    for j in range(i, input, i) :\n",
    "        if j in num :\n",
    "            num.remove(j)\n",
    "            \n",
    "for x in num :\n",
    "    sum += x\n",
    "\n",
    "print sum"
   ]
  },
  {
   "cell_type": "markdown",
   "metadata": {},
   "source": [
    "## 문제 9\n",
    "+ [프로젝트 오일러 문제 11] 아래와 같은 20×20 격자가 있습니다.\n",
    "        08 02 22 97 38 15 00 40 00 75 04 05 07 78 52 12 50 77 91 08<br></br>\n",
    "        49 49 99 40 17 81 18 57 60 87 17 40 98 43 69 48 04 56 62 00<br></br>\n",
    "        81 49 31 73 55 79 14 29 93 71 40 67 53 88 30 03 49 13 36 65<br></br>\n",
    "        52 70 95 23 04 60 11 42 69 24 68 56 01 32 56 71 37 02 36 91<br></br>\n",
    "        22 31 16 71 51 67 63 89 41 92 36 54 22 40 40 28 66 33 13 80<br></br>\n",
    "        24 47 32 60 99 03 45 02 44 75 33 53 78 36 84 20 35 17 12 50<br></br>\n",
    "        32 98 81 28 64 23 67 10 26 38 40 67 59 54 70 66 18 38 64 70<br></br>\n",
    "        67 26 20 68 02 62 12 20 95 63 94 39 63 08 40 91 66 49 94 21<br></br>\n",
    "        24 55 58 05 66 73 99 26 97 17 78 78 96 83 14 88 34 89 63 72<br></br>\n",
    "        21 36 23 09 75 00 76 44 20 45 35 14 00 61 33 97 34 31 33 95<br></br>\n",
    "        78 17 53 28 22 75 31 67 15 94 03 80 04 62 16 14 09 53 56 92<br></br>\n",
    "        16 39 05 42 96 35 31 47 55 58 88 24 00 17 54 24 36 29 85 57<br></br>\n",
    "        86 56 00 48 35 71 89 07 05 44 44 37 44 60 21 58 51 54 17 58<br></br>\n",
    "        19 80 81 68 05 94 47 69 28 73 92 13 86 52 17 77 04 89 55 40<br></br>\n",
    "        04 52 08 83 97 35 99 16 07 97 57 32 16 26 26 79 33 27 98 66<br></br>\n",
    "        88 36 68 87 57 62 20 72 03 46 33 67 46 55 12 32 63 93 53 69<br></br>\n",
    "        04 42 16 73 38 25 39 11 24 94 72 18 08 46 29 32 40 62 76 36<br></br>\n",
    "        20 69 36 41 72 30 23 88 34 62 99 69 82 67 59 85 74 04 36 16<br></br>\n",
    "        20 73 35 29 78 31 90 01 74 31 49 71 48 86 81 16 23 57 05 54<br></br>\n",
    "        01 70 54 71 83 51 54 69 16 92 33 48 61 43 52 01 89 19 67 48<br></br>\n",
    "위에서 대각선 방향으로 연속된 붉은 숫자 네 개의 곱은 26 × 63 × 78 × 14 = 1788696 입니다.\n",
    "그러면 수평, 수직, 또는 대각선 방향으로 연속된 숫자 네 개의 곱 중 최대값은 얼마입니까?"
   ]
  },
  {
   "cell_type": "code",
   "execution_count": 1,
   "metadata": {
    "collapsed": false
   },
   "outputs": [
    {
     "name": "stdout",
     "output_type": "stream",
     "text": [
      "70600674\n"
     ]
    }
   ],
   "source": [
    "number =\"\"\"08 02 22 97 38 15 00 40 00 75 04 05 07 78 52 12 50 77 91 08\n",
    "49 49 99 40 17 81 18 57 60 87 17 40 98 43 69 48 04 56 62 00\n",
    "81 49 31 73 55 79 14 29 93 71 40 67 53 88 30 03 49 13 36 65\n",
    "52 70 95 23 04 60 11 42 69 24 68 56 01 32 56 71 37 02 36 91\n",
    "22 31 16 71 51 67 63 89 41 92 36 54 22 40 40 28 66 33 13 80\n",
    "24 47 32 60 99 03 45 02 44 75 33 53 78 36 84 20 35 17 12 50\n",
    "32 98 81 28 64 23 67 10 26 38 40 67 59 54 70 66 18 38 64 70\n",
    "67 26 20 68 02 62 12 20 95 63 94 39 63 08 40 91 66 49 94 21\n",
    "24 55 58 05 66 73 99 26 97 17 78 78 96 83 14 88 34 89 63 72\n",
    "21 36 23 09 75 00 76 44 20 45 35 14 00 61 33 97 34 31 33 95\n",
    "78 17 53 28 22 75 31 67 15 94 03 80 04 62 16 14 09 53 56 92\n",
    "16 39 05 42 96 35 31 47 55 58 88 24 00 17 54 24 36 29 85 57\n",
    "86 56 00 48 35 71 89 07 05 44 44 37 44 60 21 58 51 54 17 58\n",
    "19 80 81 68 05 94 47 69 28 73 92 13 86 52 17 77 04 89 55 40\n",
    "04 52 08 83 97 35 99 16 07 97 57 32 16 26 26 79 33 27 98 66\n",
    "88 36 68 87 57 62 20 72 03 46 33 67 46 55 12 32 63 93 53 69\n",
    "04 42 16 73 38 25 39 11 24 94 72 18 08 46 29 32 40 62 76 36\n",
    "20 69 36 41 72 30 23 88 34 62 99 69 82 67 59 85 74 04 36 16\n",
    "20 73 35 29 78 31 90 01 74 31 49 71 48 86 81 16 23 57 05 54\n",
    "01 70 54 71 83 51 54 69 16 92 33 48 61 43 52 01 89 19 67 48\"\"\"\n",
    "arr = number.split('\\n')\n",
    "for i in range(20) :\n",
    "    arr[i] = arr[i].split(' ')\n",
    "    for j in range(20) :\n",
    "        arr[i][j] = int(arr[i][j])\n",
    "\n",
    "Max = 0;\n",
    "\n",
    "#같은행(ㅡ)\n",
    "for i in range(20) :\n",
    "    for j in range(17) :\n",
    "        if Max < (arr[i][j]*arr[i][j+1]*arr[i][j+2]*arr[i][j+3]) :\n",
    "            Max = arr[i][j]*arr[i][j+1]*arr[i][j+2]*arr[i][j+3]\n",
    "\n",
    "#같은열(ㅣ)\n",
    "for i in range(17) :\n",
    "    for j in range(20) :\n",
    "        if Max < (arr[i][j]*arr[i+1][j]*arr[i+2][j]*arr[i+3][j]) :\n",
    "            Max = arr[i][j]*arr[i+1][j]*arr[i+2][j]*arr[i+3][j]\n",
    "            \n",
    "#왼쪽이 높은 대각선\n",
    "for i in range(17) :\n",
    "    for j in range(17) :\n",
    "        if Max < (arr[i][j]*arr[i+1][j+1]*arr[i+2][j+2]*arr[i+3][j+3]) :\n",
    "            Max = arr[i][j]*arr[i+1][j+1]*arr[i+2][j+2]*arr[i+3][j+3]\n",
    "            \n",
    "#오른쪽이 높은 대각선\n",
    "for i in range(17) :\n",
    "    for j in range(17) :\n",
    "        if Max < (arr[i][j+3]*arr[i+1][j+2]*arr[i+2][j+1]*arr[i+3][j]) :\n",
    "            Max = arr[i][j+3]*arr[i+1][j+2]*arr[i+2][j+1]*arr[i+3][j]\n",
    "            \n",
    "print Max\n",
    "   \n"
   ]
  },
  {
   "cell_type": "markdown",
   "metadata": {},
   "source": [
    "## 문제 10\n",
    "+ [프로젝트 오일러 문제 12] 1부터 n까지의 자연수를 차례로 더하여 구해진 값을 삼각수라고 합니다. 예를 들어 7번째 삼각수는 1 + 2 + 3 + 4 + 5 + 6 + 7 = 28이 됩니다. 이런 식으로 삼각수를 구해 나가면 다음과 같습니다.<br></br>\n",
    "        1, 3, 6, 10, 15, 21, 28, 36, 45, 55, ...\n",
    "이 삼각수들의 약수를 구해봅시다.\n",
    "\n",
    "> 1: 1<br></br>\n",
    " 3: 1, 3<br></br>\n",
    " 6: 1, 2, 3, 6<br></br>\n",
    "10: 1, 2, 5, 10<br></br>\n",
    "15: 1, 3, 5, 15<br></br>\n",
    "21: 1, 3, 7, 21<br></br>\n",
    "28: 1, 2, 4, 7, 14, 28<br></br>\n",
    "\n",
    "위에서 보듯이, 5개 이상의 약수를 갖는 첫번째 삼각수는 28입니다. 그러면 500개 이상의 약수를 갖는 가장 작은 삼각수는 얼마입니까?"
   ]
  },
  {
   "cell_type": "code",
   "execution_count": 2,
   "metadata": {
    "collapsed": false
   },
   "outputs": [
    {
     "name": "stdout",
     "output_type": "stream",
     "text": [
      "76576500\n"
     ]
    }
   ],
   "source": [
    "import math\n",
    "\n",
    "num = 0\n",
    "i = 0\n",
    "\n",
    "while ((num * 2) < 500) :\n",
    "    i += 1\n",
    "    j = i * (i+1) / 2\n",
    "    num = 0\n",
    "    for x in range(1, int(math.sqrt(j))+1) :\n",
    "        if j % x == 0 :\n",
    "            num += 1\n",
    "        \n",
    "print j"
   ]
  },
  {
   "cell_type": "markdown",
   "metadata": {},
   "source": [
    "## 문제 11\n",
    "+ [프로젝트 오일러 문제 13] 아래에 50자리 숫자가 100개 있습니다. 이것을 모두 더한 값의 첫 10자리는 얼마입니까?"
   ]
  },
  {
   "cell_type": "code",
   "execution_count": 35,
   "metadata": {
    "collapsed": false
   },
   "outputs": [
    {
     "name": "stdout",
     "output_type": "stream",
     "text": [
      "5537376230\n"
     ]
    }
   ],
   "source": [
    "number =\"\"\"37107287533902102798797998220837590246510135740250\n",
    "46376937677490009712648124896970078050417018260538\n",
    "74324986199524741059474233309513058123726617309629\n",
    "91942213363574161572522430563301811072406154908250\n",
    "23067588207539346171171980310421047513778063246676\n",
    "89261670696623633820136378418383684178734361726757\n",
    "28112879812849979408065481931592621691275889832738\n",
    "44274228917432520321923589422876796487670272189318\n",
    "47451445736001306439091167216856844588711603153276\n",
    "70386486105843025439939619828917593665686757934951\n",
    "62176457141856560629502157223196586755079324193331\n",
    "64906352462741904929101432445813822663347944758178\n",
    "92575867718337217661963751590579239728245598838407\n",
    "58203565325359399008402633568948830189458628227828\n",
    "80181199384826282014278194139940567587151170094390\n",
    "35398664372827112653829987240784473053190104293586\n",
    "86515506006295864861532075273371959191420517255829\n",
    "71693888707715466499115593487603532921714970056938\n",
    "54370070576826684624621495650076471787294438377604\n",
    "53282654108756828443191190634694037855217779295145\n",
    "36123272525000296071075082563815656710885258350721\n",
    "45876576172410976447339110607218265236877223636045\n",
    "17423706905851860660448207621209813287860733969412\n",
    "81142660418086830619328460811191061556940512689692\n",
    "51934325451728388641918047049293215058642563049483\n",
    "62467221648435076201727918039944693004732956340691\n",
    "15732444386908125794514089057706229429197107928209\n",
    "55037687525678773091862540744969844508330393682126\n",
    "18336384825330154686196124348767681297534375946515\n",
    "80386287592878490201521685554828717201219257766954\n",
    "78182833757993103614740356856449095527097864797581\n",
    "16726320100436897842553539920931837441497806860984\n",
    "48403098129077791799088218795327364475675590848030\n",
    "87086987551392711854517078544161852424320693150332\n",
    "59959406895756536782107074926966537676326235447210\n",
    "69793950679652694742597709739166693763042633987085\n",
    "41052684708299085211399427365734116182760315001271\n",
    "65378607361501080857009149939512557028198746004375\n",
    "35829035317434717326932123578154982629742552737307\n",
    "94953759765105305946966067683156574377167401875275\n",
    "88902802571733229619176668713819931811048770190271\n",
    "25267680276078003013678680992525463401061632866526\n",
    "36270218540497705585629946580636237993140746255962\n",
    "24074486908231174977792365466257246923322810917141\n",
    "91430288197103288597806669760892938638285025333403\n",
    "34413065578016127815921815005561868836468420090470\n",
    "23053081172816430487623791969842487255036638784583\n",
    "11487696932154902810424020138335124462181441773470\n",
    "63783299490636259666498587618221225225512486764533\n",
    "67720186971698544312419572409913959008952310058822\n",
    "95548255300263520781532296796249481641953868218774\n",
    "76085327132285723110424803456124867697064507995236\n",
    "37774242535411291684276865538926205024910326572967\n",
    "23701913275725675285653248258265463092207058596522\n",
    "29798860272258331913126375147341994889534765745501\n",
    "18495701454879288984856827726077713721403798879715\n",
    "38298203783031473527721580348144513491373226651381\n",
    "34829543829199918180278916522431027392251122869539\n",
    "40957953066405232632538044100059654939159879593635\n",
    "29746152185502371307642255121183693803580388584903\n",
    "41698116222072977186158236678424689157993532961922\n",
    "62467957194401269043877107275048102390895523597457\n",
    "23189706772547915061505504953922979530901129967519\n",
    "86188088225875314529584099251203829009407770775672\n",
    "11306739708304724483816533873502340845647058077308\n",
    "82959174767140363198008187129011875491310547126581\n",
    "97623331044818386269515456334926366572897563400500\n",
    "42846280183517070527831839425882145521227251250327\n",
    "55121603546981200581762165212827652751691296897789\n",
    "32238195734329339946437501907836945765883352399886\n",
    "75506164965184775180738168837861091527357929701337\n",
    "62177842752192623401942399639168044983993173312731\n",
    "32924185707147349566916674687634660915035914677504\n",
    "99518671430235219628894890102423325116913619626622\n",
    "73267460800591547471830798392868535206946944540724\n",
    "76841822524674417161514036427982273348055556214818\n",
    "97142617910342598647204516893989422179826088076852\n",
    "87783646182799346313767754307809363333018982642090\n",
    "10848802521674670883215120185883543223812876952786\n",
    "71329612474782464538636993009049310363619763878039\n",
    "62184073572399794223406235393808339651327408011116\n",
    "66627891981488087797941876876144230030984490851411\n",
    "60661826293682836764744779239180335110989069790714\n",
    "85786944089552990653640447425576083659976645795096\n",
    "66024396409905389607120198219976047599490197230297\n",
    "64913982680032973156037120041377903785566085089252\n",
    "16730939319872750275468906903707539413042652315011\n",
    "94809377245048795150954100921645863754710598436791\n",
    "78639167021187492431995700641917969777599028300699\n",
    "15368713711936614952811305876380278410754449733078\n",
    "40789923115535562561142322423255033685442488917353\n",
    "44889911501440648020369068063960672322193204149535\n",
    "41503128880339536053299340368006977710650566631954\n",
    "81234880673210146739058568557934581403627822703280\n",
    "82616570773948327592232845941706525094512325230608\n",
    "22918802058777319719839450180888072429661980811197\n",
    "77158542502016545090413245809786882778948721859617\n",
    "72107838435069186155435662884062257473692284509516\n",
    "20849603980134001723930671666823555245252804609722\n",
    "53503534226472524250874054075591789781264330331690\"\"\"\n",
    "\n",
    "number=number.split('\\n')\n",
    "\n",
    "sum = 0\n",
    "for i in range(0, len(number)) :\n",
    "    sum += int(number[i])\n",
    "\n",
    "print str(sum)[0:10]"
   ]
  },
  {
   "cell_type": "markdown",
   "metadata": {},
   "source": [
    "## 문제 12\n",
    "+ [프로젝트 오일러 문제 14] 양의 정수 n에 대하여, 다음과 같은 계산 과정을 반복하기로 합니다.\n",
    "        n → n / 2 (n이 짝수일 때)\n",
    "        n → 3 n + 1 (n이 홀수일 때)\n",
    "13에 대하여 위의 규칙을 적용해보면 아래처럼 10번의 과정을 통해 1이 됩니다.\n",
    "        13 → 40 → 20 → 10 → 5 → 16 → 8 → 4 → 2 → 1\n",
    "아직 증명은 되지 않았지만, 이런 과정을 거치면 어떤 수로 시작해도 마지막에는 1로 끝나리라 생각됩니다. (역주: 이것은 콜라츠 추측 Collatz Conjecture이라고 하며, 이런 수들을 우박수 hailstone sequence라 부르기도 합니다) 그러면, 백만(1,000,000) 이하의 수로 시작했을 때 1까지 도달하는데 가장 긴 과정을 거치는 숫자는 얼마입니까?<br></br>\n",
    "참고: 계산 과정 도중에는 숫자가 백만을 넘어가도 괜찮습니다.\n",
    "\n"
   ]
  },
  {
   "cell_type": "code",
   "execution_count": 10,
   "metadata": {
    "collapsed": false
   },
   "outputs": [
    {
     "name": "stdout",
     "output_type": "stream",
     "text": [
      "837799\n"
     ]
    }
   ],
   "source": [
    "def fun(x) :\n",
    "    if x%2 :\n",
    "        return x*3+1\n",
    "    else :\n",
    "        return x/2\n",
    "\n",
    "maxnum=1\n",
    "maxcount=1\n",
    "\n",
    "for num in range(2, 1000000) :\n",
    "    count=0\n",
    "    tmp = num\n",
    "    while (tmp != 1) :\n",
    "        tmp = fun(tmp)\n",
    "        count += 1\n",
    "    if(maxcount < count) :\n",
    "        maxnum = num\n",
    "        maxcount = count\n",
    "\n",
    "print maxnum"
   ]
  },
  {
   "cell_type": "markdown",
   "metadata": {},
   "source": [
    "## 문제 13\n",
    "+ [프로젝트 오일러 문제 15] 아래와 같은 2 × 2 격자의 왼쪽 위 모서리에서 출발하여 오른쪽 아래 모서리까지 도달하는 길은 모두 6가지가 있습니다 (거슬러 가지는 않기로 합니다). 그러면 20 × 20 격자에는 모두 몇 개의 경로가 있습니까?"
   ]
  },
  {
   "cell_type": "code",
   "execution_count": 1,
   "metadata": {
    "collapsed": false
   },
   "outputs": [
    {
     "name": "stdout",
     "output_type": "stream",
     "text": [
      "137846528820\n"
     ]
    }
   ],
   "source": [
    "def myfact(num) :\n",
    "    if num > 1 :\n",
    "        return myfact(num-1)*num\n",
    "    else :\n",
    "        return 1\n",
    "    \n",
    "print myfact(40) / myfact(20) / myfact(20)"
   ]
  },
  {
   "cell_type": "markdown",
   "metadata": {},
   "source": [
    "> 순서만 바뀔뿐 아래로 20번, 오른쪽으로 20번을 가야한다는 점은 변하지 않는다. 조합의 공식을 사용해 구할 수 있다."
   ]
  },
  {
   "cell_type": "markdown",
   "metadata": {},
   "source": [
    "## 문제 14\n",
    "이전 Assignment 3의 마지막 문제는 웹 URL로 지정된 웹페이지를 문자열로 가져와 모든 HTML 태그 및 CSS와 Javascript를 제외한 순수 텍스트를 얻어내고 그 안에 존재하는 단어를 추출하여 각 단어들에 대해 출현빈도를 사전형태({'world': 2, 'hello': 1, 'python': 1})로 저장하여 출력하는 것이었다. 이번에는 Assignment 3를 확장하여 다음과 같은 조건을 만족하도록 구현하시오."
   ]
  },
  {
   "cell_type": "code",
   "execution_count": 3,
   "metadata": {
    "collapsed": false
   },
   "outputs": [],
   "source": [
    "# 기존 코드 수정\n",
    "import urllib2\n",
    "import string\n",
    "\n",
    "def FindText(source) :\n",
    "    while(1) :\n",
    "        if source.find('<!-') == -1 :\n",
    "            break;\n",
    "        source = source.replace(source[source.find('<!-'):source.find('->')+2:],'')\n",
    "\n",
    "    while(1) :\n",
    "        if source.find('<') == -1 :\n",
    "            break;\n",
    "        source = source.replace(source[source.find('<'):source.find('>')+1:],'')\n",
    "    return source\n",
    "\n",
    "def DeletePunctuation(source) :\n",
    "    p = string.punctuation\n",
    "    for i in range (len(p)):\n",
    "        source= source.replace(p[i],\"\")\n",
    "    return source\n",
    "\n",
    "def DicWord(wordlist) :\n",
    "    worddic = {}\n",
    "    for word in wordlist :\n",
    "        if worddic.get(word) == None :\n",
    "            worddic[word] = 1\n",
    "        else :\n",
    "            worddic[word] += 1\n",
    "    return worddic\n",
    "\n",
    "url = urllib2.urlopen(\"http://cse.kut.ac.kr/\").read()\n",
    "\n",
    "source = FindText(url)\n",
    "source = DeletePunctuation(source)\n",
    "wordlist = source.split()\n",
    "worddic = DicWord(wordlist);"
   ]
  },
  {
   "cell_type": "markdown",
   "metadata": {},
   "source": [
    "- 1) 다음 사이트에서 제시되는 영어 불용어 (Stop words)를 참고하여 이전 숙제에서 구성했던 단어 사전에서 영어 불용어들을 모두 제거하는 코드를 추가하시오.\n",
    "    - http://www.lextek.com/manuals/onix/stopwords1.html\n",
    "- 2) 각 URL로 지정된 웹페이지의 HTML 소스를 파일로 저장하시오.\n",
    "    - URL이 http://URL 이라면 파일명은 URL.html 이다.\n",
    "    - 예: URL이 http://www.cnn.com 이라면 파일명은 www.cnn.com.html 이다.\n",
    "- 3) 단어의 출현빈도가 담긴 사전 객체를 위 HTML 소스 파일과 동일한 폴더에 파일로 저장하시오.\n",
    "    - 파일입출력 (E-learning 13주차) 마지막에 학습한 pickle 모듈을 활용하시오.\n",
    "    - URL이 http://URL 이라면 사전 객체를 담고 있는 파일명은 URL.words.frequency 이다.\n",
    "    - 예: URL이 http://www.cnn.com 이라면 파일명은 www.cnn.com.words.frequency 이다.\n",
    "- 4) 최소 5개 이상의 영어 웹 사이트 각각에 대한 HTML 소스 파일과 단어 출현빈도 파일을 저장하시오.\n",
    "    - 즉, 총 10개의 파일을 동일한 폴더에 생성하시오.\n",
    "    - [주의] 영어 웹사이트 URL로만 5개 이상\n",
    "        - 가능하면 주제가 서로 다른 웹 사이트들로 선정\n",
    "- 5) 위 문제에서 저장한 모든 words.frequency 파일들을 객체로 다시 로드하여 본인이 저장하여 분석한 사이트들 각각에 대해서 가장 많이 출현한 단어 3개씩를 뽑아 제시하시오.\n",
    "    - 반드시 pickle 모듈로 저장한 5개 이상의 words.frequency를 다시 5개 이상의 사전 객체로 로드 하는 코드가 추가되어야 함\n",
    "- 6) 간단한 검색엔진 코딩 (Like Google!!!)\n",
    "    - 사용자에게 임의의 단어 1개를 입력받으시오.\n",
    "    - 입력 받은 단어와 유사도(Similarity)가 높은 웹 사이트 기준으로 위 4)에서 미리 지정해 놓은 5개 이상의 웹 사이트 URL들을 일렬로 나열하여 출력하시오.\n",
    "        - 단어와 웹 사이트 간의 유사도는 본인이 스스로 정하시오.\n",
    "            - 유사도를 정하는 최소한의 기준은 단어 출현 빈도를 기반으로 해야 하며, 이외의 본인이 생각하는 방안이 있으면 함께 사용해도 됨.\n",
    "            - 반드시 코딩 내에 similarity 라는 사전 자료 구조가 있어야 함 (즉, 다음과 유사한 코드가 있어야 함).\n",
    ">similarity = {}<br></br>...<br></br>\n",
    "similarity[url1] = x1<br></br>...<br></br>\n",
    "similarity[url2] = x2<br></br>...<br></br>\n",
    "        - 유사도가 높은 웹 사이트가 상위에 출력되어야 함 (즉, 유사도 기준 내림 차순)\n",
    "            - 유사도가 동일한 웹 사이트들에 대해서는 임의 배치함.\n",
    "- 7) [주의] 필수사항\n",
    "    - 위에서 만든 검색엔진 코딩은 매우 간단한 것이라 부족한 점이 많이 존재한다.\n",
    "    - 본인이 생각하기에 상업적인 완성도 높은 검색 로봇/엔진이 되려면 어떤 기능들이 추가적으로 구현되어야 할지 최소 3가지 이상 제시하시오."
   ]
  },
  {
   "cell_type": "code",
   "execution_count": null,
   "metadata": {
    "collapsed": true
   },
   "outputs": [],
   "source": []
  }
 ],
 "metadata": {
  "kernelspec": {
   "display_name": "Python [Root]",
   "language": "python",
   "name": "Python [Root]"
  },
  "language_info": {
   "codemirror_mode": {
    "name": "ipython",
    "version": 2
   },
   "file_extension": ".py",
   "mimetype": "text/x-python",
   "name": "python",
   "nbconvert_exporter": "python",
   "pygments_lexer": "ipython2",
   "version": "2.7.12"
  }
 },
 "nbformat": 4,
 "nbformat_minor": 0
}
