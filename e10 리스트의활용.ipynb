{
 "cells": [
  {
   "cell_type": "code",
   "execution_count": 36,
   "metadata": {
    "collapsed": false
   },
   "outputs": [
    {
     "name": "stdout",
     "output_type": "stream",
     "text": [
      "None\n",
      "[1, 3, 5, 34, 64, 98]\n",
      "[1, 2, 4, 6, 45, 76]\n",
      "\n",
      "None\n",
      "[98, 64, 34, 5, 3, 1]\n",
      "\n",
      "[98, 64, 34, 5, 3, 1]\n",
      "<listreverseiterator object at 0x00000000038EF2B0>\n",
      "2 76 45 6 4 1\n"
     ]
    }
   ],
   "source": [
    "l = [1, 34, 64, 3, 98, 5]\n",
    "l2 = [1, 4, 6 , 45, 76, 2]\n",
    "print l.sort() #sort 함수자체는 반환값 없음\n",
    "print l\n",
    "print sorted(l2) #sorted는 새로운 리스트 반환\n",
    "print\n",
    "\n",
    "print l.reverse() #역순 정렬이 아니라 리스트를 역순으로 뒤집는 것\n",
    "print l\n",
    "print\n",
    "\n",
    "l.sort(reverse = True)\n",
    "print l\n",
    "print reversed(l2)\n",
    "for i in reversed(l2) :\n",
    "    print i, "
   ]
  },
  {
   "cell_type": "code",
   "execution_count": 4,
   "metadata": {
    "collapsed": false
   },
   "outputs": [
    {
     "name": "stdout",
     "output_type": "stream",
     "text": [
      "None\n",
      "bbb\n",
      "None\n",
      "c\n",
      "[<function funa at 0x0000000002FCC5F8>, 'a', <function funb at 0x00000000038C1518>]\n"
     ]
    }
   ],
   "source": [
    "#함수 반환값 테스트\n",
    "def funa() :\n",
    "    pass\n",
    "\n",
    "def funb() :\n",
    "    print \"bbb\"\n",
    "    \n",
    "def func() :\n",
    "    return 'c'\n",
    "    \n",
    "p = [funa, 'a', funb]\n",
    "\n",
    "print funa()\n",
    "print funb()\n",
    "print func()\n",
    "\n",
    "print p"
   ]
  },
  {
   "cell_type": "code",
   "execution_count": 13,
   "metadata": {
    "collapsed": false
   },
   "outputs": [
    {
     "name": "stdout",
     "output_type": "stream",
     "text": [
      "[6, 5, 4, 3, 2, 1]\n"
     ]
    }
   ],
   "source": [
    "def mycmp(a1, a2): # 대소관계에 따른 순서를 반대로 바꾸었음\n",
    "    return cmp(a2, a1)\n",
    "\n",
    "l2 = [1, 5, 3, 2, 4, 6]\n",
    "l2.sort(mycmp) # sorted(l2, mycmp)\n",
    "print l2"
   ]
  },
  {
   "cell_type": "code",
   "execution_count": 11,
   "metadata": {
    "collapsed": false
   },
   "outputs": [
    {
     "name": "stdout",
     "output_type": "stream",
     "text": [
      "['123', '264', '34', '56']\n",
      "['34', '56', '123', '264']\n"
     ]
    }
   ],
   "source": [
    "l3 = ['123', '34', '56', '264']\n",
    "l3.sort()\n",
    "print l3\n",
    "\n",
    "l3.sort(key=int) #sorted(l3, ket=int)\n",
    "print l3"
   ]
  },
  {
   "cell_type": "code",
   "execution_count": 45,
   "metadata": {
    "collapsed": false
   },
   "outputs": [
    {
     "name": "stdout",
     "output_type": "stream",
     "text": [
      "[1, 9, 25, 49, 81, 121, 169]\n",
      "[1, 9, 25, 49, 81, 121, 169]\n"
     ]
    }
   ],
   "source": [
    "L = []\n",
    "for k in range(15) :\n",
    "    if(k % 2) :\n",
    "        L.append(k**2)\n",
    "print L\n",
    "\n",
    "L2 = [k**2 for k in range(15) if k % 2]\n",
    "print L2"
   ]
  },
  {
   "cell_type": "code",
   "execution_count": 8,
   "metadata": {
    "collapsed": false
   },
   "outputs": [
    {
     "name": "stdout",
     "output_type": "stream",
     "text": [
      "207\n"
     ]
    }
   ],
   "source": [
    "k = [(x,y,z) for x in range(1,300) for y in range(x,300) for z in range(y,300) if x**2 + y**2 == z**2]\n",
    "print len(k)"
   ]
  },
  {
   "cell_type": "code",
   "execution_count": 44,
   "metadata": {
    "collapsed": false
   },
   "outputs": [
    {
     "name": "stdout",
     "output_type": "stream",
     "text": [
      "['THE', 'the', 3]\n",
      "['QUICK', 'quick', 5]\n",
      "['BROWN', 'brown', 5]\n",
      "['FOX', 'fox', 3]\n",
      "['JUMPS', 'jumps', 5]\n",
      "['OVER', 'over', 4]\n",
      "['THE', 'the', 3]\n",
      "['LAZY', 'lazy', 4]\n",
      "['DOG', 'dog', 3]\n",
      "[['THE', 'the', 3], ['QUICK', 'quick', 5], ['BROWN', 'brown', 5], ['FOX', 'fox', 3], ['JUMPS', 'jumps', 5], ['OVER', 'over', 4], ['THE', 'the', 3], ['LAZY', 'lazy', 4], ['DOG', 'dog', 3]]\n"
     ]
    }
   ],
   "source": [
    "words = 'The quick brown fox jumps over the lazy dog'.split()\n",
    "stuff = [[w.upper(), w.lower(), len(w)] for w in words]\n",
    "\n",
    "for i in stuff:\n",
    "    print i\n",
    "    \n",
    "print stuff"
   ]
  },
  {
   "cell_type": "code",
   "execution_count": 50,
   "metadata": {
    "collapsed": false
   },
   "outputs": [
    {
     "name": "stdout",
     "output_type": "stream",
     "text": [
      "[('a', 1, 4), ('b', 2, 5), ('c', 3, 6)]\n"
     ]
    }
   ],
   "source": [
    "seq1 = 'abc'\n",
    "seq2 = (1, 2, 3)\n",
    "seq3 = [4, 5, 6]\n",
    "l = [(seq1[i], seq2[i], seq3[i]) for i in range(0,3)]\n",
    "print l"
   ]
  },
  {
   "cell_type": "code",
   "execution_count": 53,
   "metadata": {
    "collapsed": false
   },
   "outputs": [
    {
     "name": "stdout",
     "output_type": "stream",
     "text": [
      "[('a', 1, 4), ('a', 1, 5), ('a', 1, 6), ('a', 2, 4), ('a', 2, 5), ('a', 2, 6), ('a', 3, 4), ('a', 3, 5), ('a', 3, 6), ('b', 1, 4), ('b', 1, 5), ('b', 1, 6), ('b', 2, 4), ('b', 2, 5), ('b', 2, 6), ('b', 3, 4), ('b', 3, 5), ('b', 3, 6), ('c', 1, 4), ('c', 1, 5), ('c', 1, 6), ('c', 2, 4), ('c', 2, 5), ('c', 2, 6), ('c', 3, 4), ('c', 3, 5), ('c', 3, 6)]\n"
     ]
    }
   ],
   "source": [
    "seq1 = 'abc'\n",
    "seq2 = (1, 2, 3)\n",
    "seq3 = [4, 5, 6]\n",
    "l = [(x, y, z) for x in seq1 for y in seq2 for z in seq3]\n",
    "print l"
   ]
  }
 ],
 "metadata": {
  "anaconda-cloud": {},
  "kernelspec": {
   "display_name": "Python [Root]",
   "language": "python",
   "name": "Python [Root]"
  },
  "language_info": {
   "codemirror_mode": {
    "name": "ipython",
    "version": 2
   },
   "file_extension": ".py",
   "mimetype": "text/x-python",
   "name": "python",
   "nbconvert_exporter": "python",
   "pygments_lexer": "ipython2",
   "version": "2.7.12"
  }
 },
 "nbformat": 4,
 "nbformat_minor": 0
}
