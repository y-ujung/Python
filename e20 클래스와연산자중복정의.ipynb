{
 "cells": [
  {
   "cell_type": "code",
   "execution_count": 5,
   "metadata": {
    "collapsed": false
   },
   "outputs": [
    {
     "name": "stdout",
     "output_type": "stream",
     "text": [
      "10\n",
      "10\n",
      "<type 'instance'>\n",
      "\n",
      "20\n",
      "<type 'int'>\n",
      "\n",
      "30\n",
      "<type 'int'>\n"
     ]
    }
   ],
   "source": [
    "class Integer:\n",
    "    def __init__(self, i):\n",
    "        self.i = i\n",
    "    def __str__(self):\n",
    "        return str(self.i)\n",
    "    def __add__(self, other):\n",
    "        return self.i + other\n",
    "\n",
    "i = Integer(10)\n",
    "print i\n",
    "print str(i)\n",
    "print type(i)\n",
    "\n",
    "print\n",
    "i = i + 10\n",
    "print i\n",
    "print type(i)\n",
    "\n",
    "print\n",
    "i += 10\n",
    "print i\n",
    "print type(i)"
   ]
  },
  {
   "cell_type": "code",
   "execution_count": 6,
   "metadata": {
    "collapsed": false
   },
   "outputs": [
    {
     "name": "stdout",
     "output_type": "stream",
     "text": [
      "10\n",
      "10\n",
      "<type 'instance'>\n",
      "\n",
      "20\n",
      "<type 'instance'>\n",
      "\n",
      "30\n",
      "<type 'instance'>\n"
     ]
    }
   ],
   "source": [
    "class Integer:\n",
    "    def __init__(self, i):\n",
    "        self.i = i\n",
    "    def __str__(self):\n",
    "        return str(self.i)\n",
    "    def __add__(self, other):\n",
    "        self.i = self.i + other\n",
    "        return self\n",
    "\n",
    "i = Integer(10)\n",
    "print i\n",
    "print str(i)\n",
    "print type(i)\n",
    "\n",
    "print\n",
    "i = i + 10\n",
    "print i\n",
    "print type(i)\n",
    "\n",
    "print\n",
    "i += 10\n",
    "print i\n",
    "print type(i)"
   ]
  },
  {
   "cell_type": "code",
   "execution_count": 8,
   "metadata": {
    "collapsed": false
   },
   "outputs": [
    {
     "name": "stdout",
     "output_type": "stream",
     "text": [
      "['asdf', 'asdf', 'asdf']\n",
      "['asdf', 'sdf', 'sdf']\n",
      "\n",
      "['asdf', 'asdf', 'asdf']\n"
     ]
    }
   ],
   "source": [
    "class MyString :\n",
    "    def __init__(self, str) :\n",
    "        self.str = str\n",
    "    def __div__(self, sep) :\n",
    "        return self.str.split(sep)\n",
    "    \n",
    "m = MyString(\"asdf_asdf_asdf\")\n",
    "\n",
    "print m / \"_\"\n",
    "print m / \"_a\"\n",
    "print\n",
    "print m.__div__(\"_\")"
   ]
  },
  {
   "cell_type": "code",
   "execution_count": 12,
   "metadata": {
    "collapsed": false
   },
   "outputs": [
    {
     "name": "stdout",
     "output_type": "stream",
     "text": [
      "['abcd', 'abcd', 'abcd']\n",
      "['abcd', 'bcd', 'bcd']\n",
      "['abcd', 'abcd', 'abcd']\n",
      "['abcd', 'bcd', 'bcd']\n",
      "\n",
      "ytrewq\n",
      "ytrewq\n"
     ]
    }
   ],
   "source": [
    "class MyString:\n",
    "    def __init__(self, str):\n",
    "        self.str = str\n",
    "    def __div__(self, sep):\n",
    "        return str.split(self.str, sep)\n",
    "    __rdiv__ = __div__\n",
    "    def __neg__(self):\n",
    "        t = list(self.str)\n",
    "        t.reverse()\n",
    "        return ''.join(t)\n",
    "    __invert__ = __neg__\n",
    "\n",
    "m = MyString(\"abcd_abcd_abcd\")\n",
    "print m / \"_\"\n",
    "print m / \"_a\"\n",
    "print \"_\" / m\n",
    "print \"_a\" / m\n",
    "print\n",
    "\n",
    "m = MyString(\"qwerty\")\n",
    "print -m\n",
    "print ~m"
   ]
  },
  {
   "cell_type": "code",
   "execution_count": 13,
   "metadata": {
    "collapsed": false
   },
   "outputs": [
    {
     "name": "stdout",
     "output_type": "stream",
     "text": [
      "False\n",
      "True\n",
      "True\n"
     ]
    }
   ],
   "source": [
    "class MyCmp3:\n",
    "    def __eq__(self, y):\n",
    "        return 1 == y\n",
    "\n",
    "m = MyCmp3()\n",
    "print m == 10 # m.__eq__(10)을 호출\n",
    "m1 = MyCmp3()\n",
    "print m == 1\n",
    "\n",
    "class MyCmp4:\n",
    "    def __init__(self, value):\n",
    "        self.value = value\n",
    "    def __cmp__(self, other):\n",
    "        if self.value == other:\n",
    "            return 0\n",
    "m2 = MyCmp4(10)\n",
    "print m2 == 10"
   ]
  },
  {
   "cell_type": "code",
   "execution_count": 14,
   "metadata": {
    "collapsed": false
   },
   "outputs": [
    {
     "name": "stdout",
     "output_type": "stream",
     "text": [
      "10\n",
      "1\n",
      "16\n"
     ]
    },
    {
     "ename": "IndexError",
     "evalue": "20",
     "output_type": "error",
     "traceback": [
      "\u001b[1;31m---------------------------------------------------------------------------\u001b[0m",
      "\u001b[1;31mIndexError\u001b[0m                                Traceback (most recent call last)",
      "\u001b[1;32m<ipython-input-14-78c6c0117c4f>\u001b[0m in \u001b[0;36m<module>\u001b[1;34m()\u001b[0m\n\u001b[0;32m     13\u001b[0m \u001b[1;32mprint\u001b[0m \u001b[0ms1\u001b[0m\u001b[1;33m[\u001b[0m\u001b[1;36m1\u001b[0m\u001b[1;33m]\u001b[0m \u001b[1;31m#s1.__getitem__(1)\u001b[0m\u001b[1;33m\u001b[0m\u001b[0m\n\u001b[0;32m     14\u001b[0m \u001b[1;32mprint\u001b[0m \u001b[0ms1\u001b[0m\u001b[1;33m[\u001b[0m\u001b[1;36m4\u001b[0m\u001b[1;33m]\u001b[0m\u001b[1;33m\u001b[0m\u001b[0m\n\u001b[1;32m---> 15\u001b[1;33m \u001b[1;32mprint\u001b[0m \u001b[0ms1\u001b[0m\u001b[1;33m[\u001b[0m\u001b[1;36m20\u001b[0m\u001b[1;33m]\u001b[0m\u001b[1;33m\u001b[0m\u001b[0m\n\u001b[0m",
      "\u001b[1;32m<ipython-input-14-78c6c0117c4f>\u001b[0m in \u001b[0;36m__getitem__\u001b[1;34m(self, k)\u001b[0m\n\u001b[0;32m      6\u001b[0m     \u001b[1;32mdef\u001b[0m \u001b[0m__getitem__\u001b[0m\u001b[1;33m(\u001b[0m\u001b[0mself\u001b[0m\u001b[1;33m,\u001b[0m \u001b[0mk\u001b[0m\u001b[1;33m)\u001b[0m\u001b[1;33m:\u001b[0m\u001b[1;33m\u001b[0m\u001b[0m\n\u001b[0;32m      7\u001b[0m         \u001b[1;32mif\u001b[0m \u001b[0mk\u001b[0m \u001b[1;33m<\u001b[0m \u001b[1;36m0\u001b[0m \u001b[1;32mor\u001b[0m \u001b[0mself\u001b[0m\u001b[1;33m.\u001b[0m\u001b[0mend\u001b[0m \u001b[1;33m<=\u001b[0m \u001b[0mk\u001b[0m\u001b[1;33m:\u001b[0m\u001b[1;33m\u001b[0m\u001b[0m\n\u001b[1;32m----> 8\u001b[1;33m             \u001b[1;32mraise\u001b[0m \u001b[0mIndexError\u001b[0m\u001b[1;33m,\u001b[0m \u001b[0mk\u001b[0m\u001b[1;33m\u001b[0m\u001b[0m\n\u001b[0m\u001b[0;32m      9\u001b[0m         \u001b[1;32mreturn\u001b[0m \u001b[0mk\u001b[0m \u001b[1;33m*\u001b[0m \u001b[0mk\u001b[0m\u001b[1;33m\u001b[0m\u001b[0m\n\u001b[0;32m     10\u001b[0m \u001b[1;33m\u001b[0m\u001b[0m\n",
      "\u001b[1;31mIndexError\u001b[0m: 20"
     ]
    }
   ],
   "source": [
    "class Square:\n",
    "    def __init__(self, end):\n",
    "        self.end = end\n",
    "    def __len__(self):\n",
    "        return self.end\n",
    "    def __getitem__(self, k):\n",
    "        if k < 0 or self.end <= k: \n",
    "            raise IndexError, k\n",
    "        return k * k\n",
    "    \n",
    "s1 = Square(10)\n",
    "print len(s1) # s1.__len__()\n",
    "print s1[1] #s1.__getitem__(1)\n",
    "print s1[4]\n",
    "print s1[20]"
   ]
  },
  {
   "cell_type": "code",
   "execution_count": 24,
   "metadata": {
    "collapsed": false
   },
   "outputs": [
    {
     "name": "stdout",
     "output_type": "stream",
     "text": [
      "4\n",
      "36\n",
      "0 1 4 9 16 25 36 49 64 81\n",
      "[0, 1, 4, 9, 16, 25, 36, 49, 64, 81]\n",
      "(0, 1, 4, 9, 16, 25, 36, 49, 64, 81)\n"
     ]
    }
   ],
   "source": [
    "print s1[2]\n",
    "print s1[6]\n",
    "\n",
    "for x in s1 :\n",
    "    print x,\n",
    "print\n",
    "print list(s1)\n",
    "print tuple(s1)"
   ]
  },
  {
   "cell_type": "code",
   "execution_count": 25,
   "metadata": {
    "collapsed": false
   },
   "outputs": [
    {
     "name": "stdout",
     "output_type": "stream",
     "text": [
      "<__main__.MyDict instance at 0x00000000039C09C8>\n",
      "light\n",
      "darkness\n",
      "2\n"
     ]
    }
   ],
   "source": [
    "class MyDict:\n",
    "    def __init__(self, d = None):\n",
    "        if d == None: d = {}\n",
    "        self.d = d\n",
    "    def __getitem__(self, k): #key\n",
    "        return self.d[k]\n",
    "    def __setitem__(self, k, v):\n",
    "        self.d[k] = v\n",
    "    def __len__(self):\n",
    "        return len(self.d)\n",
    "    \n",
    "m = MyDict()            #__init__호출\n",
    "m['day'] = 'light'      #__setitem__호출\n",
    "m['night'] = 'darkness' #__setitem__호출 \n",
    "print m\n",
    "print m['day']          #__getitem__호출\n",
    "print m['night']        #__getitem__호출\n",
    "print len(m)            #__len__호출"
   ]
  },
  {
   "cell_type": "code",
   "execution_count": 26,
   "metadata": {
    "collapsed": false
   },
   "outputs": [
    {
     "name": "stdout",
     "output_type": "stream",
     "text": [
      "str called\n",
      "str called\n",
      "repr called\n",
      "repr called\n"
     ]
    }
   ],
   "source": [
    "class StringRepr:\n",
    "    def __repr__(self): #__repr__ 없으면 객체 식별자 출력. __str__ 호출되는거 아님\n",
    "        return 'repr called'\n",
    "    def __str__(self): #__str__ 없으면 __repr__ 이 대신 호출\n",
    "        return 'str called'\n",
    "    \n",
    "s = StringRepr()\n",
    "print s\n",
    "print str(s)\n",
    "print repr(s)\n",
    "print `s`"
   ]
  },
  {
   "cell_type": "code",
   "execution_count": 27,
   "metadata": {
    "collapsed": false
   },
   "outputs": [
    {
     "name": "stdout",
     "output_type": "stream",
     "text": [
      "15\n",
      "21\n",
      "45\n",
      "45\n"
     ]
    }
   ],
   "source": [
    "class Accumulator:\n",
    "    def __init__(self):\n",
    "        self.sum = 0\n",
    "    def __call__(self, *args): #호출 가능\n",
    "        self.sum += sum(args)\n",
    "        return self.sum\n",
    "    \n",
    "acc = Accumulator()\n",
    "print acc(1,2,3,4,5)\n",
    "print acc(6)\n",
    "print acc(7,8,9)\n",
    "print acc.sum"
   ]
  },
  {
   "cell_type": "code",
   "execution_count": 29,
   "metadata": {
    "collapsed": false
   },
   "outputs": [
    {
     "name": "stdout",
     "output_type": "stream",
     "text": [
      "callable\n",
      "not callable\n",
      "\n",
      "True\n",
      "False\n",
      "\n",
      "True\n",
      "True\n"
     ]
    }
   ],
   "source": [
    "def check(func):\n",
    "    if callable(func):\n",
    "        print 'callable'\n",
    "    else:\n",
    "        print 'not callable'\n",
    "\n",
    "class B:\n",
    "    def func(self, v):\n",
    "        return v\n",
    "class A:\n",
    "    def __call__(self, v):\n",
    "        return v\n",
    "    \n",
    "a = A()\n",
    "b = B()\n",
    "check(a)\n",
    "check(b)\n",
    "print\n",
    "print callable(a)\n",
    "print callable(b)\n",
    "print\n",
    "print callable(A)\n",
    "print callable(B) #모든 클래스는 callable 하닷!"
   ]
  },
  {
   "cell_type": "code",
   "execution_count": null,
   "metadata": {
    "collapsed": true
   },
   "outputs": [],
   "source": []
  }
 ],
 "metadata": {
  "kernelspec": {
   "display_name": "Python [Root]",
   "language": "python",
   "name": "Python [Root]"
  },
  "language_info": {
   "codemirror_mode": {
    "name": "ipython",
    "version": 2
   },
   "file_extension": ".py",
   "mimetype": "text/x-python",
   "name": "python",
   "nbconvert_exporter": "python",
   "pygments_lexer": "ipython2",
   "version": "2.7.12"
  }
 },
 "nbformat": 4,
 "nbformat_minor": 0
}
