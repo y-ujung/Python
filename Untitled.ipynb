{
 "cells": [
  {
   "cell_type": "code",
   "execution_count": null,
   "metadata": {
    "collapsed": false
   },
   "outputs": [
    {
     "name": "stderr",
     "output_type": "stream",
     "text": [
      "D:\\Anaconda2\\lib\\site-packages\\ipykernel\\__main__.py:1: DeprecationWarning: the sha module is deprecated; use the hashlib module instead\n",
      "  if __name__ == '__main__':\n"
     ]
    },
    {
     "name": "stdout",
     "output_type": "stream",
     "text": [
      "\n",
      "Welcome to Our Service\n",
      "1. Sign Up\n",
      "2. Sign In\n",
      "3. Quit\n",
      "\n",
      "Input menu number : 2\n",
      "Input your id : yyj\n",
      "Input your password : a\n",
      "Sorry, the entered password is not correct.\n",
      "Input your password : we\n",
      "Sorry, the entered password is not correct.\n",
      "Input your password : aa\n",
      "\n",
      "\tHello yoojung\n",
      "\n",
      "Welcome to Our Service\n",
      "1. Sign Up\n",
      "2. Sign In\n",
      "3. Quit\n",
      "\n"
     ]
    }
   ],
   "source": [
    "import sha\n",
    "import os\n",
    "\n",
    "def menu() :\n",
    "    print \"\"\"\n",
    "Welcome to Our Service\n",
    "1. Sign Up\n",
    "2. Sign In\n",
    "3. Quit\n",
    "\"\"\"\n",
    "    return raw_input(\"Input menu number : \")\n",
    "    \n",
    "def signUp() :\n",
    "    if(os.path.exists('access.txt') == False) :\n",
    "        f = open('access.txt','w')\n",
    "        f.write(\"\")\n",
    "        f.close()\n",
    "        \n",
    "    person = {'id':['password','name','school']}\n",
    "    userid = raw_input('Input your id : ')\n",
    "    f = open('access.txt')\n",
    "    for line in f.xreadlines() :\n",
    "        p = line.split(' : ')\n",
    "        if(p[0] == userid) :\n",
    "            print \"Sorry, the entered ID is already used.\"\n",
    "            f.seek(0)\n",
    "            userid = raw_input('Input your id : ')\n",
    "    f.close()\n",
    "    \n",
    "    userpassword = sha.new(raw_input('Input your password : ')).hexdigest()\n",
    "    username = raw_input('Input your name : ')\n",
    "    userschool = raw_input('Input your school : ')\n",
    "    info = \", \".join([userpassword, username, userschool])\n",
    "    info = ' : '.join([userid,info])\n",
    "    \n",
    "    f=open('access.txt','a')\n",
    "    f.write(info)\n",
    "    f.write(\"\\n\")\n",
    "    f.close()\n",
    "    \n",
    "def signIn() :\n",
    "    person = {'id':['password','name','school']}\n",
    "    userid = raw_input('Input your id : ')\n",
    "    f = open('access.txt')\n",
    "    for line in f.xreadlines() :\n",
    "        p = line.split(' : ')\n",
    "        if(p[0] == userid) :\n",
    "            break\n",
    "        else :\n",
    "            print \"Sorry, you are not a registeraed member.\"\n",
    "            f.seek(0)\n",
    "            userid = raw_input('Input your id : ')\n",
    "    \n",
    "    while(1) :\n",
    "        userpassword = sha.new(raw_input('Input your password : ')).hexdigest()\n",
    "        info = p[1].split(', ')\n",
    "        \n",
    "        if(info[0] == userpassword) :\n",
    "            print \"\\n\\tHello \" + info[1] + \"!\"\n",
    "            break\n",
    "        else :\n",
    "            print \"Sorry, the entered password is not correct.\"\n",
    "    \n",
    "    f.close()\n",
    "                \n",
    "while 1:\n",
    "    sel = menu()\n",
    "    if sel == '1' :\n",
    "        signUp()\n",
    "    if sel == '2' :\n",
    "        signIn()\n",
    "    if sel == '3' :\n",
    "        break\n",
    "    else :\n",
    "        continue"
   ]
  },
  {
   "cell_type": "code",
   "execution_count": 12,
   "metadata": {
    "collapsed": false
   },
   "outputs": [
    {
     "name": "stdout",
     "output_type": "stream",
     "text": [
      "password\n"
     ]
    },
    {
     "ename": "AttributeError",
     "evalue": "'dict' object has no attribute 'splict'",
     "output_type": "error",
     "traceback": [
      "\u001b[1;31m---------------------------------------------------------------------------\u001b[0m",
      "\u001b[1;31mAttributeError\u001b[0m                            Traceback (most recent call last)",
      "\u001b[1;32m<ipython-input-12-bc7a9055644a>\u001b[0m in \u001b[0;36m<module>\u001b[1;34m()\u001b[0m\n\u001b[0;32m      3\u001b[0m \u001b[1;32mprint\u001b[0m \u001b[0minfo\u001b[0m\u001b[1;33m[\u001b[0m\u001b[1;36m0\u001b[0m\u001b[1;33m]\u001b[0m\u001b[1;33m[\u001b[0m\u001b[1;36m0\u001b[0m\u001b[1;33m]\u001b[0m\u001b[1;33m\u001b[0m\u001b[0m\n\u001b[0;32m      4\u001b[0m \u001b[1;33m\u001b[0m\u001b[0m\n\u001b[1;32m----> 5\u001b[1;33m \u001b[0minfo\u001b[0m \u001b[1;33m=\u001b[0m \u001b[0mperson\u001b[0m\u001b[1;33m.\u001b[0m\u001b[0msplict\u001b[0m\u001b[1;33m(\u001b[0m\u001b[1;34m' : '\u001b[0m\u001b[1;33m)\u001b[0m\u001b[1;33m\u001b[0m\u001b[0m\n\u001b[0m\u001b[0;32m      6\u001b[0m \u001b[1;32mprint\u001b[0m \u001b[0minfo\u001b[0m\u001b[1;33m\u001b[0m\u001b[0m\n",
      "\u001b[1;31mAttributeError\u001b[0m: 'dict' object has no attribute 'splict'"
     ]
    }
   ],
   "source": [
    "person = \"\"'id':['password','name','school']}\n",
    "info = person.values()\n",
    "print info[0][0]\n",
    "\n",
    "info = person.splict(' : ')\n",
    "print info"
   ]
  },
  {
   "cell_type": "code",
   "execution_count": null,
   "metadata": {
    "collapsed": true
   },
   "outputs": [],
   "source": []
  }
 ],
 "metadata": {
  "kernelspec": {
   "display_name": "Python [Root]",
   "language": "python",
   "name": "Python [Root]"
  },
  "language_info": {
   "codemirror_mode": {
    "name": "ipython",
    "version": 2
   },
   "file_extension": ".py",
   "mimetype": "text/x-python",
   "name": "python",
   "nbconvert_exporter": "python",
   "pygments_lexer": "ipython2",
   "version": "2.7.12"
  }
 },
 "nbformat": 4,
 "nbformat_minor": 0
}
