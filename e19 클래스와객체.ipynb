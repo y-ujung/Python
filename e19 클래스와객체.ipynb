{
 "cells": [
  {
   "cell_type": "code",
   "execution_count": 9,
   "metadata": {
    "collapsed": false
   },
   "outputs": [
    {
     "name": "stdout",
     "output_type": "stream",
     "text": [
      "1\n",
      "['__doc__', '__module__', 'a']\n"
     ]
    }
   ],
   "source": [
    "class S1 :\n",
    "    a= 1\n",
    "    \n",
    "print S1.a\n",
    "print dir(S1)"
   ]
  },
  {
   "cell_type": "code",
   "execution_count": 10,
   "metadata": {
    "collapsed": false
   },
   "outputs": [
    {
     "name": "stdout",
     "output_type": "stream",
     "text": [
      "2\n",
      "['__doc__', '__module__', 'a', 'b']\n"
     ]
    }
   ],
   "source": [
    "S1.b = 2\n",
    "print S1.b\n",
    "print dir(S1)"
   ]
  },
  {
   "cell_type": "code",
   "execution_count": 11,
   "metadata": {
    "collapsed": false
   },
   "outputs": [
    {
     "name": "stdout",
     "output_type": "stream",
     "text": [
      "['__doc__', '__module__', 'a']\n"
     ]
    }
   ],
   "source": [
    "del S1.b\n",
    "print dir(S1)"
   ]
  },
  {
   "cell_type": "code",
   "execution_count": 17,
   "metadata": {
    "collapsed": false
   },
   "outputs": [
    {
     "name": "stdout",
     "output_type": "stream",
     "text": [
      "5\n",
      "10\n",
      "5\n"
     ]
    }
   ],
   "source": [
    "class S1 :\n",
    "    a= 5\n",
    "\n",
    "x = S1()\n",
    "print x.a\n",
    "\n",
    "x.a = 10\n",
    "print x.a\n",
    "\n",
    "print S1.a"
   ]
  },
  {
   "cell_type": "code",
   "execution_count": 19,
   "metadata": {
    "collapsed": false
   },
   "outputs": [
    {
     "name": "stdout",
     "output_type": "stream",
     "text": [
      "300\n",
      "10\n",
      "5\n"
     ]
    }
   ],
   "source": [
    "y = S1()\n",
    "y.a = 300\n",
    "print y.a\n",
    "print x.a\n",
    "print S1.a"
   ]
  },
  {
   "cell_type": "code",
   "execution_count": 25,
   "metadata": {
    "collapsed": false
   },
   "outputs": [
    {
     "name": "stdout",
     "output_type": "stream",
     "text": [
      "[1, 2, 3]\n",
      "3\n",
      "2\n",
      "[1]\n"
     ]
    },
    {
     "ename": "AttributeError",
     "evalue": "simple instance has no attribute 'stack'",
     "output_type": "error",
     "traceback": [
      "\u001b[1;31m---------------------------------------------------------------------------\u001b[0m",
      "\u001b[1;31mAttributeError\u001b[0m                            Traceback (most recent call last)",
      "\u001b[1;32m<ipython-input-25-d357de52a21b>\u001b[0m in \u001b[0;36m<module>\u001b[1;34m()\u001b[0m\n\u001b[0;32m     15\u001b[0m \u001b[1;33m\u001b[0m\u001b[0m\n\u001b[0;32m     16\u001b[0m \u001b[1;32mprint\u001b[0m \u001b[0ms1\u001b[0m\u001b[1;33m.\u001b[0m\u001b[0mstack\u001b[0m\u001b[1;33m\u001b[0m\u001b[0m\n\u001b[1;32m---> 17\u001b[1;33m \u001b[1;32mprint\u001b[0m \u001b[0ms2\u001b[0m\u001b[1;33m.\u001b[0m\u001b[0mstack\u001b[0m \u001b[1;31m#정의한 적 없음\u001b[0m\u001b[1;33m\u001b[0m\u001b[0m\n\u001b[0m",
      "\u001b[1;31mAttributeError\u001b[0m: simple instance has no attribute 'stack'"
     ]
    }
   ],
   "source": [
    "class simple :\n",
    "    pass\n",
    "\n",
    "s1 = simple()\n",
    "s2 = simple()\n",
    "\n",
    "s1.stack = []\n",
    "s1.stack.append(1)\n",
    "s1.stack.append(2)\n",
    "s1.stack.append(3)\n",
    "print s1.stack\n",
    "\n",
    "print s1.stack.pop()\n",
    "print s1.stack.pop()\n",
    "\n",
    "print s1.stack\n",
    "print s2.stack #정의한 적 없음"
   ]
  },
  {
   "cell_type": "code",
   "execution_count": 26,
   "metadata": {
    "collapsed": true
   },
   "outputs": [],
   "source": [
    "class Myclass : \n",
    "    def set(self, v) :\n",
    "        self.value = v\n",
    "    def get(self) :\n",
    "        return self.value"
   ]
  },
  {
   "cell_type": "code",
   "execution_count": 28,
   "metadata": {
    "collapsed": false
   },
   "outputs": [
    {
     "name": "stdout",
     "output_type": "stream",
     "text": [
      "egg\n",
      "egg\n"
     ]
    }
   ],
   "source": [
    "c1 = Myclass()\n",
    "c1.set('egg')\n",
    "print c1.get()\n",
    "print c1.value"
   ]
  },
  {
   "cell_type": "code",
   "execution_count": 29,
   "metadata": {
    "collapsed": false
   },
   "outputs": [
    {
     "name": "stdout",
     "output_type": "stream",
     "text": [
      "egg\n",
      "egg\n"
     ]
    }
   ],
   "source": [
    "c2 = Myclass()\n",
    "Myclass.set(c2, 'egg')\n",
    "print Myclass.get(c2)\n",
    "print c2.value"
   ]
  },
  {
   "cell_type": "code",
   "execution_count": 33,
   "metadata": {
    "collapsed": false
   },
   "outputs": [
    {
     "name": "stdout",
     "output_type": "stream",
     "text": [
      "1\n",
      "\n",
      "2\n",
      "\n",
      "set function outside class\n",
      "2\n"
     ]
    }
   ],
   "source": [
    "def set(i) :\n",
    "    print \"set function outside class\"\n",
    "    \n",
    "class Myclass : \n",
    "    def set(self, v) :\n",
    "        self.value = v\n",
    "    def incr(self) :\n",
    "        self.set(self.value+1)\n",
    "    def incr2(self) :\n",
    "        set(self.value+1)\n",
    "    def get(self) :\n",
    "        return self.value\n",
    "\n",
    "c = Myclass()\n",
    "c.set(1)\n",
    "print c.get()\n",
    "print\n",
    "c.incr()\n",
    "print c.get()\n",
    "print\n",
    "c.incr2()\n",
    "print c.get()"
   ]
  },
  {
   "cell_type": "code",
   "execution_count": 38,
   "metadata": {
    "collapsed": false
   },
   "outputs": [
    {
     "name": "stdout",
     "output_type": "stream",
     "text": [
      "static 1 2\n"
     ]
    }
   ],
   "source": [
    "class D :\n",
    "    @staticmethod #self 키워드 필요 없음\n",
    "    def spam(x,y) :\n",
    "        print 'static', x, y\n",
    "\n",
    "D.spam(1,2)"
   ]
  },
  {
   "cell_type": "code",
   "execution_count": 41,
   "metadata": {
    "collapsed": false
   },
   "outputs": [
    {
     "name": "stdout",
     "output_type": "stream",
     "text": [
      "__main__.E\n",
      "__main__.E -> 4\n"
     ]
    }
   ],
   "source": [
    "class E :\n",
    "    @classmethod #self 키워드 필요 없음\n",
    "    def spam(cls, y) :\n",
    "        print cls, '->', y\n",
    "\n",
    "print E\n",
    "\n",
    "E.spam(4) #cls = E, y = 4 자동 삽입"
   ]
  },
  {
   "cell_type": "code",
   "execution_count": 44,
   "metadata": {
    "collapsed": false
   },
   "outputs": [
    {
     "name": "stdout",
     "output_type": "stream",
     "text": [
      "__main__.D -> 3\n"
     ]
    }
   ],
   "source": [
    "class D(E) :\n",
    "    pass\n",
    "\n",
    "D.spam(3) #서브클래스 객체"
   ]
  },
  {
   "cell_type": "code",
   "execution_count": 48,
   "metadata": {
    "collapsed": false
   },
   "outputs": [
    {
     "name": "stdout",
     "output_type": "stream",
     "text": [
      "100\n",
      "200\n",
      "\n",
      "100\n"
     ]
    },
    {
     "ename": "AttributeError",
     "evalue": "Var instance has no attribute 'i_mem'",
     "output_type": "error",
     "traceback": [
      "\u001b[1;31m---------------------------------------------------------------------------\u001b[0m",
      "\u001b[1;31mAttributeError\u001b[0m                            Traceback (most recent call last)",
      "\u001b[1;32m<ipython-input-48-eae5f57786ba>\u001b[0m in \u001b[0;36m<module>\u001b[1;34m()\u001b[0m\n\u001b[0;32m     14\u001b[0m \u001b[0mv2\u001b[0m \u001b[1;33m=\u001b[0m \u001b[0mVar\u001b[0m\u001b[1;33m(\u001b[0m\u001b[1;33m)\u001b[0m\u001b[1;33m\u001b[0m\u001b[0m\n\u001b[0;32m     15\u001b[0m \u001b[1;32mprint\u001b[0m \u001b[0mv2\u001b[0m\u001b[1;33m.\u001b[0m\u001b[0mc_mem\u001b[0m\u001b[1;33m\u001b[0m\u001b[0m\n\u001b[1;32m---> 16\u001b[1;33m \u001b[1;32mprint\u001b[0m \u001b[0mv2\u001b[0m\u001b[1;33m.\u001b[0m\u001b[0mi_mem\u001b[0m\u001b[1;33m\u001b[0m\u001b[0m\n\u001b[0m",
      "\u001b[1;31mAttributeError\u001b[0m: Var instance has no attribute 'i_mem'"
     ]
    }
   ],
   "source": [
    "class Var :\n",
    "    c_mem = 100\n",
    "    def f(self) :\n",
    "        self.i_mem = 200\n",
    "    def g(self) :\n",
    "        print self.i_mem\n",
    "        print self.c_mem\n",
    "        \n",
    "v1 = Var()\n",
    "print v1.c_mem\n",
    "v1.f()\n",
    "print v1.i_mem\n",
    "print\n",
    "v2 = Var()\n",
    "print v2.c_mem\n",
    "print v2.i_mem"
   ]
  },
  {
   "cell_type": "code",
   "execution_count": 51,
   "metadata": {
    "collapsed": false
   },
   "outputs": [
    {
     "name": "stdout",
     "output_type": "stream",
     "text": [
      "birthday Mon Nov 28 18:00:57 2016\n",
      "sleeping for 3 sec\n",
      "deathday Mon Nov 28 18:01:00 2016\n"
     ]
    }
   ],
   "source": [
    "from time import ctime, sleep\n",
    "\n",
    "class Life :\n",
    "    def __init__(self) :\n",
    "        self.birth = ctime()\n",
    "        print 'birthday', self.birth\n",
    "    def __del__(self) :\n",
    "        print 'deathday', ctime()\n",
    "        \n",
    "def test() :\n",
    "    mylife = Life()\n",
    "    print 'sleeping for 3 sec'\n",
    "    sleep(3)\n",
    "    \n",
    "test()"
   ]
  },
  {
   "cell_type": "code",
   "execution_count": 53,
   "metadata": {
    "collapsed": false
   },
   "outputs": [
    {
     "name": "stdout",
     "output_type": "stream",
     "text": [
      "10\n",
      "10\n"
     ]
    }
   ],
   "source": [
    "class Integer :\n",
    "    def __init__(self, i) :\n",
    "        self.i = i\n",
    "    def __str__(self) :\n",
    "        return str(self.i)\n",
    "    \n",
    "i = Integer(10)\n",
    "print i\n",
    "print str(i)"
   ]
  }
 ],
 "metadata": {
  "anaconda-cloud": {},
  "kernelspec": {
   "display_name": "Python [Root]",
   "language": "python",
   "name": "Python [Root]"
  },
  "language_info": {
   "codemirror_mode": {
    "name": "ipython",
    "version": 2
   },
   "file_extension": ".py",
   "mimetype": "text/x-python",
   "name": "python",
   "nbconvert_exporter": "python",
   "pygments_lexer": "ipython2",
   "version": "2.7.12"
  }
 },
 "nbformat": 4,
 "nbformat_minor": 0
}
