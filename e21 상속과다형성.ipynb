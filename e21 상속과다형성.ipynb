{
 "cells": [
  {
   "cell_type": "code",
   "execution_count": 14,
   "metadata": {
    "collapsed": true
   },
   "outputs": [],
   "source": [
    "class Person :\n",
    "    def __init__(self, name, phone=None):\n",
    "        self.name = name\n",
    "        self.phone = phone\n",
    "    def __str__(self) :\n",
    "        return '<Person %s %s>' % (self.name, self.phone)\n",
    "    \n",
    "class Employee(Person) :\n",
    "    def __init__(self, name, phone, position, salary): #override 재정의\n",
    "        Person.__init__(self, name, phone)\n",
    "        self.position = position\n",
    "        self.salary = salary"
   ]
  },
  {
   "cell_type": "code",
   "execution_count": 15,
   "metadata": {
    "collapsed": false
   },
   "outputs": [
    {
     "name": "stdout",
     "output_type": "stream",
     "text": [
      "홍길동\n",
      "<Person 홍길동 1498>\n",
      "<Person 손창희 5564>\n",
      "윤유정 부장\n"
     ]
    }
   ],
   "source": [
    "p1 = Person('홍길동', 1498)\n",
    "print p1.name\n",
    "print p1\n",
    "\n",
    "m1 = Employee('손창희', 5564, '대리', 200)\n",
    "m2 = Employee('윤유정', 3670, '부장', 250)\n",
    "print m1\n",
    "print m2.name, m2.position"
   ]
  },
  {
   "cell_type": "code",
   "execution_count": 16,
   "metadata": {
    "collapsed": false
   },
   "outputs": [
    {
     "name": "stdout",
     "output_type": "stream",
     "text": [
      "sub init\n"
     ]
    }
   ],
   "source": [
    "class Super :\n",
    "    def __init__(self) :\n",
    "        print 'super init'\n",
    "\n",
    "class Sub(Super) :\n",
    "    def __init__(self) :\n",
    "        print 'sub init'\n",
    "        \n",
    "s = Sub()"
   ]
  },
  {
   "cell_type": "code",
   "execution_count": 17,
   "metadata": {
    "collapsed": false
   },
   "outputs": [
    {
     "name": "stdout",
     "output_type": "stream",
     "text": [
      "super init\n",
      "sub init\n"
     ]
    }
   ],
   "source": [
    "class Super :\n",
    "    def __init__(self) :\n",
    "        print 'super init'\n",
    "\n",
    "class Sub(Super) :\n",
    "    def __init__(self) :\n",
    "        Super.__init__(self)\n",
    "        print 'sub init'\n",
    "        \n",
    "s = Sub()"
   ]
  },
  {
   "cell_type": "code",
   "execution_count": 19,
   "metadata": {
    "collapsed": false
   },
   "outputs": [
    {
     "name": "stdout",
     "output_type": "stream",
     "text": [
      "멍멍\n",
      "냐옹\n",
      "...\n"
     ]
    }
   ],
   "source": [
    "class Animal :\n",
    "    def cry(self) :\n",
    "        print '...'\n",
    "\n",
    "class Dog(Animal) :\n",
    "    def cry(self) :\n",
    "        print '멍멍'\n",
    "        \n",
    "class Cat(Animal) :\n",
    "    def cry(self) :\n",
    "        print '냐옹'\n",
    "        \n",
    "class Fish(Animal) :\n",
    "    pass\n",
    "\n",
    "for each in(Dog(), Cat(), Fish()) :\n",
    "    each.cry()"
   ]
  },
  {
   "cell_type": "code",
   "execution_count": 21,
   "metadata": {
    "collapsed": false
   },
   "outputs": [
    {
     "name": "stdout",
     "output_type": "stream",
     "text": [
      "['__add__', '__class__', '__contains__', '__delattr__', '__delitem__', '__delslice__', '__doc__', '__eq__', '__format__', '__ge__', '__getattribute__', '__getitem__', '__getslice__', '__gt__', '__hash__', '__iadd__', '__imul__', '__init__', '__iter__', '__le__', '__len__', '__lt__', '__mul__', '__ne__', '__new__', '__reduce__', '__reduce_ex__', '__repr__', '__reversed__', '__rmul__', '__setattr__', '__setitem__', '__setslice__', '__sizeof__', '__str__', '__subclasshook__', 'append', 'count', 'extend', 'index', 'insert', 'pop', 'remove', 'reverse', 'sort']\n"
     ]
    }
   ],
   "source": [
    "a = list()\n",
    "print dir(a)"
   ]
  },
  {
   "cell_type": "code",
   "execution_count": 25,
   "metadata": {
    "collapsed": false
   },
   "outputs": [
    {
     "name": "stdout",
     "output_type": "stream",
     "text": [
      "[1, 2, 3, 'spam', 4, 5]\n",
      "[1, 2, 3, 4]\n",
      "[1, 2, 3, 4, 'A']\n"
     ]
    }
   ],
   "source": [
    "class MyList(list) :\n",
    "    def __sub__(self, other) :\n",
    "        for x in other :\n",
    "            if x in self :\n",
    "                self.remove(x)\n",
    "        return self\n",
    "    \n",
    "L = MyList([1,2,3,'spam',4,5])\n",
    "print L\n",
    "L = L - ['spam', 5]\n",
    "print L\n",
    "L.append(\"A\")\n",
    "print L"
   ]
  },
  {
   "cell_type": "code",
   "execution_count": 26,
   "metadata": {
    "collapsed": false
   },
   "outputs": [
    {
     "name": "stdout",
     "output_type": "stream",
     "text": [
      "[3, 1]\n",
      "[3]\n"
     ]
    }
   ],
   "source": [
    "class Stack(list) :\n",
    "    push = list.append\n",
    "\n",
    "s = Stack()\n",
    "s.push(3)\n",
    "s.push(1)\n",
    "print s\n",
    "s.pop()\n",
    "print s"
   ]
  },
  {
   "cell_type": "code",
   "execution_count": 30,
   "metadata": {
    "collapsed": false
   },
   "outputs": [
    {
     "name": "stdout",
     "output_type": "stream",
     "text": [
      "[2, 6]\n",
      "[6]\n"
     ]
    }
   ],
   "source": [
    "class Queue(list) :\n",
    "    enqueue = list.append\n",
    "    def dequeue(self) :\n",
    "        return self.pop(0)\n",
    "    \n",
    "q = Queue()\n",
    "q.enqueue(2)\n",
    "q.enqueue(6)\n",
    "print q\n",
    "q.dequeue()\n",
    "print q"
   ]
  },
  {
   "cell_type": "code",
   "execution_count": 31,
   "metadata": {
    "collapsed": false
   },
   "outputs": [
    {
     "name": "stdout",
     "output_type": "stream",
     "text": [
      "['__class__', '__cmp__', '__contains__', '__delattr__', '__delitem__', '__doc__', '__eq__', '__format__', '__ge__', '__getattribute__', '__getitem__', '__gt__', '__hash__', '__init__', '__iter__', '__le__', '__len__', '__lt__', '__ne__', '__new__', '__reduce__', '__reduce_ex__', '__repr__', '__setattr__', '__setitem__', '__sizeof__', '__str__', '__subclasshook__', 'clear', 'copy', 'fromkeys', 'get', 'has_key', 'items', 'iteritems', 'iterkeys', 'itervalues', 'keys', 'pop', 'popitem', 'setdefault', 'update', 'values', 'viewitems', 'viewkeys', 'viewvalues']\n"
     ]
    }
   ],
   "source": [
    "a = dict()\n",
    "print dir(a)"
   ]
  },
  {
   "cell_type": "code",
   "execution_count": 35,
   "metadata": {
    "collapsed": false
   },
   "outputs": [
    {
     "name": "stdout",
     "output_type": "stream",
     "text": [
      "['one', 'three', 'two']\n",
      "['three', 'two', 'one']\n"
     ]
    }
   ],
   "source": [
    "class MyDict(dict) :\n",
    "    def keys(self) :\n",
    "        K = dict.keys(self) #언바운드 메소드 호출로 해야해!\n",
    "        # K = self.keys() -> 무한 재귀 호출이 된다구\n",
    "        K.sort()\n",
    "        return K\n",
    "\n",
    "d = MyDict({'one':1,'two':2,'three':3})\n",
    "print d.keys() #정렬\n",
    "d2 = {'one':1,'two':2,'three':3}\n",
    "print d2.keys() #무작위"
   ]
  },
  {
   "cell_type": "code",
   "execution_count": 38,
   "metadata": {
    "collapsed": false
   },
   "outputs": [
    {
     "name": "stdout",
     "output_type": "stream",
     "text": [
      "True\n",
      "True\n"
     ]
    }
   ],
   "source": [
    "import types\n",
    "\n",
    "print type(123) == types.IntType\n",
    "print type(123) == type(0)"
   ]
  },
  {
   "cell_type": "code",
   "execution_count": 40,
   "metadata": {
    "collapsed": false
   },
   "outputs": [
    {
     "name": "stdout",
     "output_type": "stream",
     "text": [
      "True\n"
     ]
    }
   ],
   "source": [
    "print isinstance(123, int)"
   ]
  },
  {
   "cell_type": "code",
   "execution_count": 45,
   "metadata": {
    "collapsed": false
   },
   "outputs": [
    {
     "name": "stdout",
     "output_type": "stream",
     "text": [
      "<__main__.A instance at 0x00000000039BD7C8> => A\n",
      "<__main__.B instance at 0x00000000039BD108> => B\n",
      "<__main__.C instance at 0x00000000039BDC08> => B C\n"
     ]
    }
   ],
   "source": [
    "class A : \n",
    "    pass\n",
    "\n",
    "class B :\n",
    "    def f(self) :\n",
    "        pass\n",
    "\n",
    "class C(B) :\n",
    "    pass\n",
    "\n",
    "def check(obj) :\n",
    "    print obj, '=>',\n",
    "    if isinstance(obj, A) :\n",
    "        print 'A',\n",
    "    if isinstance(obj, B) :\n",
    "        print 'B',\n",
    "    if isinstance(obj, C) :\n",
    "        print 'C',\n",
    "    print\n",
    "        \n",
    "a = A()\n",
    "b = B()\n",
    "c = C()\n",
    "\n",
    "check(a)\n",
    "check(b)\n",
    "check(c)"
   ]
  },
  {
   "cell_type": "code",
   "execution_count": 47,
   "metadata": {
    "collapsed": false
   },
   "outputs": [
    {
     "name": "stdout",
     "output_type": "stream",
     "text": [
      " __main__.A => A\n",
      "__main__.B => B\n",
      "__main__.C => B C\n"
     ]
    }
   ],
   "source": [
    "class A : \n",
    "    pass\n",
    "\n",
    "class B :\n",
    "    def f(self) :\n",
    "        pass\n",
    "\n",
    "class C(B) :\n",
    "    pass\n",
    "\n",
    "def check(obj) :\n",
    "    print obj, '=>',\n",
    "    if issubclass(obj, A) :\n",
    "        print 'A',\n",
    "    if issubclass(obj, B) :\n",
    "        print 'B',\n",
    "    if issubclass(obj, C) :\n",
    "        print 'C',\n",
    "    print\n",
    "       \n",
    "check(A)\n",
    "check(B)\n",
    "check(C)"
   ]
  },
  {
   "cell_type": "code",
   "execution_count": null,
   "metadata": {
    "collapsed": true
   },
   "outputs": [],
   "source": []
  }
 ],
 "metadata": {
  "kernelspec": {
   "display_name": "Python [Root]",
   "language": "python",
   "name": "Python [Root]"
  },
  "language_info": {
   "codemirror_mode": {
    "name": "ipython",
    "version": 2
   },
   "file_extension": ".py",
   "mimetype": "text/x-python",
   "name": "python",
   "nbconvert_exporter": "python",
   "pygments_lexer": "ipython2",
   "version": "2.7.12"
  }
 },
 "nbformat": 4,
 "nbformat_minor": 0
}
