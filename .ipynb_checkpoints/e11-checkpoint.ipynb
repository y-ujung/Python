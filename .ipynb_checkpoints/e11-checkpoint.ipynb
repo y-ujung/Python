{
 "cells": [
  {
   "cell_type": "code",
   "execution_count": 4,
   "metadata": {
    "collapsed": false
   },
   "outputs": [
    {
     "name": "stdout",
     "output_type": "stream",
     "text": [
      "<type 'tuple'> <type 'int'> <type 'tuple'> <type 'tuple'> <type 'tuple'>\n"
     ]
    }
   ],
   "source": [
    "t1 = ()\n",
    "t2 = (1)\n",
    "t3 = (1,) #자료가 한 개일 경우에는 콤마 사용\n",
    "t4 = (1,2,3)\n",
    "t5 = 1,2,3\n",
    "print type(t1), type(t2), type(t3), type(t4), type(t5)"
   ]
  },
  {
   "cell_type": "code",
   "execution_count": 6,
   "metadata": {
    "collapsed": false
   },
   "outputs": [
    {
     "name": "stdout",
     "output_type": "stream",
     "text": [
      "(1, 2, 3, 1, 2, 3)\n",
      "(1, 2, 3, 4, 5)\n"
     ]
    }
   ],
   "source": [
    "print t5 * 2\n",
    "print t5 + (4,5)"
   ]
  },
  {
   "cell_type": "code",
   "execution_count": 7,
   "metadata": {
    "collapsed": false
   },
   "outputs": [
    {
     "ename": "TypeError",
     "evalue": "'tuple' object does not support item assignment",
     "output_type": "error",
     "traceback": [
      "\u001b[1;31m---------------------------------------------------------------------------\u001b[0m",
      "\u001b[1;31mTypeError\u001b[0m                                 Traceback (most recent call last)",
      "\u001b[1;32m<ipython-input-7-fc22864f9eff>\u001b[0m in \u001b[0;36m<module>\u001b[1;34m()\u001b[0m\n\u001b[1;32m----> 1\u001b[1;33m \u001b[0mt5\u001b[0m\u001b[1;33m[\u001b[0m\u001b[1;36m2\u001b[0m\u001b[1;33m]\u001b[0m \u001b[1;33m=\u001b[0m \u001b[1;34m'a'\u001b[0m\u001b[1;33m\u001b[0m\u001b[0m\n\u001b[0m",
      "\u001b[1;31mTypeError\u001b[0m: 'tuple' object does not support item assignment"
     ]
    }
   ],
   "source": [
    "t5[2] = 'a'"
   ]
  },
  {
   "cell_type": "code",
   "execution_count": 13,
   "metadata": {
    "collapsed": false
   },
   "outputs": [
    {
     "name": "stdout",
     "output_type": "stream",
     "text": [
      "1\n",
      "2\n",
      "3\n",
      "1 2 3\n",
      "2 3 1\n"
     ]
    }
   ],
   "source": [
    "x, y, z = 1, 2, 3\n",
    "print x\n",
    "print y\n",
    "print z\n",
    "print x, y, z\n",
    "\n",
    "x, y, z = y, z, x\n",
    "print x, y, z"
   ]
  },
  {
   "cell_type": "code",
   "execution_count": 10,
   "metadata": {
    "collapsed": false
   },
   "outputs": [
    {
     "ename": "ValueError",
     "evalue": "too many values to unpack",
     "output_type": "error",
     "traceback": [
      "\u001b[1;31m---------------------------------------------------------------------------\u001b[0m",
      "\u001b[1;31mValueError\u001b[0m                                Traceback (most recent call last)",
      "\u001b[1;32m<ipython-input-10-0cb3eb473787>\u001b[0m in \u001b[0;36m<module>\u001b[1;34m()\u001b[0m\n\u001b[1;32m----> 1\u001b[1;33m \u001b[0mi\u001b[0m\u001b[1;33m,\u001b[0m \u001b[0mj\u001b[0m \u001b[1;33m=\u001b[0m \u001b[1;36m1\u001b[0m\u001b[1;33m,\u001b[0m \u001b[1;36m2\u001b[0m\u001b[1;33m,\u001b[0m \u001b[1;36m3\u001b[0m\u001b[1;33m\u001b[0m\u001b[0m\n\u001b[0m\u001b[0;32m      2\u001b[0m \u001b[1;32mprint\u001b[0m \u001b[0mi\u001b[0m\u001b[1;33m\u001b[0m\u001b[0m\n\u001b[0;32m      3\u001b[0m \u001b[1;32mprint\u001b[0m \u001b[0mj\u001b[0m\u001b[1;33m\u001b[0m\u001b[0m\n",
      "\u001b[1;31mValueError\u001b[0m: too many values to unpack"
     ]
    }
   ],
   "source": [
    "i, j = 1, 2, 3\n",
    "print i\n",
    "print j"
   ]
  },
  {
   "cell_type": "code",
   "execution_count": 15,
   "metadata": {
    "collapsed": false
   },
   "outputs": [
    {
     "name": "stdout",
     "output_type": "stream",
     "text": [
      "qwerty\n"
     ]
    }
   ],
   "source": [
    "t = 1, 'qwerty', 34\n",
    "a, b, c = t\n",
    "print b"
   ]
  },
  {
   "cell_type": "code",
   "execution_count": 19,
   "metadata": {
    "collapsed": false
   },
   "outputs": [
    {
     "name": "stdout",
     "output_type": "stream",
     "text": [
      "<type 'tuple'>\n",
      "(1, 'qwerty', 34)\n",
      "<type 'list'>\n",
      "[1, 'qwerty', 34]\n"
     ]
    }
   ],
   "source": [
    "print type(t)\n",
    "print t\n",
    "\n",
    "l = list(t)\n",
    "print type(l)\n",
    "print l"
   ]
  },
  {
   "cell_type": "code",
   "execution_count": 25,
   "metadata": {
    "collapsed": false
   },
   "outputs": [
    {
     "name": "stdout",
     "output_type": "stream",
     "text": [
      "(25, 49)\n",
      "<type 'tuple'>\n"
     ]
    }
   ],
   "source": [
    "def fun(a, b) :\n",
    "    return a**2+b**2, (a+b)**2 #반환값이 튜플\n",
    "\n",
    "result = fun(3, 4)\n",
    "print result\n",
    "print type(result)"
   ]
  },
  {
   "cell_type": "code",
   "execution_count": 50,
   "metadata": {
    "collapsed": false
   },
   "outputs": [
    {
     "name": "stdout",
     "output_type": "stream",
     "text": [
      "<type 'set'>\n",
      "set([1, 2, 3, 5])\n",
      "<type 'set'>\n",
      "set([1, 2, 3, 5])\n",
      "<type 'set'>\n",
      "set(['a', 'c', 'b', 'd'])\n",
      "<type 'set'>\n",
      "set(['a', 'c', 'b'])\n",
      "<type 'set'>\n",
      "set([1, 3, 4])\n"
     ]
    }
   ],
   "source": [
    "a = set([5, 2, 1, 2, 3])\n",
    "print type(a)\n",
    "print a\n",
    "b = set((5, 2, 1, 2, 3))\n",
    "print type(b)\n",
    "print b\n",
    "c = set('aaaabbcccd')\n",
    "print type(c)\n",
    "print c\n",
    "d = set({'a':1, 'b':2, 'c':3, 'b':4})\n",
    "print type(d)\n",
    "print d\n",
    "e = set({'a':1, 'b':2, 'c':3, 'b':4}.values())\n",
    "print type(e)\n",
    "print e"
   ]
  },
  {
   "cell_type": "code",
   "execution_count": 51,
   "metadata": {
    "collapsed": false
   },
   "outputs": [
    {
     "name": "stdout",
     "output_type": "stream",
     "text": [
      "set([(1, 2, 2), (1, 2, 3)])\n"
     ]
    }
   ],
   "source": [
    "print set([(1,2,3), (1,2,2)])"
   ]
  },
  {
   "cell_type": "code",
   "execution_count": 52,
   "metadata": {
    "collapsed": false
   },
   "outputs": [
    {
     "ename": "SyntaxError",
     "evalue": "invalid syntax (<ipython-input-52-204c0432c63c>, line 1)",
     "output_type": "error",
     "traceback": [
      "\u001b[1;36m  File \u001b[1;32m\"<ipython-input-52-204c0432c63c>\"\u001b[1;36m, line \u001b[1;32m1\u001b[0m\n\u001b[1;33m    print set([[1,2,3], [1,2,2])\u001b[0m\n\u001b[1;37m                               ^\u001b[0m\n\u001b[1;31mSyntaxError\u001b[0m\u001b[1;31m:\u001b[0m invalid syntax\n"
     ]
    }
   ],
   "source": [
    "print set([[1,2,3], [1,2,2])\n",
    "# 변경 가능 자료는 집합의 원소가 될 수 없다"
   ]
  },
  {
   "cell_type": "code",
   "execution_count": 65,
   "metadata": {
    "collapsed": false
   },
   "outputs": [
    {
     "name": "stdout",
     "output_type": "stream",
     "text": [
      "True\n",
      "True\n",
      "set([2, 11, 12, 10, 7])\n",
      "set([2, 11, 12, 10, 7])\n",
      "set([4])\n",
      "set([4])\n",
      "set([1, 2, 4, 6, 7, 10, 11, 12])\n",
      "set([1, 2, 4, 6, 7, 10, 11, 12])\n",
      "set([1, 2, 6, 7, 10, 11, 12])\n",
      "set([1, 2, 6, 7, 10, 11, 12])\n"
     ]
    }
   ],
   "source": [
    "A = set([2, 4, 7, 10, 11, 12])\n",
    "B = set([10, 11, 12])\n",
    "C = set([1, 4, 6])\n",
    "\n",
    "print B.issubset(A)\n",
    "print A.issuperset(B)\n",
    "\n",
    "print A.difference(C)\n",
    "print A - C\n",
    "\n",
    "print A.intersection(C)\n",
    "print A & C\n",
    "\n",
    "print A.union(C)\n",
    "print A | C\n",
    "\n",
    "print A.symmetric_difference(C)\n",
    "print A ^ C"
   ]
  },
  {
   "cell_type": "code",
   "execution_count": 76,
   "metadata": {
    "collapsed": false
   },
   "outputs": [
    {
     "name": "stdout",
     "output_type": "stream",
     "text": [
      "set([2, 4, 7, 10, 11, 12])\n",
      "True\n",
      "True\n",
      "set([2, 4, 7, 10, 11, 12])\n",
      "True\n",
      "False\n"
     ]
    }
   ],
   "source": [
    "D = A\n",
    "print D\n",
    "print A==D\n",
    "print A is D\n",
    "\n",
    "E = A.copy()\n",
    "print E\n",
    "print A==E\n",
    "print A is E"
   ]
  },
  {
   "cell_type": "code",
   "execution_count": 78,
   "metadata": {
    "collapsed": false
   },
   "outputs": [
    {
     "name": "stdout",
     "output_type": "stream",
     "text": [
      "set([4, 7, 10, 11, 12, 55])\n",
      "set([4, 7, 10, 11, 12, 55])\n",
      "set([2, 4, 7, 10, 11, 12])\n"
     ]
    }
   ],
   "source": [
    "A.add(55)\n",
    "A.remove(2)\n",
    "\n",
    "print A\n",
    "print D\n",
    "print E"
   ]
  },
  {
   "cell_type": "code",
   "execution_count": 83,
   "metadata": {
    "collapsed": false
   },
   "outputs": [
    {
     "ename": "KeyError",
     "evalue": "23",
     "output_type": "error",
     "traceback": [
      "\u001b[1;31m---------------------------------------------------------------------------\u001b[0m",
      "\u001b[1;31mKeyError\u001b[0m                                  Traceback (most recent call last)",
      "\u001b[1;32m<ipython-input-83-2465ff3f5370>\u001b[0m in \u001b[0;36m<module>\u001b[1;34m()\u001b[0m\n\u001b[1;32m----> 1\u001b[1;33m \u001b[0mA\u001b[0m\u001b[1;33m.\u001b[0m\u001b[0mremove\u001b[0m\u001b[1;33m(\u001b[0m\u001b[1;36m23\u001b[0m\u001b[1;33m)\u001b[0m \u001b[1;31m#없는 원소 제거하면 에러\u001b[0m\u001b[1;33m\u001b[0m\u001b[0m\n\u001b[0m\u001b[0;32m      2\u001b[0m \u001b[1;32mprint\u001b[0m \u001b[0mA\u001b[0m\u001b[1;33m\u001b[0m\u001b[0m\n",
      "\u001b[1;31mKeyError\u001b[0m: 23"
     ]
    }
   ],
   "source": [
    "A.remove(23) #없는 원소 제거하면 에러\n",
    "print A"
   ]
  },
  {
   "cell_type": "code",
   "execution_count": 81,
   "metadata": {
    "collapsed": false
   },
   "outputs": [
    {
     "name": "stdout",
     "output_type": "stream",
     "text": [
      "set([4, 7, 10, 11, 12, 55])\n"
     ]
    }
   ],
   "source": [
    "A.discard(23)\n",
    "print A"
   ]
  },
  {
   "cell_type": "code",
   "execution_count": 84,
   "metadata": {
    "collapsed": false
   },
   "outputs": [
    {
     "name": "stdout",
     "output_type": "stream",
     "text": [
      "set([])\n"
     ]
    }
   ],
   "source": [
    "A.clear()\n",
    "print A"
   ]
  },
  {
   "cell_type": "code",
   "execution_count": null,
   "metadata": {
    "collapsed": true
   },
   "outputs": [],
   "source": []
  }
 ],
 "metadata": {
  "anaconda-cloud": {},
  "kernelspec": {
   "display_name": "Python [Root]",
   "language": "python",
   "name": "Python [Root]"
  },
  "language_info": {
   "codemirror_mode": {
    "name": "ipython",
    "version": 2
   },
   "file_extension": ".py",
   "mimetype": "text/x-python",
   "name": "python",
   "nbconvert_exporter": "python",
   "pygments_lexer": "ipython2",
   "version": "2.7.12"
  }
 },
 "nbformat": 4,
 "nbformat_minor": 0
}
