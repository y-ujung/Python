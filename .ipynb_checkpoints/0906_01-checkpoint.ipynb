{
 "cells": [
  {
   "cell_type": "markdown",
   "metadata": {},
   "source": [
    "#### 들여쓰기 중요\n",
    "#### 함수나 변수이름 앞부분만 치고 tab"
   ]
  },
  {
   "cell_type": "code",
   "execution_count": 1,
   "metadata": {
    "collapsed": true
   },
   "outputs": [],
   "source": [
    "def add(a,b) :\n",
    "    print \"hello\"\n",
    "    return a+b"
   ]
  },
  {
   "cell_type": "code",
   "execution_count": 2,
   "metadata": {
    "collapsed": false
   },
   "outputs": [
    {
     "name": "stdout",
     "output_type": "stream",
     "text": [
      "hello\n",
      "3\n",
      "hello\n",
      "12\n",
      "hello\n",
      "abcdef\n",
      "hello\n",
      "[1, 2, 3, 4, 5, 6]\n"
     ]
    }
   ],
   "source": [
    "print add(1,2)\n",
    "print add('1', '2')\n",
    "print add('abc', 'def')\n",
    "print add([1,2,3], [4,5,6])"
   ]
  },
  {
   "cell_type": "code",
   "execution_count": 16,
   "metadata": {
    "collapsed": false
   },
   "outputs": [
    {
     "name": "stdout",
     "output_type": "stream",
     "text": [
      "[12, 'qwert', 'qwert', 2j, [1, 2, 3], 'z']\n"
     ]
    }
   ],
   "source": [
    "a=[12, 'qwert', \"qwert\", 2j, [1,2,3]]\n",
    "a.append('z')\n",
    "print a"
   ]
  },
  {
   "cell_type": "code",
   "execution_count": 10,
   "metadata": {
    "collapsed": false
   },
   "outputs": [
    {
     "name": "stdout",
     "output_type": "stream",
     "text": [
      "11111111111111111111111111111111111333333333333333333333333333333\n"
     ]
    }
   ],
   "source": [
    "a = 11111111111111111111111111111111111111111111111111111111111111111\n",
    "b = 222222222222222222222222222222\n",
    "print a+b"
   ]
  },
  {
   "cell_type": "code",
   "execution_count": 9,
   "metadata": {
    "collapsed": false
   },
   "outputs": [
    {
     "name": "stdout",
     "output_type": "stream",
     "text": [
      "9\n",
      "-20\n",
      "54\n",
      "34\n",
      "1\n",
      "1.8\n",
      "1.8\n"
     ]
    }
   ],
   "source": [
    "# -*- coding: utf-8 -*-\n",
    "# -*- : 설정에 관련된 주석처리를 할 때 사용\n",
    "print 4 + 5\n",
    "print 12 - 32\n",
    "print (4 + 5) * 6\n",
    "print 4 + 5 * 6\n",
    "print 9 / 5        # 정수/정수 연산 결과는 정수\n",
    "print 9.0 / 5.0\n",
    "print 9 / 5.0"
   ]
  },
  {
   "cell_type": "code",
   "execution_count": 17,
   "metadata": {
    "collapsed": false
   },
   "outputs": [
    {
     "name": "stdout",
     "output_type": "stream",
     "text": [
      "I'm jho\"n\n"
     ]
    }
   ],
   "source": [
    "print \"\"\"I'm jho\"n\"\"\"\n",
    "#'' \"\" 둘다 상관 없음\n",
    "# \"안에있는 '는 문자처럼 나옴"
   ]
  },
  {
   "cell_type": "code",
   "execution_count": 18,
   "metadata": {
    "collapsed": false
   },
   "outputs": [
    {
     "name": "stdout",
     "output_type": "stream",
     "text": [
      "2.7.12 |Anaconda 4.1.1 (64-bit)| (default, Jun 29 2016, 11:07:13) [MSC v.1500 64 bit (AMD64)]\n",
      "\n",
      "sys.version_info(major=2, minor=7, micro=12, releaselevel='final', serial=0)\n"
     ]
    }
   ],
   "source": [
    "import sys\n",
    "print sys.version\n",
    "print\n",
    "print sys.version_info"
   ]
  },
  {
   "cell_type": "code",
   "execution_count": 19,
   "metadata": {
    "collapsed": false
   },
   "outputs": [
    {
     "ename": "IOError",
     "evalue": "[Errno 2] No such file or directory: '/Users/B318/pyth/cal.py'",
     "output_type": "error",
     "traceback": [
      "\u001b[1;31m---------------------------------------------------------------------------\u001b[0m",
      "\u001b[1;31mIOError\u001b[0m                                   Traceback (most recent call last)",
      "\u001b[1;32m<ipython-input-19-7c0352302821>\u001b[0m in \u001b[0;36m<module>\u001b[1;34m()\u001b[0m\n\u001b[1;32m----> 1\u001b[1;33m \u001b[0mexecfile\u001b[0m\u001b[1;33m(\u001b[0m\u001b[1;34m'/Users/B318/pyth/cal.py'\u001b[0m\u001b[1;33m)\u001b[0m\u001b[1;33m\u001b[0m\u001b[0m\n\u001b[0m",
      "\u001b[1;31mIOError\u001b[0m: [Errno 2] No such file or directory: '/Users/B318/pyth/cal.py'"
     ]
    }
   ],
   "source": [
    "execfile('/Users/B318/pyth/cal.py')"
   ]
  },
  {
   "cell_type": "code",
   "execution_count": null,
   "metadata": {
    "collapsed": true
   },
   "outputs": [],
   "source": []
  }
 ],
 "metadata": {
  "anaconda-cloud": {},
  "kernelspec": {
   "display_name": "Python [Root]",
   "language": "python",
   "name": "Python [Root]"
  },
  "language_info": {
   "codemirror_mode": {
    "name": "ipython",
    "version": 2
   },
   "file_extension": ".py",
   "mimetype": "text/x-python",
   "name": "python",
   "nbconvert_exporter": "python",
   "pygments_lexer": "ipython2",
   "version": "2.7.12"
  }
 },
 "nbformat": 4,
 "nbformat_minor": 0
}
