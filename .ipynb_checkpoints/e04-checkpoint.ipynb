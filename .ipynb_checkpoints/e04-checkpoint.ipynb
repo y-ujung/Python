{
 "cells": [
  {
   "cell_type": "code",
   "execution_count": 12,
   "metadata": {
    "collapsed": false
   },
   "outputs": [
    {
     "name": "stdout",
     "output_type": "stream",
     "text": [
      "<type 'list'>\n",
      "3\n",
      "3\n",
      "3\n",
      "[1, 2, 3, 1, 2, 3, 1, 2, 3]\n"
     ]
    }
   ],
   "source": [
    "L = [1, 2, 3]\n",
    "print type(L)\n",
    "print len(L)\n",
    "print L[2] #인덱싱 연산\n",
    "print L[-1]\n",
    "print L * 3"
   ]
  },
  {
   "cell_type": "code",
   "execution_count": 14,
   "metadata": {
    "collapsed": false
   },
   "outputs": [
    {
     "name": "stdout",
     "output_type": "stream",
     "text": [
      "[6, 2, 3]\n"
     ]
    }
   ],
   "source": [
    "# 문자열과 달리 리스트는 변경이 가능하다\n",
    "L[0] = 6\n",
    "print L"
   ]
  },
  {
   "cell_type": "code",
   "execution_count": 23,
   "metadata": {
    "collapsed": false
   },
   "outputs": [
    {
     "name": "stdout",
     "output_type": "stream",
     "text": [
      "[0, 1, 2, 3, 4, 5, 6, 7, 8, 9]\n",
      "[0, 2, 4, 6, 8]\n",
      "[9, 8, 7, 6, 5, 4, 3, 2, 1, 0]\n",
      "True\n",
      "True\n"
     ]
    }
   ],
   "source": [
    "l = range(10)\n",
    "print l\n",
    "print l[::2]\n",
    "print l[::-1]\n",
    "print 4 in l\n",
    "print 29 not in l"
   ]
  },
  {
   "cell_type": "code",
   "execution_count": 29,
   "metadata": {
    "collapsed": false
   },
   "outputs": [
    {
     "name": "stdout",
     "output_type": "stream",
     "text": [
      "(1, 2, 3, 4, 5)\n",
      "(1, 2, 3, 4, 5, 1, 2, 3, 4, 5, 1, 2, 3, 4, 5)\n"
     ]
    }
   ],
   "source": [
    "T = (1,2,3,4,5)\n",
    "print T\n",
    "print T+T+T"
   ]
  },
  {
   "cell_type": "code",
   "execution_count": 30,
   "metadata": {
    "collapsed": false
   },
   "outputs": [
    {
     "ename": "TypeError",
     "evalue": "'tuple' object does not support item assignment",
     "output_type": "error",
     "traceback": [
      "\u001b[1;31m---------------------------------------------------------------------------\u001b[0m",
      "\u001b[1;31mTypeError\u001b[0m                                 Traceback (most recent call last)",
      "\u001b[1;32m<ipython-input-30-b2f3c3d6df5e>\u001b[0m in \u001b[0;36m<module>\u001b[1;34m()\u001b[0m\n\u001b[1;32m----> 1\u001b[1;33m \u001b[0mT\u001b[0m\u001b[1;33m[\u001b[0m\u001b[1;36m0\u001b[0m\u001b[1;33m]\u001b[0m \u001b[1;33m=\u001b[0m \u001b[1;36m4\u001b[0m\u001b[1;33m\u001b[0m\u001b[0m\n\u001b[0m\u001b[0;32m      2\u001b[0m \u001b[1;31m#튜플은 내용 변경 불가능(상수적 성격)\u001b[0m\u001b[1;33m\u001b[0m\u001b[1;33m\u001b[0m\u001b[0m\n",
      "\u001b[1;31mTypeError\u001b[0m: 'tuple' object does not support item assignment"
     ]
    }
   ],
   "source": [
    "T[0] = 4\n",
    "#튜플은 내용 변경 불가능(상수적 성격)"
   ]
  },
  {
   "cell_type": "code",
   "execution_count": 62,
   "metadata": {
    "collapsed": false
   },
   "outputs": [
    {
     "name": "stdout",
     "output_type": "stream",
     "text": [
      "hana\n",
      "{'three': 'set', 'two': 'dul', 'one': 'hana'}\n",
      "['three', 'two', 'one']\n",
      "['set', 'dul', 'hana']\n",
      "[('three', 'set'), ('two', 'dul'), ('one', 'hana')]\n",
      "True\n",
      "False\n",
      "True\n"
     ]
    }
   ],
   "source": [
    "d = {'one':'hana', 'two':'dul', 'three':'set'} #키:값\n",
    "print d['one']\n",
    "len (d)\n",
    "\n",
    "print d\n",
    "print d.keys()\n",
    "print d.values()\n",
    "print d.items()\n",
    "\n",
    "print 'one' in d\n",
    "print 'hana' in d\n",
    "print 'hana' in d.values()"
   ]
  },
  {
   "cell_type": "code",
   "execution_count": 34,
   "metadata": {
    "collapsed": false
   },
   "outputs": [
    {
     "name": "stdout",
     "output_type": "stream",
     "text": [
      "{'four': 'net', 'three': 'set', 'two': 'dul', 'one': 'hana'}\n",
      "{'four': 'net', 'three': 'set', 'two': 'dul', 'one': 1}\n"
     ]
    }
   ],
   "source": [
    "d['four'] = 'net'\n",
    "print d\n",
    "d['one'] = 1\n",
    "print d"
   ]
  },
  {
   "cell_type": "code",
   "execution_count": 38,
   "metadata": {
    "collapsed": false
   },
   "outputs": [
    {
     "name": "stdout",
     "output_type": "stream",
     "text": [
      "<type 'int'>\n",
      "<type 'float'>\n",
      "<type 'str'>\n",
      "\n",
      "<type 'list'>\n",
      "<type 'tuple'>\n",
      "<type 'dict'>\n"
     ]
    }
   ],
   "source": [
    "print type(3)\n",
    "print type(3.0)\n",
    "print type('3')\n",
    "print\n",
    "print type([])\n",
    "print type(())\n",
    "print type({})"
   ]
  },
  {
   "cell_type": "code",
   "execution_count": 41,
   "metadata": {
    "collapsed": false
   },
   "outputs": [
    {
     "name": "stdout",
     "output_type": "stream",
     "text": [
      "<type 'NoneType'>\n",
      "<type 'NoneType'>\n"
     ]
    }
   ],
   "source": [
    "print type(None)\n",
    "a = None #아무값도 없다, 아무것도 아니다\n",
    "print type(a)"
   ]
  },
  {
   "cell_type": "code",
   "execution_count": 2,
   "metadata": {
    "collapsed": false
   },
   "outputs": [
    {
     "name": "stdout",
     "output_type": "stream",
     "text": [
      "51432400\n",
      "51432400\n",
      "51432304\n"
     ]
    }
   ],
   "source": [
    "a = 500\n",
    "b = a\n",
    "c = 500\n",
    "print id(a)\n",
    "print id(b)\n",
    "print id(c) # 자주 쓰지 않은 변수는 그때 그때 만든다"
   ]
  },
  {
   "cell_type": "code",
   "execution_count": 51,
   "metadata": {
    "collapsed": false
   },
   "outputs": [
    {
     "name": "stdout",
     "output_type": "stream",
     "text": [
      "6907024\n",
      "6907024\n",
      "\n",
      "51430744\n",
      "51432376\n",
      "\n",
      "51432352\n",
      "51432352\n"
     ]
    }
   ],
   "source": [
    "x = 1\n",
    "y = 1\n",
    "print id(x)\n",
    "print id(y) # 자주 쓰는 변수는 객체로 존재한다\n",
    "print\n",
    "x = 11384532\n",
    "y = 11384532\n",
    "print id(x)\n",
    "print id(y)\n",
    "print\n",
    "x = 11384532\n",
    "y = x\n",
    "print id(x)\n",
    "print id(y)"
   ]
  },
  {
   "cell_type": "code",
   "execution_count": 57,
   "metadata": {
    "collapsed": false
   },
   "outputs": [
    {
     "name": "stdout",
     "output_type": "stream",
     "text": [
      "False\n",
      "True\n",
      "True\n",
      "True\n"
     ]
    }
   ],
   "source": [
    "c = [1,2,3]\n",
    "d = [1,2,3]\n",
    "e = c\n",
    "print c is d # 동일한 객체인지\n",
    "print c is e\n",
    "print c==d # 객체의 값이 동일한지\n",
    "print c==e"
   ]
  }
 ],
 "metadata": {
  "kernelspec": {
   "display_name": "Python [Root]",
   "language": "python",
   "name": "Python [Root]"
  },
  "language_info": {
   "codemirror_mode": {
    "name": "ipython",
    "version": 2
   },
   "file_extension": ".py",
   "mimetype": "text/x-python",
   "name": "python",
   "nbconvert_exporter": "python",
   "pygments_lexer": "ipython2",
   "version": "2.7.12"
  }
 },
 "nbformat": 4,
 "nbformat_minor": 0
}
