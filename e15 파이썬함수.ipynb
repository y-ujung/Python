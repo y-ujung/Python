{
 "cells": [
  {
   "cell_type": "code",
   "execution_count": 2,
   "metadata": {
    "collapsed": false
   },
   "outputs": [
    {
     "name": "stdout",
     "output_type": "stream",
     "text": [
      "<function add at 0x00000000038E94A8>\n",
      "True\n"
     ]
    }
   ],
   "source": [
    "def add(a, b) : \n",
    "    return a+b\n",
    "\n",
    "print add\n",
    "f = add\n",
    "print f is add"
   ]
  },
  {
   "cell_type": "code",
   "execution_count": 14,
   "metadata": {
    "collapsed": false
   },
   "outputs": [
    {
     "name": "stdout",
     "output_type": "stream",
     "text": [
      "100\n",
      "200\n"
     ]
    }
   ],
   "source": [
    "# 함수 인자에 변경불가능 객체 전달 - 숫자, 문자열, 튜플\n",
    "def f1(b) : \n",
    "    b = 100\n",
    "    return b\n",
    "    \n",
    "a = 200\n",
    "f1(a)\n",
    "\n",
    "print f1(a)\n",
    "print a"
   ]
  },
  {
   "cell_type": "code",
   "execution_count": 17,
   "metadata": {
    "collapsed": false
   },
   "outputs": [
    {
     "name": "stdout",
     "output_type": "stream",
     "text": [
      "[4, 500, 6]\n",
      "[4, 500, 6]\n"
     ]
    }
   ],
   "source": [
    "# 함수 인자에 변경가능 객체 전달 - 리스트, 사전\n",
    "def f2(y) : \n",
    "    y[1] = 500\n",
    "    return y\n",
    "    \n",
    "x = [4,5,6]\n",
    "f2(x)\n",
    "\n",
    "print f2(x)\n",
    "print x"
   ]
  },
  {
   "cell_type": "code",
   "execution_count": 23,
   "metadata": {
    "collapsed": false
   },
   "outputs": [
    {
     "name": "stdout",
     "output_type": "stream",
     "text": [
      "1. snack\n",
      "2. snake\n",
      "\n",
      "1. snack\n",
      "2. snake\n",
      "def print\n"
     ]
    }
   ],
   "source": [
    "def print_menu() : \n",
    "    print '1. snack'\n",
    "    print '2. snake'\n",
    "    return 'def print'\n",
    "    \n",
    "print_menu()\n",
    "print\n",
    "print print_menu()"
   ]
  },
  {
   "cell_type": "code",
   "execution_count": 22,
   "metadata": {
    "collapsed": false
   },
   "outputs": [
    {
     "name": "stdout",
     "output_type": "stream",
     "text": [
      "1. snack\n",
      "2. snake\n",
      "\n",
      "1. snack\n",
      "2. snake\n",
      "None\n"
     ]
    }
   ],
   "source": [
    "def print_menu() : \n",
    "    print '1. snack'\n",
    "    print '2. snake'\n",
    "    \n",
    "print_menu()\n",
    "print\n",
    "print print_menu()"
   ]
  },
  {
   "cell_type": "code",
   "execution_count": 25,
   "metadata": {
    "collapsed": false
   },
   "outputs": [
    {
     "name": "stdout",
     "output_type": "stream",
     "text": [
      "(20, 10)\n",
      "20 10\n"
     ]
    }
   ],
   "source": [
    "def swap(x, y) :\n",
    "    return y, x\n",
    "\n",
    "a = 10\n",
    "b = 20\n",
    "\n",
    "x = swap(a,b)\n",
    "print x\n",
    "print x[0], x[1]"
   ]
  },
  {
   "cell_type": "code",
   "execution_count": 33,
   "metadata": {
    "collapsed": false
   },
   "outputs": [
    {
     "name": "stdout",
     "output_type": "stream",
     "text": [
      "2\n",
      "15\n",
      "114\n",
      "30\n"
     ]
    }
   ],
   "source": [
    "def incr(a, step=1) : \n",
    "    return a + step\n",
    "\n",
    "print incr(1)\n",
    "print incr(10, 5)\n",
    "\n",
    "def incr2(a, step1=1, step2=10, step3=100) : \n",
    "    return a+step1+step2+step3\n",
    "\n",
    "print incr2(10, 2, step2=2)\n",
    "print incr2(10, step3= 9)"
   ]
  },
  {
   "cell_type": "code",
   "execution_count": 35,
   "metadata": {
    "collapsed": false
   },
   "outputs": [
    {
     "ename": "SyntaxError",
     "evalue": "non-keyword arg after keyword arg (<ipython-input-35-d179d75a4c21>, line 1)",
     "output_type": "error",
     "traceback": [
      "\u001b[1;36m  File \u001b[1;32m\"<ipython-input-35-d179d75a4c21>\"\u001b[1;36m, line \u001b[1;32m1\u001b[0m\n\u001b[1;33m    print incr2(10, step2 = 4, 40)\u001b[0m\n\u001b[1;31mSyntaxError\u001b[0m\u001b[1;31m:\u001b[0m non-keyword arg after keyword arg\n"
     ]
    }
   ],
   "source": [
    "print incr2(10, step2 = 4, 40)\n",
    "# 키워드 인수 뒤에는 일반 인수 못 온다"
   ]
  },
  {
   "cell_type": "code",
   "execution_count": 36,
   "metadata": {
    "collapsed": false
   },
   "outputs": [
    {
     "name": "stdout",
     "output_type": "stream",
     "text": [
      "string string string \n",
      "HA HA HA HA HA \n",
      "15\n"
     ]
    }
   ],
   "source": [
    "def area(h, w) : \n",
    "    return h * w\n",
    "\n",
    "print area(h='string ', w=3)\n",
    "print area(w=5, h='HA ')\n",
    "print area(3, 5)"
   ]
  },
  {
   "cell_type": "code",
   "execution_count": 40,
   "metadata": {
    "collapsed": false
   },
   "outputs": [
    {
     "name": "stdout",
     "output_type": "stream",
     "text": [
      "1 ()\n",
      "1 (2,)\n",
      "1 (2, 3, 4, 5)\n"
     ]
    }
   ],
   "source": [
    "def varg(a, *arg) : #가변 인수를 받겠다는 의미\n",
    "    print a, arg\n",
    "\n",
    "varg(1)\n",
    "varg(1, 2)\n",
    "varg(1, 2, 3, 4, 5)"
   ]
  },
  {
   "cell_type": "code",
   "execution_count": 46,
   "metadata": {
    "collapsed": false
   },
   "outputs": [
    {
     "name": "stdout",
     "output_type": "stream",
     "text": [
      "6 day and 5 night\n",
      "6 day and 5 night 90\n"
     ]
    }
   ],
   "source": [
    "def printf(form, *arg) : \n",
    "    print form % arg #포맷팅 문자, 튜플\n",
    "    \n",
    "printf(\"%d day and %d night\", 6, 5)\n",
    "printf(\"%d day and %d night %d\", 6, 5, 90)"
   ]
  },
  {
   "cell_type": "code",
   "execution_count": 55,
   "metadata": {
    "collapsed": false
   },
   "outputs": [
    {
     "name": "stdout",
     "output_type": "stream",
     "text": [
      "1 2 3\n",
      "1 2 3\n",
      "a c b\n",
      "1 2 3\n"
     ]
    }
   ],
   "source": [
    "def h(a, b, c) : \n",
    "    print a, b, c\n",
    "    \n",
    "arg1 = [1, 2, 3]\n",
    "h(*arg1)\n",
    "\n",
    "arg2 = (1, 2, 3)\n",
    "h(*arg2)\n",
    "\n",
    "arg3 = {'a':1, 'b':2, 'c':3}\n",
    "h(*arg3)\n",
    "h(**arg3) #값 넣으려면 * 두개"
   ]
  }
 ],
 "metadata": {
  "kernelspec": {
   "display_name": "Python [Root]",
   "language": "python",
   "name": "Python [Root]"
  },
  "language_info": {
   "codemirror_mode": {
    "name": "ipython",
    "version": 2
   },
   "file_extension": ".py",
   "mimetype": "text/x-python",
   "name": "python",
   "nbconvert_exporter": "python",
   "pygments_lexer": "ipython2",
   "version": "2.7.12"
  }
 },
 "nbformat": 4,
 "nbformat_minor": 0
}
