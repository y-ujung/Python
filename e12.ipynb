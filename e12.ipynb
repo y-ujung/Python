{
 "cells": [
  {
   "cell_type": "code",
   "execution_count": 72,
   "metadata": {
    "collapsed": false
   },
   "outputs": [
    {
     "name": "stdout",
     "output_type": "stream",
     "text": [
      "{'volleball': 6, 'soccer': 11, 'basketball': 5}\n",
      "3\n"
     ]
    }
   ],
   "source": [
    "member = {'basketball' : 5, 'soccer' : 11, 'baseball' : 9}\n",
    "member['volleball']=7 # 추가\n",
    "member['volleball']=6 # 변경\n",
    "del member ['baseball'] # 삭제\n",
    "\n",
    "print member # 임의의 순서로 저장되어있음\n",
    "print len(member)"
   ]
  },
  {
   "cell_type": "code",
   "execution_count": 73,
   "metadata": {
    "collapsed": false
   },
   "outputs": [
    {
     "name": "stdout",
     "output_type": "stream",
     "text": [
      "11\n",
      "None\n",
      "존재하지 않습니다\n"
     ]
    }
   ],
   "source": [
    "print member.get('soccer')\n",
    "print member.get('a')\n",
    "print member.get('a', '존재하지 않습니다')"
   ]
  },
  {
   "cell_type": "code",
   "execution_count": 74,
   "metadata": {
    "collapsed": false
   },
   "outputs": [
    {
     "name": "stdout",
     "output_type": "stream",
     "text": [
      "{'volleball': 6, 'soccer': 11, 'basketball': 5}\n",
      "('volleball', 6)\n",
      "{'soccer': 11, 'basketball': 5}\n",
      "11\n",
      "{'basketball': 5}\n"
     ]
    }
   ],
   "source": [
    "print member\n",
    "\n",
    "print member.popitem()\n",
    "print member\n",
    "\n",
    "print member.pop('soccer')\n",
    "print member"
   ]
  },
  {
   "cell_type": "code",
   "execution_count": 75,
   "metadata": {
    "collapsed": false
   },
   "outputs": [
    {
     "name": "stdout",
     "output_type": "stream",
     "text": [
      "{'volleball': 7, 'soccer': 11, 'basketball': 5, 'baseball': 9}\n"
     ]
    }
   ],
   "source": [
    "member = {'basketball' : 5, 'soccer' : 11, 'baseball' : 9}\n",
    "member2 = {'volleball' : 7}\n",
    "\n",
    "member.update(member2)\n",
    "print member"
   ]
  },
  {
   "cell_type": "code",
   "execution_count": 76,
   "metadata": {
    "collapsed": false
   },
   "outputs": [
    {
     "ename": "TypeError",
     "evalue": "'builtin_function_or_method' object has no attribute '__getitem__'",
     "output_type": "error",
     "traceback": [
      "\u001b[1;31m---------------------------------------------------------------------------\u001b[0m",
      "\u001b[1;31mTypeError\u001b[0m                                 Traceback (most recent call last)",
      "\u001b[1;32m<ipython-input-76-9e35d1a3262b>\u001b[0m in \u001b[0;36m<module>\u001b[1;34m()\u001b[0m\n\u001b[1;32m----> 1\u001b[1;33m \u001b[1;32mprint\u001b[0m \u001b[0mmember\u001b[0m\u001b[1;33m.\u001b[0m\u001b[0mget\u001b[0m\u001b[1;33m[\u001b[0m\u001b[1;34m'soccer'\u001b[0m\u001b[1;33m]\u001b[0m\u001b[1;33m\u001b[0m\u001b[0m\n\u001b[0m\u001b[0;32m      2\u001b[0m \u001b[1;32mprint\u001b[0m \u001b[0mmember\u001b[0m\u001b[1;33m.\u001b[0m\u001b[0mget\u001b[0m\u001b[1;33m[\u001b[0m\u001b[1;34m'a'\u001b[0m\u001b[1;33m]\u001b[0m \u001b[1;31m#에러 발생!\u001b[0m\u001b[1;33m\u001b[0m\u001b[0m\n",
      "\u001b[1;31mTypeError\u001b[0m: 'builtin_function_or_method' object has no attribute '__getitem__'"
     ]
    }
   ],
   "source": [
    "print member.get['soccer']\n",
    "print member.get['a'] #에러 발생!"
   ]
  },
  {
   "cell_type": "code",
   "execution_count": 77,
   "metadata": {
    "collapsed": false
   },
   "outputs": [],
   "source": [
    "d = {}\n",
    "#변경 불가능한 타입만 가능\n",
    "d['abc'] = 'str'\n",
    "d[1] = 'int'\n",
    "d[(1,2,3)]='tuple'"
   ]
  },
  {
   "cell_type": "code",
   "execution_count": 78,
   "metadata": {
    "collapsed": false
   },
   "outputs": [
    {
     "ename": "TypeError",
     "evalue": "unhashable type: 'list'",
     "output_type": "error",
     "traceback": [
      "\u001b[1;31m---------------------------------------------------------------------------\u001b[0m",
      "\u001b[1;31mTypeError\u001b[0m                                 Traceback (most recent call last)",
      "\u001b[1;32m<ipython-input-78-b6edebb50e59>\u001b[0m in \u001b[0;36m<module>\u001b[1;34m()\u001b[0m\n\u001b[1;32m----> 1\u001b[1;33m \u001b[0md\u001b[0m\u001b[1;33m[\u001b[0m\u001b[1;33m[\u001b[0m\u001b[1;36m1\u001b[0m\u001b[1;33m,\u001b[0m\u001b[1;36m2\u001b[0m\u001b[1;33m,\u001b[0m\u001b[1;36m3\u001b[0m\u001b[1;33m]\u001b[0m\u001b[1;33m]\u001b[0m\u001b[1;33m=\u001b[0m\u001b[1;34m'list'\u001b[0m \u001b[1;31m#리스트는 키 값 안됨\u001b[0m\u001b[1;33m\u001b[0m\u001b[0m\n\u001b[0m",
      "\u001b[1;31mTypeError\u001b[0m: unhashable type: 'list'"
     ]
    }
   ],
   "source": [
    "d[[1,2,3]]='list' #리스트는 키 값 안됨"
   ]
  },
  {
   "cell_type": "code",
   "execution_count": 79,
   "metadata": {
    "collapsed": false
   },
   "outputs": [
    {
     "ename": "TypeError",
     "evalue": "unhashable type: 'dict'",
     "output_type": "error",
     "traceback": [
      "\u001b[1;31m---------------------------------------------------------------------------\u001b[0m",
      "\u001b[1;31mTypeError\u001b[0m                                 Traceback (most recent call last)",
      "\u001b[1;32m<ipython-input-79-e38504809772>\u001b[0m in \u001b[0;36m<module>\u001b[1;34m()\u001b[0m\n\u001b[1;32m----> 1\u001b[1;33m \u001b[0md\u001b[0m\u001b[1;33m[\u001b[0m\u001b[1;33m{\u001b[0m\u001b[1;36m1\u001b[0m\u001b[1;33m:\u001b[0m\u001b[1;36m2\u001b[0m\u001b[1;33m}\u001b[0m\u001b[1;33m]\u001b[0m\u001b[1;33m=\u001b[0m\u001b[1;34m'dic'\u001b[0m \u001b[1;31m#사전은 키 값 안됨\u001b[0m\u001b[1;33m\u001b[0m\u001b[0m\n\u001b[0m",
      "\u001b[1;31mTypeError\u001b[0m: unhashable type: 'dict'"
     ]
    }
   ],
   "source": [
    "d[{1:2}]='dic' #사전은 키 값 안됨"
   ]
  },
  {
   "cell_type": "code",
   "execution_count": 80,
   "metadata": {
    "collapsed": false
   },
   "outputs": [
    {
     "name": "stdout",
     "output_type": "stream",
     "text": [
      "11\n",
      "1\n",
      "-1\n"
     ]
    }
   ],
   "source": [
    "def add(a, b) :\n",
    "    return a + b\n",
    "\n",
    "def sub(a, b) :\n",
    "    return a - b\n",
    "\n",
    "action = {0 : add, 1 : sub}\n",
    "action2 = {add : 1, sub : 2}\n",
    "\n",
    "print action[0](4, 7)\n",
    "print action2[add]\n",
    "print action[action2[add]](4, 5)"
   ]
  },
  {
   "cell_type": "code",
   "execution_count": 81,
   "metadata": {
    "collapsed": false
   },
   "outputs": [
    {
     "name": "stdout",
     "output_type": "stream",
     "text": [
      "<type 'dict'>\n",
      "{'two': 2, 'one': 1}\n",
      "{'two': 2, 'one': 1}\n",
      "{'two': 2, 'one': 1}\n"
     ]
    }
   ],
   "source": [
    "D = dict() #공백 사전\n",
    "print type(D)\n",
    "\n",
    "print dict(one=1, two=2)\n",
    "print dict([('one',1), ('two', 2)])\n",
    "print dict((('one',1), ('two', 2)))"
   ]
  },
  {
   "cell_type": "code",
   "execution_count": 82,
   "metadata": {
    "collapsed": false
   },
   "outputs": [
    {
     "name": "stdout",
     "output_type": "stream",
     "text": [
      "[('one', 1), ('two', 2), ('three', 3)]\n",
      "{'three': 3, 'two': 2, 'one': 1}\n"
     ]
    }
   ],
   "source": [
    "keys = ['one', 'two', 'three']\n",
    "values = (1, 2, 3)\n",
    "print zip(keys, values) # 타입 : 리스트\n",
    "print dict(zip(keys, values))"
   ]
  },
  {
   "cell_type": "code",
   "execution_count": 83,
   "metadata": {
    "collapsed": false
   },
   "outputs": [
    {
     "name": "stdout",
     "output_type": "stream",
     "text": [
      "['soccer', 'basketball', 'baseball']\n",
      "[11, 5, 9]\n",
      "[('soccer', 11), ('basketball', 5), ('baseball', 9)]\n"
     ]
    }
   ],
   "source": [
    "member = {'basketball' : 5, 'soccer' : 11, 'baseball' : 9}\n",
    "\n",
    "print member.keys()\n",
    "print member.values()\n",
    "print member.items()"
   ]
  },
  {
   "cell_type": "code",
   "execution_count": 84,
   "metadata": {
    "collapsed": false,
    "scrolled": true
   },
   "outputs": [
    {
     "name": "stdout",
     "output_type": "stream",
     "text": [
      "True\n",
      "True\n",
      "False\n",
      "True\n",
      "{'volleball': 7, 'soccer': 11, 'basketball': 5, 'baseball': 9}\n",
      "{'basketball': 5, 'soccer': 11, 'baseball': 9}\n"
     ]
    }
   ],
   "source": [
    "mem1 = member #레퍼런스 복사. 객체 공유\n",
    "print mem1 is member\n",
    "print mem1 == member\n",
    "\n",
    "mem2 = member.copy() # 별도의 객체 생성. shallow copy <-> deep copy\n",
    "print mem2 is member\n",
    "print mem2 == member\n",
    "\n",
    "member['volleball']=7\n",
    "print mem1\n",
    "print mem2"
   ]
  },
  {
   "cell_type": "code",
   "execution_count": 85,
   "metadata": {
    "collapsed": false
   },
   "outputs": [
    {
     "name": "stdout",
     "output_type": "stream",
     "text": [
      "{'a': [1, '222', 3], 'c': 9, 'b': 'str'}\n",
      "{'a': [1, '222', 3], 'c': 9, 'b': 'str'}\n",
      "{'a': [1, '222', 3], 'c': 9, 'b': 'str'}\n"
     ]
    }
   ],
   "source": [
    "num = {'a' : [1,2,3], 'b' : 'str', 'c' : 9}\n",
    "\n",
    "num1 = num\n",
    "num2 = num.copy()\n",
    "\n",
    "num['a'][1]='222'\n",
    "print num\n",
    "print num1\n",
    "print num2"
   ]
  },
  {
   "cell_type": "code",
   "execution_count": 94,
   "metadata": {
    "collapsed": false
   },
   "outputs": [],
   "source": [
    "mem = {'basketball' : 5, 'soccer' : 11, 'baseball' : 9}"
   ]
  },
  {
   "cell_type": "code",
   "execution_count": 95,
   "metadata": {
    "collapsed": false
   },
   "outputs": [
    {
     "name": "stdout",
     "output_type": "stream",
     "text": [
      "soccer 11\n",
      "basketball 5\n",
      "baseball 9\n"
     ]
    }
   ],
   "source": [
    "for key in mem :\n",
    "    print key, mem[key]"
   ]
  },
  {
   "cell_type": "code",
   "execution_count": 96,
   "metadata": {
    "collapsed": false
   },
   "outputs": [
    {
     "ename": "ValueError",
     "evalue": "too many values to unpack",
     "output_type": "error",
     "traceback": [
      "\u001b[1;31m---------------------------------------------------------------------------\u001b[0m",
      "\u001b[1;31mValueError\u001b[0m                                Traceback (most recent call last)",
      "\u001b[1;32m<ipython-input-96-d659f1b99bac>\u001b[0m in \u001b[0;36m<module>\u001b[1;34m()\u001b[0m\n\u001b[1;32m----> 1\u001b[1;33m \u001b[1;32mfor\u001b[0m \u001b[0mkey\u001b[0m\u001b[1;33m,\u001b[0m \u001b[0mvalue\u001b[0m \u001b[1;32min\u001b[0m \u001b[0mmem\u001b[0m \u001b[1;33m:\u001b[0m\u001b[1;33m\u001b[0m\u001b[0m\n\u001b[0m\u001b[0;32m      2\u001b[0m     \u001b[1;32mprint\u001b[0m \u001b[0mkey\u001b[0m\u001b[1;33m,\u001b[0m \u001b[0mvalue\u001b[0m\u001b[1;33m\u001b[0m\u001b[0m\n",
      "\u001b[1;31mValueError\u001b[0m: too many values to unpack"
     ]
    }
   ],
   "source": [
    "for key, value in mem :\n",
    "    print key, value"
   ]
  },
  {
   "cell_type": "code",
   "execution_count": 93,
   "metadata": {
    "collapsed": false
   },
   "outputs": [
    {
     "name": "stdout",
     "output_type": "stream",
     "text": [
      "soccer 11\n",
      "basketball 5\n",
      "baseball 9\n"
     ]
    }
   ],
   "source": [
    "for key, value in mem.items() :\n",
    "    print key, value"
   ]
  },
  {
   "cell_type": "code",
   "execution_count": 101,
   "metadata": {
    "collapsed": false
   },
   "outputs": [
    {
     "name": "stdout",
     "output_type": "stream",
     "text": [
      "{'soccer': 11, 'basketball': 5, 'baseball': 9}\n",
      "[('soccer', 11), ('basketball', 5), ('baseball', 9)]\n",
      "[('baseball', 9), ('basketball', 5), ('soccer', 11)]\n",
      "baseball 9\n",
      "basketball 5\n",
      "soccer 11\n"
     ]
    }
   ],
   "source": [
    "#사전의 내용을 키 값으로 정렬하여 출력하기\n",
    "print mem\n",
    "\n",
    "items = mem.items()\n",
    "print items\n",
    "\n",
    "items.sort()\n",
    "print items\n",
    "\n",
    "for k, v in items : \n",
    "    print k, v"
   ]
  },
  {
   "cell_type": "code",
   "execution_count": null,
   "metadata": {
    "collapsed": true
   },
   "outputs": [],
   "source": []
  }
 ],
 "metadata": {
  "kernelspec": {
   "display_name": "Python [Root]",
   "language": "python",
   "name": "Python [Root]"
  },
  "language_info": {
   "codemirror_mode": {
    "name": "ipython",
    "version": 2
   },
   "file_extension": ".py",
   "mimetype": "text/x-python",
   "name": "python",
   "nbconvert_exporter": "python",
   "pygments_lexer": "ipython2",
   "version": "2.7.12"
  }
 },
 "nbformat": 4,
 "nbformat_minor": 0
}
