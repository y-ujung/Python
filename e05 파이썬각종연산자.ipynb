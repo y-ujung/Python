{
 "cells": [
  {
   "cell_type": "code",
   "execution_count": 46,
   "metadata": {
    "collapsed": false
   },
   "outputs": [
    {
     "name": "stdout",
     "output_type": "stream",
     "text": [
      "-1\n",
      "-1\n",
      "-1\n",
      "-2\n"
     ]
    }
   ],
   "source": [
    "print 5 % -3\n",
    "print -3 / 4\n",
    "print -(7 / 4)\n",
    "print -5 / 3"
   ]
  },
  {
   "cell_type": "code",
   "execution_count": 34,
   "metadata": {
    "collapsed": false
   },
   "outputs": [
    {
     "name": "stdout",
     "output_type": "stream",
     "text": [
      "1\n",
      "1\n",
      "1.33333333333\n",
      "1.0\n"
     ]
    }
   ],
   "source": [
    "# / division\n",
    "# // floor division\n",
    "\n",
    "print 4 / 3\n",
    "print 4 // 3 # 정수로 떨어지는 경우에는 답이 같다\n",
    "\n",
    "print 4.0 / 3\n",
    "print 4.0 // 3"
   ]
  },
  {
   "cell_type": "code",
   "execution_count": 3,
   "metadata": {
    "collapsed": false
   },
   "outputs": [
    {
     "name": "stdout",
     "output_type": "stream",
     "text": [
      "512\n",
      "64\n"
     ]
    }
   ],
   "source": [
    "print 2 ** 3 ** 2 # 2 **9\n",
    "print (2 ** 3) ** 2 #  8 ** 2"
   ]
  },
  {
   "cell_type": "code",
   "execution_count": 43,
   "metadata": {
    "collapsed": false
   },
   "outputs": [
    {
     "name": "stdout",
     "output_type": "stream",
     "text": [
      "False\n",
      "True\n",
      "True\n",
      "False\n",
      "True\n",
      "True\n"
     ]
    }
   ],
   "source": [
    "print 'abc' > 'abd'\n",
    "print (1,3,4) < (2,1,2)\n",
    "print [1, 2] > [1]\n",
    "print 'ㄱㄴ' > 'ㄱㄷ'\n",
    "print '우유' > '우요'\n",
    "print () > [] and [] > {}"
   ]
  },
  {
   "cell_type": "code",
   "execution_count": 22,
   "metadata": {
    "collapsed": false
   },
   "outputs": [
    {
     "name": "stdout",
     "output_type": "stream",
     "text": [
      "True\n",
      "2\n",
      "0\n",
      "1\n",
      "2\n"
     ]
    }
   ],
   "source": [
    "a = 20\n",
    "b = 30\n",
    "print a > 10 and b < 50\n",
    "\n",
    "# and 자체가 값을 반환하지 않는다. 더 진행할지 진행하지 않을지만 결정\n",
    "# 논리 연산을 따라 값이 반환된다.\n",
    "print 1 and 2\n",
    "print 0 and 2\n",
    "print 1 or 2\n",
    "print 0 or 2"
   ]
  },
  {
   "cell_type": "code",
   "execution_count": 7,
   "metadata": {
    "collapsed": false
   },
   "outputs": [
    {
     "name": "stdout",
     "output_type": "stream",
     "text": [
      "True\n",
      "False\n",
      "True\n",
      "True\n"
     ]
    }
   ],
   "source": [
    "x =[1,2,3]\n",
    "y =[1,2,3]\n",
    "z = y\n",
    "\n",
    "print x == y\n",
    "print x is y\n",
    "print y is z\n",
    "print y is z"
   ]
  },
  {
   "cell_type": "code",
   "execution_count": 28,
   "metadata": {
    "collapsed": false
   },
   "outputs": [
    {
     "name": "stdout",
     "output_type": "stream",
     "text": [
      "2\n",
      "1\n"
     ]
    }
   ],
   "source": [
    "# True = 1\n",
    "# False = 0\n",
    "print True+1\n",
    "print False+1"
   ]
  },
  {
   "cell_type": "code",
   "execution_count": 8,
   "metadata": {
    "collapsed": false
   },
   "outputs": [
    {
     "name": "stdout",
     "output_type": "stream",
     "text": [
      "False\n",
      "False\n",
      "True\n"
     ]
    }
   ],
   "source": [
    "print bool(0)\n",
    "print bool(0.0)\n",
    "print bool(2)"
   ]
  },
  {
   "cell_type": "code",
   "execution_count": 14,
   "metadata": {
    "collapsed": false
   },
   "outputs": [
    {
     "name": "stdout",
     "output_type": "stream",
     "text": [
      "False\n",
      "False\n",
      "True\n",
      "True\n"
     ]
    }
   ],
   "source": [
    "#빈 객체나 None 객체는 False\n",
    "print bool(None)\n",
    "print bool('')\n",
    "print bool([''])\n",
    "print bool([()]) #오잉!?"
   ]
  },
  {
   "cell_type": "code",
   "execution_count": 11,
   "metadata": {
    "collapsed": false
   },
   "outputs": [
    {
     "name": "stdout",
     "output_type": "stream",
     "text": [
      "False\n",
      "False\n"
     ]
    }
   ],
   "source": [
    "print not(True)\n",
    "print not True # not은 키워드!"
   ]
  }
 ],
 "metadata": {
  "anaconda-cloud": {},
  "kernelspec": {
   "display_name": "Python [Root]",
   "language": "python",
   "name": "Python [Root]"
  },
  "language_info": {
   "codemirror_mode": {
    "name": "ipython",
    "version": 2
   },
   "file_extension": ".py",
   "mimetype": "text/x-python",
   "name": "python",
   "nbconvert_exporter": "python",
   "pygments_lexer": "ipython2",
   "version": "2.7.12"
  }
 },
 "nbformat": 4,
 "nbformat_minor": 0
}
